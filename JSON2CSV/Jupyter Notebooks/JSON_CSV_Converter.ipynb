{
 "cells": [
  {
   "cell_type": "code",
   "execution_count": 12,
   "metadata": {},
   "outputs": [
    {
     "name": "stdout",
     "output_type": "stream",
     "text": [
      "Welcome to the JSON-CSV Converter.\n",
      "This script will convert a JSON file to CSV or a CSV file to JSON\n",
      "Which file do you want to convert?\n"
     ]
    },
    {
     "name": "stdin",
     "output_type": "stream",
     "text": [
      "Filename:  goNoGo.json\n"
     ]
    },
    {
     "name": "stdout",
     "output_type": "stream",
     "text": [
      "Error loading file ... exiting: Extra data: line 2 column 1 (char 186353)\n"
     ]
    },
    {
     "name": "stderr",
     "output_type": "stream",
     "text": [
      "ERROR:root:Invalid alias: The name clear can't be aliased because it is another magic command.\n",
      "ERROR:root:Invalid alias: The name more can't be aliased because it is another magic command.\n",
      "ERROR:root:Invalid alias: The name less can't be aliased because it is another magic command.\n",
      "ERROR:root:Invalid alias: The name man can't be aliased because it is another magic command.\n"
     ]
    }
   ],
   "source": [
    "import os\n",
    "import csv\n",
    "import json\n",
    "from collections import OrderedDict\n",
    "\n",
    "print(\"Welcome to the JSON-CSV Converter.\")\n",
    "print(\"This script will convert a JSON file to CSV or a CSV file to JSON\")\n",
    "\n",
    "# SELECT AND OPEN A CSV OR JSON FILE\n",
    "try:\n",
    "    print(\"Which file do you want to convert?\")\n",
    "    filename = input(\"Filename: \")\n",
    "    extension = filename.split(\".\")[-1].lower()\n",
    "    \n",
    "    f = open(filename)\n",
    "\n",
    "    if extension == \"csv\":\n",
    "        # load csv file\n",
    "        data = list(csv.reader(f))\n",
    "        print(\"CSV file loaded\")\n",
    "    elif extension == \"json\":\n",
    "        # load json file\n",
    "        data = json.load(f,object_pairs_hook=OrderedDict)\n",
    "        print(\"JSON file loaded\")\n",
    "    else:\n",
    "        print(\"unsupported file type ... exiting\")\n",
    "        exit()\n",
    "except Exception as e:\n",
    "    # error loading file\n",
    "    print(\"Error loading file ... exiting:\",e)\n",
    "    exit()\n",
    "else:\n",
    "    # CONVERT CSV TO JSON\n",
    "    if extension == \"csv\":\n",
    "        keys = data[0]\n",
    "        converted = []\n",
    "\n",
    "        for i in range(1, len(data)):\n",
    "            obj = OrderedDict()\n",
    "            for j in range(0,len(keys)):\n",
    "                if len(data[i][j]) > 0:\n",
    "                    obj[keys[j]] = data[i][j]\n",
    "                else:\n",
    "                    obj[keys[j]] = None\n",
    "            converted.append(obj)\n",
    "        \n",
    "    # CONVERT JSON TO CSV\n",
    "    if extension == \"json\":\n",
    "\n",
    "        # get all keys in json objects\n",
    "        keys = []\n",
    "        for i in range(0,len(data)):\n",
    "            for j in data[i]:\n",
    "                if j not in keys:\n",
    "                    keys.append(j)\n",
    "        \n",
    "        # map data in each row to key index\n",
    "        converted = []\n",
    "        converted.append(keys)\n",
    "\n",
    "        for i in range(0,len(data)):\n",
    "            row = []\n",
    "            for j in range(0,len(keys)):\n",
    "                if keys[j] in data[i]:\n",
    "                    row.append(data[i][keys[j]])\n",
    "                else:\n",
    "                    row.append(None)\n",
    "            converted.append(row)\n",
    "\n",
    "    # CREATE OUTPUT FILE\n",
    "    converted_file_basename = os.path.basename(filename).split(\".\")[0]\n",
    "    converted_file_extension = \".json\" if extension == \"csv\" else \".csv\"\n",
    "\n",
    "    if(os.path.isfile(converted_file_basename + converted_file_extension)):\n",
    "        counter = 1\n",
    "        while os.path.isfile(converted_file_basename + \" (\" + str(counter) + \")\" + converted_file_extension):\n",
    "            counter += 1\n",
    "        converted_file_basename = converted_file_basename + \" (\" + str(counter) + \")\"\n",
    "    \n",
    "    try:\n",
    "        if converted_file_extension == \".json\":\n",
    "            with open(converted_file_basename + converted_file_extension, 'w') as outfile:\n",
    "                json.dump(converted, outfile)\n",
    "        elif converted_file_extension == \".csv\":\n",
    "            with open(converted_file_basename + converted_file_extension, 'w') as outfile:\n",
    "                writer = csv.writer(outfile)\n",
    "                writer.writerows(converted)\n",
    "    except:\n",
    "        print(\"Error creating file ... exiting\")\n",
    "    else:\n",
    "        print(\"File created:\",converted_file_basename + converted_file_extension)"
   ]
  },
  {
   "cell_type": "code",
   "execution_count": null,
   "metadata": {},
   "outputs": [],
   "source": []
  }
 ],
 "metadata": {
  "kernelspec": {
   "display_name": "Python 3",
   "language": "python",
   "name": "python3"
  },
  "language_info": {
   "codemirror_mode": {
    "name": "ipython",
    "version": 3
   },
   "file_extension": ".py",
   "mimetype": "text/x-python",
   "name": "python",
   "nbconvert_exporter": "python",
   "pygments_lexer": "ipython3",
   "version": "3.7.3"
  }
 },
 "nbformat": 4,
 "nbformat_minor": 2
}
