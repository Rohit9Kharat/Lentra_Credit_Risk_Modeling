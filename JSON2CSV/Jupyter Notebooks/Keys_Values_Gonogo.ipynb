{
 "cells": [
  {
   "cell_type": "code",
   "execution_count": 1,
   "metadata": {},
   "outputs": [],
   "source": [
    "import json"
   ]
  },
  {
   "cell_type": "code",
   "execution_count": 8,
   "metadata": {},
   "outputs": [],
   "source": [
    "with open('first_doc.json') as f:\n",
    "    data = json.load(f)"
   ]
  },
  {
   "cell_type": "code",
   "execution_count": 11,
   "metadata": {},
   "outputs": [],
   "source": [
    "keys, values = map(list, zip(*data.items()))"
   ]
  },
  {
   "cell_type": "code",
   "execution_count": 12,
   "metadata": {},
   "outputs": [
    {
     "name": "stdout",
     "output_type": "stream",
     "text": [
      "['_id', 'actionList', 'intrimStatus', 'parentID', 'rootID', 'productSequenceNumber', 'dateTime', 'applicationStatus', 'statusFlag', 'reInitiateCount', 'reappraiseReq', 'reProcessCount', 'applicationRequest', 'applicantComponentResponse', 'applicantComponentResponseList', 'croDecisions', 'negativePincode', 'applScoreVector', 'dedupedApplications', 'croJustification', 'subProcesses', 'interimStatusList', 'finalApplicationStatus', 'isEditable', 'multiBREDetails', 'tvrDataList', 'applicantsSubProcess', 'componentModule', 'componentList', 'interfaceName', 'createdDate', 'createdBy', 'updatedDate', 'updateBy', 'version']\n"
     ]
    }
   ],
   "source": [
    "print(keys)"
   ]
  },
  {
   "cell_type": "raw",
   "metadata": {},
   "source": [
    "print(values)"
   ]
  },
  {
   "cell_type": "code",
   "execution_count": null,
   "metadata": {},
   "outputs": [],
   "source": []
  }
 ],
 "metadata": {
  "kernelspec": {
   "display_name": "Python 3",
   "language": "python",
   "name": "python3"
  },
  "language_info": {
   "codemirror_mode": {
    "name": "ipython",
    "version": 3
   },
   "file_extension": ".py",
   "mimetype": "text/x-python",
   "name": "python",
   "nbconvert_exporter": "python",
   "pygments_lexer": "ipython3",
   "version": "3.7.3"
  }
 },
 "nbformat": 4,
 "nbformat_minor": 2
}
