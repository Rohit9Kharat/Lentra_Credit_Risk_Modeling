{
 "cells": [
  {
   "cell_type": "markdown",
   "metadata": {},
   "source": [
    "## 1.) Imports"
   ]
  },
  {
   "cell_type": "code",
   "execution_count": 71,
   "metadata": {},
   "outputs": [],
   "source": [
    "import numpy as np\n",
    "from numpy import mean\n",
    "from numpy import std\n",
    "import pandas as pd\n",
    "\n",
    "from scipy import stats \n",
    "from scipy.stats import boxcox\n",
    "\n",
    "import math\n",
    "\n",
    "import matplotlib.pyplot as plt\n",
    "import seaborn as sns\n",
    "\n",
    "#from sklearn.experimental import enable_iterative_imputer\n",
    "#from sklearn.impute import IterativeImputer\n",
    "\n",
    "from sklearn import preprocessing\n",
    "from sklearn.preprocessing import StandardScaler\n",
    "from sklearn.preprocessing import MinMaxScaler\n",
    "\n",
    "from sklearn.pipeline import Pipeline\n",
    "\n",
    "from sklearn.model_selection import train_test_split\n",
    "from sklearn.model_selection import RepeatedStratifiedKFold\n",
    "from sklearn.model_selection import cross_val_score\n",
    "\n",
    "from sklearn.feature_selection import SelectKBest\n",
    "from sklearn.feature_selection import chi2\n",
    "from sklearn.feature_selection import RFE\n",
    "\n",
    "from sklearn.linear_model import BayesianRidge\n",
    "from sklearn.linear_model import LogisticRegression\n",
    "from sklearn.linear_model import Perceptron\n",
    "\n",
    "from sklearn.tree import DecisionTreeClassifier\n",
    "from sklearn.ensemble import RandomForestClassifier\n",
    "from sklearn.ensemble import GradientBoostingClassifier"
   ]
  },
  {
   "cell_type": "markdown",
   "metadata": {},
   "source": [
    "## 2.) EDA"
   ]
  },
  {
   "cell_type": "code",
   "execution_count": 72,
   "metadata": {},
   "outputs": [],
   "source": [
    "df = pd.read_csv('highmark.csv')"
   ]
  },
  {
   "cell_type": "markdown",
   "metadata": {},
   "source": [
    "### Viewing sample of the data set"
   ]
  },
  {
   "cell_type": "code",
   "execution_count": 73,
   "metadata": {},
   "outputs": [
    {
     "data": {
      "text/html": [
       "<div>\n",
       "<style scoped>\n",
       "    .dataframe tbody tr th:only-of-type {\n",
       "        vertical-align: middle;\n",
       "    }\n",
       "\n",
       "    .dataframe tbody tr th {\n",
       "        vertical-align: top;\n",
       "    }\n",
       "\n",
       "    .dataframe thead th {\n",
       "        text-align: right;\n",
       "    }\n",
       "</style>\n",
       "<table border=\"1\" class=\"dataframe\">\n",
       "  <thead>\n",
       "    <tr style=\"text-align: right;\">\n",
       "      <th></th>\n",
       "      <th>ID</th>\n",
       "      <th>Target</th>\n",
       "      <th>empType</th>\n",
       "      <th>education</th>\n",
       "      <th>age</th>\n",
       "      <th>gender</th>\n",
       "      <th>addrsCategory</th>\n",
       "      <th>pinCode</th>\n",
       "      <th>addrsStateCode</th>\n",
       "      <th>phoneType</th>\n",
       "      <th>...</th>\n",
       "      <th>bureauName</th>\n",
       "      <th>bureauScore</th>\n",
       "      <th>disbursedDate</th>\n",
       "      <th>creditLimit</th>\n",
       "      <th>currentBalance</th>\n",
       "      <th>accountType</th>\n",
       "      <th>repaymentTenure</th>\n",
       "      <th>disbursedAmount</th>\n",
       "      <th>writeOffAmount</th>\n",
       "      <th>overdueAmount</th>\n",
       "    </tr>\n",
       "  </thead>\n",
       "  <tbody>\n",
       "    <tr>\n",
       "      <th>0</th>\n",
       "      <td>77881000309</td>\n",
       "      <td>Approved</td>\n",
       "      <td>Others</td>\n",
       "      <td>NaN</td>\n",
       "      <td>21</td>\n",
       "      <td>Male</td>\n",
       "      <td>RESIDENCE</td>\n",
       "      <td>302026</td>\n",
       "      <td>RAJASTHAN</td>\n",
       "      <td>PERSONAL_MOBILE</td>\n",
       "      <td>...</td>\n",
       "      <td>HIGHMARK</td>\n",
       "      <td>825.0</td>\n",
       "      <td>05-01-2019</td>\n",
       "      <td>NaN</td>\n",
       "      <td>0.0</td>\n",
       "      <td>Consumer Loan</td>\n",
       "      <td>NaN</td>\n",
       "      <td>17470.0</td>\n",
       "      <td>0.0</td>\n",
       "      <td>0.0</td>\n",
       "    </tr>\n",
       "    <tr>\n",
       "      <th>1</th>\n",
       "      <td>77881000309</td>\n",
       "      <td>Approved</td>\n",
       "      <td>Others</td>\n",
       "      <td>NaN</td>\n",
       "      <td>21</td>\n",
       "      <td>Male</td>\n",
       "      <td>RESIDENCE</td>\n",
       "      <td>302026</td>\n",
       "      <td>RAJASTHAN</td>\n",
       "      <td>PERSONAL_MOBILE</td>\n",
       "      <td>...</td>\n",
       "      <td>HIGHMARK</td>\n",
       "      <td>825.0</td>\n",
       "      <td>16-04-2018</td>\n",
       "      <td>NaN</td>\n",
       "      <td>0.0</td>\n",
       "      <td>Consumer Loan</td>\n",
       "      <td>NaN</td>\n",
       "      <td>10209.0</td>\n",
       "      <td>0.0</td>\n",
       "      <td>0.0</td>\n",
       "    </tr>\n",
       "    <tr>\n",
       "      <th>2</th>\n",
       "      <td>77881000309</td>\n",
       "      <td>Approved</td>\n",
       "      <td>Others</td>\n",
       "      <td>NaN</td>\n",
       "      <td>21</td>\n",
       "      <td>Male</td>\n",
       "      <td>RESIDENCE</td>\n",
       "      <td>302026</td>\n",
       "      <td>RAJASTHAN</td>\n",
       "      <td>PERSONAL_MOBILE</td>\n",
       "      <td>...</td>\n",
       "      <td>HIGHMARK</td>\n",
       "      <td>825.0</td>\n",
       "      <td>15-03-2019</td>\n",
       "      <td>NaN</td>\n",
       "      <td>0.0</td>\n",
       "      <td>Personal Loan</td>\n",
       "      <td>NaN</td>\n",
       "      <td>50000.0</td>\n",
       "      <td>0.0</td>\n",
       "      <td>0.0</td>\n",
       "    </tr>\n",
       "    <tr>\n",
       "      <th>3</th>\n",
       "      <td>84215000101</td>\n",
       "      <td>Declined</td>\n",
       "      <td>Others</td>\n",
       "      <td>NaN</td>\n",
       "      <td>30</td>\n",
       "      <td>Male</td>\n",
       "      <td>RESIDENCE</td>\n",
       "      <td>713336</td>\n",
       "      <td>WEST BENGAL</td>\n",
       "      <td>PERSONAL_MOBILE</td>\n",
       "      <td>...</td>\n",
       "      <td>HIGHMARK</td>\n",
       "      <td>NaN</td>\n",
       "      <td>NaN</td>\n",
       "      <td>NaN</td>\n",
       "      <td>NaN</td>\n",
       "      <td>NaN</td>\n",
       "      <td>NaN</td>\n",
       "      <td>NaN</td>\n",
       "      <td>NaN</td>\n",
       "      <td>NaN</td>\n",
       "    </tr>\n",
       "    <tr>\n",
       "      <th>4</th>\n",
       "      <td>67837000949</td>\n",
       "      <td>Approved</td>\n",
       "      <td>Others</td>\n",
       "      <td>NaN</td>\n",
       "      <td>23</td>\n",
       "      <td>Male</td>\n",
       "      <td>RESIDENCE</td>\n",
       "      <td>686004</td>\n",
       "      <td>KERALA</td>\n",
       "      <td>PERSONAL_MOBILE</td>\n",
       "      <td>...</td>\n",
       "      <td>HIGHMARK</td>\n",
       "      <td>830.0</td>\n",
       "      <td>30-07-2016</td>\n",
       "      <td>NaN</td>\n",
       "      <td>0.0</td>\n",
       "      <td>Two-Wheeler Loan</td>\n",
       "      <td>NaN</td>\n",
       "      <td>61980.0</td>\n",
       "      <td>0.0</td>\n",
       "      <td>NaN</td>\n",
       "    </tr>\n",
       "  </tbody>\n",
       "</table>\n",
       "<p>5 rows × 25 columns</p>\n",
       "</div>"
      ],
      "text/plain": [
       "            ID    Target empType education  age gender addrsCategory  pinCode  \\\n",
       "0  77881000309  Approved  Others       NaN   21   Male     RESIDENCE   302026   \n",
       "1  77881000309  Approved  Others       NaN   21   Male     RESIDENCE   302026   \n",
       "2  77881000309  Approved  Others       NaN   21   Male     RESIDENCE   302026   \n",
       "3  84215000101  Declined  Others       NaN   30   Male     RESIDENCE   713336   \n",
       "4  67837000949  Approved  Others       NaN   23   Male     RESIDENCE   686004   \n",
       "\n",
       "  addrsStateCode        phoneType  ... bureauName  bureauScore disbursedDate  \\\n",
       "0      RAJASTHAN  PERSONAL_MOBILE  ...   HIGHMARK        825.0    05-01-2019   \n",
       "1      RAJASTHAN  PERSONAL_MOBILE  ...   HIGHMARK        825.0    16-04-2018   \n",
       "2      RAJASTHAN  PERSONAL_MOBILE  ...   HIGHMARK        825.0    15-03-2019   \n",
       "3    WEST BENGAL  PERSONAL_MOBILE  ...   HIGHMARK          NaN           NaN   \n",
       "4         KERALA  PERSONAL_MOBILE  ...   HIGHMARK        830.0    30-07-2016   \n",
       "\n",
       "   creditLimit  currentBalance       accountType  repaymentTenure  \\\n",
       "0          NaN             0.0     Consumer Loan              NaN   \n",
       "1          NaN             0.0     Consumer Loan              NaN   \n",
       "2          NaN             0.0     Personal Loan              NaN   \n",
       "3          NaN             NaN               NaN              NaN   \n",
       "4          NaN             0.0  Two-Wheeler Loan              NaN   \n",
       "\n",
       "  disbursedAmount  writeOffAmount  overdueAmount  \n",
       "0         17470.0             0.0            0.0  \n",
       "1         10209.0             0.0            0.0  \n",
       "2         50000.0             0.0            0.0  \n",
       "3             NaN             NaN            NaN  \n",
       "4         61980.0             0.0            NaN  \n",
       "\n",
       "[5 rows x 25 columns]"
      ]
     },
     "execution_count": 73,
     "metadata": {},
     "output_type": "execute_result"
    }
   ],
   "source": [
    "df.head()"
   ]
  },
  {
   "cell_type": "markdown",
   "metadata": {},
   "source": [
    "### Info of the data set"
   ]
  },
  {
   "cell_type": "code",
   "execution_count": 74,
   "metadata": {},
   "outputs": [
    {
     "name": "stdout",
     "output_type": "stream",
     "text": [
      "<class 'pandas.core.frame.DataFrame'>\n",
      "RangeIndex: 7726 entries, 0 to 7725\n",
      "Data columns (total 25 columns):\n",
      " #   Column            Non-Null Count  Dtype  \n",
      "---  ------            --------------  -----  \n",
      " 0   ID                7726 non-null   int64  \n",
      " 1   Target            7726 non-null   object \n",
      " 2   empType           7726 non-null   object \n",
      " 3   education         1764 non-null   object \n",
      " 4   age               7726 non-null   int64  \n",
      " 5   gender            7726 non-null   object \n",
      " 6   addrsCategory     7726 non-null   object \n",
      " 7   pinCode           7726 non-null   int64  \n",
      " 8   addrsStateCode    7725 non-null   object \n",
      " 9   phoneType         7726 non-null   object \n",
      " 10  maritalStatus     4661 non-null   object \n",
      " 11  netMonthlyIncome  3550 non-null   float64\n",
      " 12  loanType          7726 non-null   object \n",
      " 13  loanAmt           7726 non-null   int64  \n",
      " 14  loanTenure        7726 non-null   int64  \n",
      " 15  bureauName        7726 non-null   object \n",
      " 16  bureauScore       7275 non-null   float64\n",
      " 17  disbursedDate     7170 non-null   object \n",
      " 18  creditLimit       931 non-null    float64\n",
      " 19  currentBalance    7173 non-null   float64\n",
      " 20  accountType       7178 non-null   object \n",
      " 21  repaymentTenure   694 non-null    float64\n",
      " 22  disbursedAmount   7049 non-null   float64\n",
      " 23  writeOffAmount    7178 non-null   float64\n",
      " 24  overdueAmount     6154 non-null   float64\n",
      "dtypes: float64(8), int64(5), object(12)\n",
      "memory usage: 1.5+ MB\n"
     ]
    }
   ],
   "source": [
    "df.info()"
   ]
  },
  {
   "cell_type": "markdown",
   "metadata": {},
   "source": [
    "### Shape of the data set"
   ]
  },
  {
   "cell_type": "code",
   "execution_count": 75,
   "metadata": {},
   "outputs": [
    {
     "data": {
      "text/plain": [
       "(7726, 25)"
      ]
     },
     "execution_count": 75,
     "metadata": {},
     "output_type": "execute_result"
    }
   ],
   "source": [
    "df.shape"
   ]
  },
  {
   "cell_type": "markdown",
   "metadata": {},
   "source": [
    "### Dropping id column"
   ]
  },
  {
   "cell_type": "code",
   "execution_count": 76,
   "metadata": {},
   "outputs": [
    {
     "data": {
      "text/html": [
       "<div>\n",
       "<style scoped>\n",
       "    .dataframe tbody tr th:only-of-type {\n",
       "        vertical-align: middle;\n",
       "    }\n",
       "\n",
       "    .dataframe tbody tr th {\n",
       "        vertical-align: top;\n",
       "    }\n",
       "\n",
       "    .dataframe thead th {\n",
       "        text-align: right;\n",
       "    }\n",
       "</style>\n",
       "<table border=\"1\" class=\"dataframe\">\n",
       "  <thead>\n",
       "    <tr style=\"text-align: right;\">\n",
       "      <th></th>\n",
       "      <th>Target</th>\n",
       "      <th>empType</th>\n",
       "      <th>education</th>\n",
       "      <th>age</th>\n",
       "      <th>gender</th>\n",
       "      <th>addrsCategory</th>\n",
       "      <th>pinCode</th>\n",
       "      <th>addrsStateCode</th>\n",
       "      <th>phoneType</th>\n",
       "      <th>maritalStatus</th>\n",
       "      <th>...</th>\n",
       "      <th>loanTenure</th>\n",
       "      <th>bureauName</th>\n",
       "      <th>bureauScore</th>\n",
       "      <th>creditLimit</th>\n",
       "      <th>currentBalance</th>\n",
       "      <th>accountType</th>\n",
       "      <th>repaymentTenure</th>\n",
       "      <th>disbursedAmount</th>\n",
       "      <th>writeOffAmount</th>\n",
       "      <th>overdueAmount</th>\n",
       "    </tr>\n",
       "  </thead>\n",
       "  <tbody>\n",
       "    <tr>\n",
       "      <th>0</th>\n",
       "      <td>Approved</td>\n",
       "      <td>Others</td>\n",
       "      <td>NaN</td>\n",
       "      <td>21</td>\n",
       "      <td>Male</td>\n",
       "      <td>RESIDENCE</td>\n",
       "      <td>302026</td>\n",
       "      <td>RAJASTHAN</td>\n",
       "      <td>PERSONAL_MOBILE</td>\n",
       "      <td>Single</td>\n",
       "      <td>...</td>\n",
       "      <td>0</td>\n",
       "      <td>HIGHMARK</td>\n",
       "      <td>825.0</td>\n",
       "      <td>NaN</td>\n",
       "      <td>0.0</td>\n",
       "      <td>Consumer Loan</td>\n",
       "      <td>NaN</td>\n",
       "      <td>17470.0</td>\n",
       "      <td>0.0</td>\n",
       "      <td>0.0</td>\n",
       "    </tr>\n",
       "    <tr>\n",
       "      <th>1</th>\n",
       "      <td>Approved</td>\n",
       "      <td>Others</td>\n",
       "      <td>NaN</td>\n",
       "      <td>21</td>\n",
       "      <td>Male</td>\n",
       "      <td>RESIDENCE</td>\n",
       "      <td>302026</td>\n",
       "      <td>RAJASTHAN</td>\n",
       "      <td>PERSONAL_MOBILE</td>\n",
       "      <td>Single</td>\n",
       "      <td>...</td>\n",
       "      <td>0</td>\n",
       "      <td>HIGHMARK</td>\n",
       "      <td>825.0</td>\n",
       "      <td>NaN</td>\n",
       "      <td>0.0</td>\n",
       "      <td>Consumer Loan</td>\n",
       "      <td>NaN</td>\n",
       "      <td>10209.0</td>\n",
       "      <td>0.0</td>\n",
       "      <td>0.0</td>\n",
       "    </tr>\n",
       "    <tr>\n",
       "      <th>2</th>\n",
       "      <td>Approved</td>\n",
       "      <td>Others</td>\n",
       "      <td>NaN</td>\n",
       "      <td>21</td>\n",
       "      <td>Male</td>\n",
       "      <td>RESIDENCE</td>\n",
       "      <td>302026</td>\n",
       "      <td>RAJASTHAN</td>\n",
       "      <td>PERSONAL_MOBILE</td>\n",
       "      <td>Single</td>\n",
       "      <td>...</td>\n",
       "      <td>0</td>\n",
       "      <td>HIGHMARK</td>\n",
       "      <td>825.0</td>\n",
       "      <td>NaN</td>\n",
       "      <td>0.0</td>\n",
       "      <td>Personal Loan</td>\n",
       "      <td>NaN</td>\n",
       "      <td>50000.0</td>\n",
       "      <td>0.0</td>\n",
       "      <td>0.0</td>\n",
       "    </tr>\n",
       "    <tr>\n",
       "      <th>3</th>\n",
       "      <td>Declined</td>\n",
       "      <td>Others</td>\n",
       "      <td>NaN</td>\n",
       "      <td>30</td>\n",
       "      <td>Male</td>\n",
       "      <td>RESIDENCE</td>\n",
       "      <td>713336</td>\n",
       "      <td>WEST BENGAL</td>\n",
       "      <td>PERSONAL_MOBILE</td>\n",
       "      <td>Single</td>\n",
       "      <td>...</td>\n",
       "      <td>0</td>\n",
       "      <td>HIGHMARK</td>\n",
       "      <td>NaN</td>\n",
       "      <td>NaN</td>\n",
       "      <td>NaN</td>\n",
       "      <td>NaN</td>\n",
       "      <td>NaN</td>\n",
       "      <td>NaN</td>\n",
       "      <td>NaN</td>\n",
       "      <td>NaN</td>\n",
       "    </tr>\n",
       "    <tr>\n",
       "      <th>4</th>\n",
       "      <td>Approved</td>\n",
       "      <td>Others</td>\n",
       "      <td>NaN</td>\n",
       "      <td>23</td>\n",
       "      <td>Male</td>\n",
       "      <td>RESIDENCE</td>\n",
       "      <td>686004</td>\n",
       "      <td>KERALA</td>\n",
       "      <td>PERSONAL_MOBILE</td>\n",
       "      <td>NaN</td>\n",
       "      <td>...</td>\n",
       "      <td>0</td>\n",
       "      <td>HIGHMARK</td>\n",
       "      <td>830.0</td>\n",
       "      <td>NaN</td>\n",
       "      <td>0.0</td>\n",
       "      <td>Two-Wheeler Loan</td>\n",
       "      <td>NaN</td>\n",
       "      <td>61980.0</td>\n",
       "      <td>0.0</td>\n",
       "      <td>NaN</td>\n",
       "    </tr>\n",
       "  </tbody>\n",
       "</table>\n",
       "<p>5 rows × 22 columns</p>\n",
       "</div>"
      ],
      "text/plain": [
       "     Target empType education  age gender addrsCategory  pinCode  \\\n",
       "0  Approved  Others       NaN   21   Male     RESIDENCE   302026   \n",
       "1  Approved  Others       NaN   21   Male     RESIDENCE   302026   \n",
       "2  Approved  Others       NaN   21   Male     RESIDENCE   302026   \n",
       "3  Declined  Others       NaN   30   Male     RESIDENCE   713336   \n",
       "4  Approved  Others       NaN   23   Male     RESIDENCE   686004   \n",
       "\n",
       "  addrsStateCode        phoneType maritalStatus  ... loanTenure  bureauName  \\\n",
       "0      RAJASTHAN  PERSONAL_MOBILE        Single  ...          0    HIGHMARK   \n",
       "1      RAJASTHAN  PERSONAL_MOBILE        Single  ...          0    HIGHMARK   \n",
       "2      RAJASTHAN  PERSONAL_MOBILE        Single  ...          0    HIGHMARK   \n",
       "3    WEST BENGAL  PERSONAL_MOBILE        Single  ...          0    HIGHMARK   \n",
       "4         KERALA  PERSONAL_MOBILE           NaN  ...          0    HIGHMARK   \n",
       "\n",
       "   bureauScore creditLimit  currentBalance       accountType  repaymentTenure  \\\n",
       "0        825.0         NaN             0.0     Consumer Loan              NaN   \n",
       "1        825.0         NaN             0.0     Consumer Loan              NaN   \n",
       "2        825.0         NaN             0.0     Personal Loan              NaN   \n",
       "3          NaN         NaN             NaN               NaN              NaN   \n",
       "4        830.0         NaN             0.0  Two-Wheeler Loan              NaN   \n",
       "\n",
       "  disbursedAmount  writeOffAmount  overdueAmount  \n",
       "0         17470.0             0.0            0.0  \n",
       "1         10209.0             0.0            0.0  \n",
       "2         50000.0             0.0            0.0  \n",
       "3             NaN             NaN            NaN  \n",
       "4         61980.0             0.0            NaN  \n",
       "\n",
       "[5 rows x 22 columns]"
      ]
     },
     "execution_count": 76,
     "metadata": {},
     "output_type": "execute_result"
    }
   ],
   "source": [
    "to_drop = ['ID', 'netMonthlyIncome', 'disbursedDate']\n",
    "\n",
    "df.drop(to_drop, inplace = True, axis = 1)\n",
    "df.head(5)"
   ]
  },
  {
   "cell_type": "markdown",
   "metadata": {},
   "source": [
    "### Describe"
   ]
  },
  {
   "cell_type": "code",
   "execution_count": 77,
   "metadata": {},
   "outputs": [
    {
     "data": {
      "text/html": [
       "<div>\n",
       "<style scoped>\n",
       "    .dataframe tbody tr th:only-of-type {\n",
       "        vertical-align: middle;\n",
       "    }\n",
       "\n",
       "    .dataframe tbody tr th {\n",
       "        vertical-align: top;\n",
       "    }\n",
       "\n",
       "    .dataframe thead th {\n",
       "        text-align: right;\n",
       "    }\n",
       "</style>\n",
       "<table border=\"1\" class=\"dataframe\">\n",
       "  <thead>\n",
       "    <tr style=\"text-align: right;\">\n",
       "      <th></th>\n",
       "      <th>count</th>\n",
       "      <th>mean</th>\n",
       "      <th>std</th>\n",
       "      <th>min</th>\n",
       "      <th>25%</th>\n",
       "      <th>50%</th>\n",
       "      <th>75%</th>\n",
       "      <th>max</th>\n",
       "    </tr>\n",
       "  </thead>\n",
       "  <tbody>\n",
       "    <tr>\n",
       "      <th>age</th>\n",
       "      <td>7726.0</td>\n",
       "      <td>34.759643</td>\n",
       "      <td>10.224627</td>\n",
       "      <td>0.0</td>\n",
       "      <td>28.00</td>\n",
       "      <td>34.0</td>\n",
       "      <td>42.0</td>\n",
       "      <td>69.0</td>\n",
       "    </tr>\n",
       "    <tr>\n",
       "      <th>pinCode</th>\n",
       "      <td>7726.0</td>\n",
       "      <td>518053.806239</td>\n",
       "      <td>186924.897889</td>\n",
       "      <td>110005.0</td>\n",
       "      <td>410206.00</td>\n",
       "      <td>560096.0</td>\n",
       "      <td>636004.0</td>\n",
       "      <td>852221.0</td>\n",
       "    </tr>\n",
       "    <tr>\n",
       "      <th>loanAmt</th>\n",
       "      <td>7726.0</td>\n",
       "      <td>34923.584132</td>\n",
       "      <td>20884.822715</td>\n",
       "      <td>12.0</td>\n",
       "      <td>20000.00</td>\n",
       "      <td>30000.0</td>\n",
       "      <td>45000.0</td>\n",
       "      <td>300000.0</td>\n",
       "    </tr>\n",
       "    <tr>\n",
       "      <th>loanTenure</th>\n",
       "      <td>7726.0</td>\n",
       "      <td>2.569376</td>\n",
       "      <td>7.122945</td>\n",
       "      <td>0.0</td>\n",
       "      <td>0.00</td>\n",
       "      <td>0.0</td>\n",
       "      <td>0.0</td>\n",
       "      <td>365.0</td>\n",
       "    </tr>\n",
       "    <tr>\n",
       "      <th>bureauScore</th>\n",
       "      <td>7275.0</td>\n",
       "      <td>569.179381</td>\n",
       "      <td>186.254946</td>\n",
       "      <td>0.0</td>\n",
       "      <td>452.00</td>\n",
       "      <td>627.0</td>\n",
       "      <td>708.0</td>\n",
       "      <td>845.0</td>\n",
       "    </tr>\n",
       "    <tr>\n",
       "      <th>creditLimit</th>\n",
       "      <td>931.0</td>\n",
       "      <td>28922.784103</td>\n",
       "      <td>28889.354083</td>\n",
       "      <td>0.0</td>\n",
       "      <td>14000.00</td>\n",
       "      <td>25000.0</td>\n",
       "      <td>32997.0</td>\n",
       "      <td>250000.0</td>\n",
       "    </tr>\n",
       "    <tr>\n",
       "      <th>currentBalance</th>\n",
       "      <td>7173.0</td>\n",
       "      <td>33790.074028</td>\n",
       "      <td>161042.676835</td>\n",
       "      <td>-10836.0</td>\n",
       "      <td>0.00</td>\n",
       "      <td>0.0</td>\n",
       "      <td>6250.0</td>\n",
       "      <td>4430884.0</td>\n",
       "    </tr>\n",
       "    <tr>\n",
       "      <th>repaymentTenure</th>\n",
       "      <td>694.0</td>\n",
       "      <td>38.602305</td>\n",
       "      <td>27.002545</td>\n",
       "      <td>0.0</td>\n",
       "      <td>23.25</td>\n",
       "      <td>26.0</td>\n",
       "      <td>52.0</td>\n",
       "      <td>143.0</td>\n",
       "    </tr>\n",
       "    <tr>\n",
       "      <th>disbursedAmount</th>\n",
       "      <td>7049.0</td>\n",
       "      <td>84556.318910</td>\n",
       "      <td>262314.528098</td>\n",
       "      <td>0.0</td>\n",
       "      <td>12000.00</td>\n",
       "      <td>25000.0</td>\n",
       "      <td>55000.0</td>\n",
       "      <td>9200000.0</td>\n",
       "    </tr>\n",
       "    <tr>\n",
       "      <th>writeOffAmount</th>\n",
       "      <td>7178.0</td>\n",
       "      <td>1161.692811</td>\n",
       "      <td>32957.483131</td>\n",
       "      <td>0.0</td>\n",
       "      <td>0.00</td>\n",
       "      <td>0.0</td>\n",
       "      <td>0.0</td>\n",
       "      <td>2136032.0</td>\n",
       "    </tr>\n",
       "    <tr>\n",
       "      <th>overdueAmount</th>\n",
       "      <td>6154.0</td>\n",
       "      <td>1891.750894</td>\n",
       "      <td>18127.268928</td>\n",
       "      <td>0.0</td>\n",
       "      <td>0.00</td>\n",
       "      <td>0.0</td>\n",
       "      <td>0.0</td>\n",
       "      <td>686400.0</td>\n",
       "    </tr>\n",
       "  </tbody>\n",
       "</table>\n",
       "</div>"
      ],
      "text/plain": [
       "                  count           mean            std       min        25%  \\\n",
       "age              7726.0      34.759643      10.224627       0.0      28.00   \n",
       "pinCode          7726.0  518053.806239  186924.897889  110005.0  410206.00   \n",
       "loanAmt          7726.0   34923.584132   20884.822715      12.0   20000.00   \n",
       "loanTenure       7726.0       2.569376       7.122945       0.0       0.00   \n",
       "bureauScore      7275.0     569.179381     186.254946       0.0     452.00   \n",
       "creditLimit       931.0   28922.784103   28889.354083       0.0   14000.00   \n",
       "currentBalance   7173.0   33790.074028  161042.676835  -10836.0       0.00   \n",
       "repaymentTenure   694.0      38.602305      27.002545       0.0      23.25   \n",
       "disbursedAmount  7049.0   84556.318910  262314.528098       0.0   12000.00   \n",
       "writeOffAmount   7178.0    1161.692811   32957.483131       0.0       0.00   \n",
       "overdueAmount    6154.0    1891.750894   18127.268928       0.0       0.00   \n",
       "\n",
       "                      50%       75%        max  \n",
       "age                  34.0      42.0       69.0  \n",
       "pinCode          560096.0  636004.0   852221.0  \n",
       "loanAmt           30000.0   45000.0   300000.0  \n",
       "loanTenure            0.0       0.0      365.0  \n",
       "bureauScore         627.0     708.0      845.0  \n",
       "creditLimit       25000.0   32997.0   250000.0  \n",
       "currentBalance        0.0    6250.0  4430884.0  \n",
       "repaymentTenure      26.0      52.0      143.0  \n",
       "disbursedAmount   25000.0   55000.0  9200000.0  \n",
       "writeOffAmount        0.0       0.0  2136032.0  \n",
       "overdueAmount         0.0       0.0   686400.0  "
      ]
     },
     "execution_count": 77,
     "metadata": {},
     "output_type": "execute_result"
    }
   ],
   "source": [
    "df.describe().T"
   ]
  },
  {
   "cell_type": "markdown",
   "metadata": {},
   "source": [
    "### No. of unique values in each column"
   ]
  },
  {
   "cell_type": "code",
   "execution_count": 78,
   "metadata": {},
   "outputs": [
    {
     "data": {
      "text/html": [
       "<div>\n",
       "<style scoped>\n",
       "    .dataframe tbody tr th:only-of-type {\n",
       "        vertical-align: middle;\n",
       "    }\n",
       "\n",
       "    .dataframe tbody tr th {\n",
       "        vertical-align: top;\n",
       "    }\n",
       "\n",
       "    .dataframe thead th {\n",
       "        text-align: right;\n",
       "    }\n",
       "</style>\n",
       "<table border=\"1\" class=\"dataframe\">\n",
       "  <thead>\n",
       "    <tr style=\"text-align: right;\">\n",
       "      <th></th>\n",
       "      <th>0</th>\n",
       "    </tr>\n",
       "  </thead>\n",
       "  <tbody>\n",
       "    <tr>\n",
       "      <th>Target</th>\n",
       "      <td>2</td>\n",
       "    </tr>\n",
       "    <tr>\n",
       "      <th>empType</th>\n",
       "      <td>4</td>\n",
       "    </tr>\n",
       "    <tr>\n",
       "      <th>education</th>\n",
       "      <td>5</td>\n",
       "    </tr>\n",
       "    <tr>\n",
       "      <th>age</th>\n",
       "      <td>48</td>\n",
       "    </tr>\n",
       "    <tr>\n",
       "      <th>gender</th>\n",
       "      <td>2</td>\n",
       "    </tr>\n",
       "    <tr>\n",
       "      <th>addrsCategory</th>\n",
       "      <td>1</td>\n",
       "    </tr>\n",
       "    <tr>\n",
       "      <th>pinCode</th>\n",
       "      <td>1187</td>\n",
       "    </tr>\n",
       "    <tr>\n",
       "      <th>addrsStateCode</th>\n",
       "      <td>23</td>\n",
       "    </tr>\n",
       "    <tr>\n",
       "      <th>phoneType</th>\n",
       "      <td>1</td>\n",
       "    </tr>\n",
       "    <tr>\n",
       "      <th>maritalStatus</th>\n",
       "      <td>2</td>\n",
       "    </tr>\n",
       "    <tr>\n",
       "      <th>loanType</th>\n",
       "      <td>4</td>\n",
       "    </tr>\n",
       "    <tr>\n",
       "      <th>loanAmt</th>\n",
       "      <td>131</td>\n",
       "    </tr>\n",
       "    <tr>\n",
       "      <th>loanTenure</th>\n",
       "      <td>19</td>\n",
       "    </tr>\n",
       "    <tr>\n",
       "      <th>bureauName</th>\n",
       "      <td>1</td>\n",
       "    </tr>\n",
       "    <tr>\n",
       "      <th>bureauScore</th>\n",
       "      <td>273</td>\n",
       "    </tr>\n",
       "    <tr>\n",
       "      <th>creditLimit</th>\n",
       "      <td>198</td>\n",
       "    </tr>\n",
       "    <tr>\n",
       "      <th>currentBalance</th>\n",
       "      <td>2084</td>\n",
       "    </tr>\n",
       "    <tr>\n",
       "      <th>accountType</th>\n",
       "      <td>41</td>\n",
       "    </tr>\n",
       "    <tr>\n",
       "      <th>repaymentTenure</th>\n",
       "      <td>50</td>\n",
       "    </tr>\n",
       "    <tr>\n",
       "      <th>disbursedAmount</th>\n",
       "      <td>2381</td>\n",
       "    </tr>\n",
       "    <tr>\n",
       "      <th>writeOffAmount</th>\n",
       "      <td>74</td>\n",
       "    </tr>\n",
       "    <tr>\n",
       "      <th>overdueAmount</th>\n",
       "      <td>470</td>\n",
       "    </tr>\n",
       "  </tbody>\n",
       "</table>\n",
       "</div>"
      ],
      "text/plain": [
       "                    0\n",
       "Target              2\n",
       "empType             4\n",
       "education           5\n",
       "age                48\n",
       "gender              2\n",
       "addrsCategory       1\n",
       "pinCode          1187\n",
       "addrsStateCode     23\n",
       "phoneType           1\n",
       "maritalStatus       2\n",
       "loanType            4\n",
       "loanAmt           131\n",
       "loanTenure         19\n",
       "bureauName          1\n",
       "bureauScore       273\n",
       "creditLimit       198\n",
       "currentBalance   2084\n",
       "accountType        41\n",
       "repaymentTenure    50\n",
       "disbursedAmount  2381\n",
       "writeOffAmount     74\n",
       "overdueAmount     470"
      ]
     },
     "execution_count": 78,
     "metadata": {},
     "output_type": "execute_result"
    }
   ],
   "source": [
    "nunq_df = df.nunique().to_frame()\n",
    "nunq_df"
   ]
  },
  {
   "cell_type": "code",
   "execution_count": 79,
   "metadata": {},
   "outputs": [
    {
     "data": {
      "text/plain": [
       "(22, 1)"
      ]
     },
     "execution_count": 79,
     "metadata": {},
     "output_type": "execute_result"
    }
   ],
   "source": [
    "nunq_df.shape"
   ]
  },
  {
   "cell_type": "markdown",
   "metadata": {},
   "source": [
    "### Removing columns having only 1 unique value"
   ]
  },
  {
   "cell_type": "code",
   "execution_count": 80,
   "metadata": {},
   "outputs": [
    {
     "data": {
      "text/plain": [
       "Index(['addrsCategory', 'phoneType', 'bureauName'], dtype='object')"
      ]
     },
     "execution_count": 80,
     "metadata": {},
     "output_type": "execute_result"
    }
   ],
   "source": [
    "nunq_df[nunq_df[0] == 1].index"
   ]
  },
  {
   "cell_type": "code",
   "execution_count": 81,
   "metadata": {},
   "outputs": [
    {
     "data": {
      "text/plain": [
       "(7726, 19)"
      ]
     },
     "execution_count": 81,
     "metadata": {},
     "output_type": "execute_result"
    }
   ],
   "source": [
    "to_drop = nunq_df[nunq_df[0] == 1].index\n",
    "\n",
    "df.drop(to_drop, inplace = True, axis = 1)\n",
    "df.shape"
   ]
  },
  {
   "cell_type": "code",
   "execution_count": 82,
   "metadata": {},
   "outputs": [
    {
     "data": {
      "text/plain": [
       "Index(['Target', 'gender', 'maritalStatus'], dtype='object')"
      ]
     },
     "execution_count": 82,
     "metadata": {},
     "output_type": "execute_result"
    }
   ],
   "source": [
    "nunq_df[nunq_df[0] == 2].index"
   ]
  },
  {
   "cell_type": "markdown",
   "metadata": {},
   "source": [
    "### Value counts for specific columns"
   ]
  },
  {
   "cell_type": "code",
   "execution_count": 83,
   "metadata": {},
   "outputs": [
    {
     "data": {
      "text/plain": [
       "Declined    5029\n",
       "Approved    2697\n",
       "Name: Target, dtype: int64"
      ]
     },
     "execution_count": 83,
     "metadata": {},
     "output_type": "execute_result"
    }
   ],
   "source": [
    "df['Target'].value_counts()"
   ]
  },
  {
   "cell_type": "code",
   "execution_count": 84,
   "metadata": {},
   "outputs": [
    {
     "data": {
      "text/plain": [
       "Others            5998\n",
       "Self Employed     1010\n",
       "Salaried           692\n",
       "Non-Government      26\n",
       "Name: empType, dtype: int64"
      ]
     },
     "execution_count": 84,
     "metadata": {},
     "output_type": "execute_result"
    }
   ],
   "source": [
    "df['empType'].value_counts()"
   ]
  },
  {
   "cell_type": "code",
   "execution_count": 85,
   "metadata": {},
   "outputs": [
    {
     "data": {
      "text/plain": [
       "GRADUATE          836\n",
       "UNDER GRADUATE    601\n",
       "OTHERS            297\n",
       "POST-GRADUATE      29\n",
       "DOCTORATE           1\n",
       "Name: education, dtype: int64"
      ]
     },
     "execution_count": 85,
     "metadata": {},
     "output_type": "execute_result"
    }
   ],
   "source": [
    "df['education'].value_counts()"
   ]
  },
  {
   "cell_type": "code",
   "execution_count": 86,
   "metadata": {},
   "outputs": [
    {
     "data": {
      "text/plain": [
       "Male      6089\n",
       "Female    1637\n",
       "Name: gender, dtype: int64"
      ]
     },
     "execution_count": 86,
     "metadata": {},
     "output_type": "execute_result"
    }
   ],
   "source": [
    "df['gender'].value_counts()"
   ]
  },
  {
   "cell_type": "code",
   "execution_count": 87,
   "metadata": {},
   "outputs": [
    {
     "data": {
      "text/plain": [
       "Single     3296\n",
       "Married    1365\n",
       "Name: maritalStatus, dtype: int64"
      ]
     },
     "execution_count": 87,
     "metadata": {},
     "output_type": "execute_result"
    }
   ],
   "source": [
    "df['maritalStatus'].value_counts()"
   ]
  },
  {
   "cell_type": "code",
   "execution_count": 88,
   "metadata": {},
   "outputs": [
    {
     "data": {
      "text/plain": [
       "DPL    4710\n",
       "CDL    2444\n",
       "TW      455\n",
       "LSL     117\n",
       "Name: loanType, dtype: int64"
      ]
     },
     "execution_count": 88,
     "metadata": {},
     "output_type": "execute_result"
    }
   ],
   "source": [
    "df['loanType'].value_counts()"
   ]
  },
  {
   "cell_type": "raw",
   "metadata": {},
   "source": [
    "df['addrsCategory'].value_counts()"
   ]
  },
  {
   "cell_type": "code",
   "execution_count": 89,
   "metadata": {},
   "outputs": [
    {
     "data": {
      "text/plain": [
       "TAMIL NADU          1765\n",
       "KARNATAKA            737\n",
       "WEST BENGAL          653\n",
       "ANDHRA PRADESH       580\n",
       "GUJARAT              446\n",
       "MAHARASHTRA          426\n",
       "MADHYA PRADESH       394\n",
       "UTTAR PRADESH        392\n",
       "TELANGANA            364\n",
       "KERALA               331\n",
       "PUNJAB               291\n",
       "JHARKHAND            253\n",
       "RAJASTHAN            217\n",
       "ORISSA               212\n",
       "HARYANA              207\n",
       "DELHI                178\n",
       "ASSAM                133\n",
       "UTTARANCHAL          105\n",
       "PUDUCHERRY            17\n",
       "HIMACHAL PRADESH      10\n",
       "CHHATTISGARH           6\n",
       "BIHAR                  4\n",
       "CHANDIGARH             4\n",
       "Name: addrsStateCode, dtype: int64"
      ]
     },
     "execution_count": 89,
     "metadata": {},
     "output_type": "execute_result"
    }
   ],
   "source": [
    "df['addrsStateCode'].value_counts()"
   ]
  },
  {
   "cell_type": "code",
   "execution_count": 90,
   "metadata": {},
   "outputs": [
    {
     "data": {
      "text/plain": [
       "Consumer Loan                                                          1962\n",
       "Gold Loan                                                              1359\n",
       "Personal Loan                                                          1170\n",
       "JLG Individual                                                          671\n",
       "Two-Wheeler Loan                                                        551\n",
       "Business Loan Priority Sector  Agriculture                              300\n",
       "Credit Card                                                             256\n",
       "Auto Loan (Personal)                                                    186\n",
       "Commercial Vehicle Loan                                                 141\n",
       "Other                                                                   119\n",
       "Housing Loan                                                             79\n",
       "Overdraft                                                                48\n",
       "Business Loan General                                                    42\n",
       "Loan Against Bank Deposits                                               26\n",
       "Kisan Credit Card                                                        26\n",
       "Used Car Loan                                                            26\n",
       "Tractor Loan                                                             26\n",
       "Business Loan Priority Sector  Small Business                            24\n",
       "Business Loan Priority Sector  Others                                    17\n",
       "Education Loan                                                           16\n",
       "Property Loan                                                            15\n",
       "Mudra Loans - Shishu / Kishor / Tarun                                    15\n",
       "JLG Group                                                                12\n",
       "Microfinance Personal Loan                                               11\n",
       "Business Loan Unsecured                                                  10\n",
       "Individual                                                                9\n",
       "Loan Against Shares / Securities                                          9\n",
       "Pradhan Mantri Awas Yojana - CLSS                                         7\n",
       "Business Loan - Secured                                                   6\n",
       "Business Loan Against Bank Deposits                                       6\n",
       "Microfinance Business Loan                                                6\n",
       "SHG Individual                                                            5\n",
       "Microfinance Others                                                       5\n",
       "Loan to Professional                                                      4\n",
       "Business Non-Funded Credit Facility General                               3\n",
       "Construction Equipment Loan                                               3\n",
       "Business Non-Funded Credit Facility-Priority Sector- Small Business       2\n",
       "Prime Minister Jaan Dhan Yojana - Overdraft                               2\n",
       "Microfinance Housing Loan                                                 1\n",
       "Loan on Credit Card                                                       1\n",
       "Secured Credit Card                                                       1\n",
       "Name: accountType, dtype: int64"
      ]
     },
     "execution_count": 90,
     "metadata": {},
     "output_type": "execute_result"
    }
   ],
   "source": [
    "df['accountType'].value_counts()"
   ]
  },
  {
   "cell_type": "code",
   "execution_count": 91,
   "metadata": {},
   "outputs": [
    {
     "data": {
      "text/plain": [
       "26.0"
      ]
     },
     "execution_count": 91,
     "metadata": {},
     "output_type": "execute_result"
    }
   ],
   "source": [
    "df['repaymentTenure'].median()"
   ]
  },
  {
   "cell_type": "raw",
   "metadata": {},
   "source": [
    "df['phoneType'].value_counts()"
   ]
  },
  {
   "cell_type": "raw",
   "metadata": {},
   "source": [
    "df['idType'].value_counts()"
   ]
  },
  {
   "cell_type": "markdown",
   "metadata": {},
   "source": [
    "### Dropping duplicate rows"
   ]
  },
  {
   "cell_type": "code",
   "execution_count": 92,
   "metadata": {},
   "outputs": [
    {
     "data": {
      "text/plain": [
       "Target             7726\n",
       "empType            7726\n",
       "education          1764\n",
       "age                7726\n",
       "gender             7726\n",
       "pinCode            7726\n",
       "addrsStateCode     7725\n",
       "maritalStatus      4661\n",
       "loanType           7726\n",
       "loanAmt            7726\n",
       "loanTenure         7726\n",
       "bureauScore        7275\n",
       "creditLimit         931\n",
       "currentBalance     7173\n",
       "accountType        7178\n",
       "repaymentTenure     694\n",
       "disbursedAmount    7049\n",
       "writeOffAmount     7178\n",
       "overdueAmount      6154\n",
       "dtype: int64"
      ]
     },
     "execution_count": 92,
     "metadata": {},
     "output_type": "execute_result"
    }
   ],
   "source": [
    "df.count()     # Used to count the number of rows"
   ]
  },
  {
   "cell_type": "code",
   "execution_count": 93,
   "metadata": {},
   "outputs": [
    {
     "name": "stdout",
     "output_type": "stream",
     "text": [
      "number of duplicate rows:  (519, 19)\n"
     ]
    }
   ],
   "source": [
    "duplicate_rows_df = df[df.duplicated()]\n",
    "print(\"number of duplicate rows: \", duplicate_rows_df.shape)"
   ]
  },
  {
   "cell_type": "code",
   "execution_count": 94,
   "metadata": {},
   "outputs": [],
   "source": [
    "df = df.drop_duplicates()"
   ]
  },
  {
   "cell_type": "code",
   "execution_count": 95,
   "metadata": {},
   "outputs": [
    {
     "data": {
      "text/plain": [
       "Target             7207\n",
       "empType            7207\n",
       "education          1661\n",
       "age                7207\n",
       "gender             7207\n",
       "pinCode            7207\n",
       "addrsStateCode     7206\n",
       "maritalStatus      4352\n",
       "loanType           7207\n",
       "loanAmt            7207\n",
       "loanTenure         7207\n",
       "bureauScore        6760\n",
       "creditLimit         865\n",
       "currentBalance     6660\n",
       "accountType        6664\n",
       "repaymentTenure     639\n",
       "disbursedAmount    6549\n",
       "writeOffAmount     6664\n",
       "overdueAmount      5724\n",
       "dtype: int64"
      ]
     },
     "execution_count": 95,
     "metadata": {},
     "output_type": "execute_result"
    }
   ],
   "source": [
    "df.count()     # Used to count the number of rows"
   ]
  },
  {
   "cell_type": "markdown",
   "metadata": {},
   "source": [
    "### Checking for any null values"
   ]
  },
  {
   "cell_type": "code",
   "execution_count": 96,
   "metadata": {},
   "outputs": [
    {
     "data": {
      "text/plain": [
       "Target                0\n",
       "empType               0\n",
       "education          5546\n",
       "age                   0\n",
       "gender                0\n",
       "pinCode               0\n",
       "addrsStateCode        1\n",
       "maritalStatus      2855\n",
       "loanType              0\n",
       "loanAmt               0\n",
       "loanTenure            0\n",
       "bureauScore         447\n",
       "creditLimit        6342\n",
       "currentBalance      547\n",
       "accountType         543\n",
       "repaymentTenure    6568\n",
       "disbursedAmount     658\n",
       "writeOffAmount      543\n",
       "overdueAmount      1483\n",
       "dtype: int64"
      ]
     },
     "execution_count": 96,
     "metadata": {},
     "output_type": "execute_result"
    }
   ],
   "source": [
    "df.isnull().sum()"
   ]
  },
  {
   "cell_type": "markdown",
   "metadata": {},
   "source": [
    "### Handling Missing or Null values"
   ]
  },
  {
   "cell_type": "code",
   "execution_count": 97,
   "metadata": {},
   "outputs": [
    {
     "data": {
      "text/html": [
       "<div>\n",
       "<style scoped>\n",
       "    .dataframe tbody tr th:only-of-type {\n",
       "        vertical-align: middle;\n",
       "    }\n",
       "\n",
       "    .dataframe tbody tr th {\n",
       "        vertical-align: top;\n",
       "    }\n",
       "\n",
       "    .dataframe thead th {\n",
       "        text-align: right;\n",
       "    }\n",
       "</style>\n",
       "<table border=\"1\" class=\"dataframe\">\n",
       "  <thead>\n",
       "    <tr style=\"text-align: right;\">\n",
       "      <th></th>\n",
       "      <th>Target</th>\n",
       "      <th>empType</th>\n",
       "      <th>education</th>\n",
       "      <th>age</th>\n",
       "      <th>gender</th>\n",
       "      <th>pinCode</th>\n",
       "      <th>addrsStateCode</th>\n",
       "      <th>maritalStatus</th>\n",
       "      <th>loanType</th>\n",
       "      <th>loanAmt</th>\n",
       "      <th>loanTenure</th>\n",
       "      <th>bureauScore</th>\n",
       "      <th>creditLimit</th>\n",
       "      <th>currentBalance</th>\n",
       "      <th>accountType</th>\n",
       "      <th>repaymentTenure</th>\n",
       "      <th>disbursedAmount</th>\n",
       "      <th>writeOffAmount</th>\n",
       "      <th>overdueAmount</th>\n",
       "    </tr>\n",
       "  </thead>\n",
       "  <tbody>\n",
       "    <tr>\n",
       "      <th>7721</th>\n",
       "      <td>Approved</td>\n",
       "      <td>Self Employed</td>\n",
       "      <td>UNDER GRADUATE</td>\n",
       "      <td>32</td>\n",
       "      <td>Male</td>\n",
       "      <td>422004</td>\n",
       "      <td>MAHARASHTRA</td>\n",
       "      <td>Married</td>\n",
       "      <td>CDL</td>\n",
       "      <td>18000</td>\n",
       "      <td>18</td>\n",
       "      <td>666.0</td>\n",
       "      <td>25000.0</td>\n",
       "      <td>1451.0</td>\n",
       "      <td>Consumer Loan</td>\n",
       "      <td>26.0</td>\n",
       "      <td>8349.0</td>\n",
       "      <td>0.0</td>\n",
       "      <td>0.0</td>\n",
       "    </tr>\n",
       "    <tr>\n",
       "      <th>7722</th>\n",
       "      <td>Approved</td>\n",
       "      <td>Self Employed</td>\n",
       "      <td>UNDER GRADUATE</td>\n",
       "      <td>32</td>\n",
       "      <td>Male</td>\n",
       "      <td>422004</td>\n",
       "      <td>MAHARASHTRA</td>\n",
       "      <td>Married</td>\n",
       "      <td>CDL</td>\n",
       "      <td>18000</td>\n",
       "      <td>18</td>\n",
       "      <td>666.0</td>\n",
       "      <td>25000.0</td>\n",
       "      <td>0.0</td>\n",
       "      <td>Consumer Loan</td>\n",
       "      <td>26.0</td>\n",
       "      <td>12990.0</td>\n",
       "      <td>0.0</td>\n",
       "      <td>0.0</td>\n",
       "    </tr>\n",
       "    <tr>\n",
       "      <th>7723</th>\n",
       "      <td>Approved</td>\n",
       "      <td>Self Employed</td>\n",
       "      <td>UNDER GRADUATE</td>\n",
       "      <td>32</td>\n",
       "      <td>Male</td>\n",
       "      <td>422004</td>\n",
       "      <td>MAHARASHTRA</td>\n",
       "      <td>Married</td>\n",
       "      <td>CDL</td>\n",
       "      <td>18000</td>\n",
       "      <td>18</td>\n",
       "      <td>666.0</td>\n",
       "      <td>25000.0</td>\n",
       "      <td>50142.0</td>\n",
       "      <td>Gold Loan</td>\n",
       "      <td>26.0</td>\n",
       "      <td>50000.0</td>\n",
       "      <td>0.0</td>\n",
       "      <td>0.0</td>\n",
       "    </tr>\n",
       "    <tr>\n",
       "      <th>7724</th>\n",
       "      <td>Approved</td>\n",
       "      <td>Self Employed</td>\n",
       "      <td>UNDER GRADUATE</td>\n",
       "      <td>32</td>\n",
       "      <td>Male</td>\n",
       "      <td>422004</td>\n",
       "      <td>MAHARASHTRA</td>\n",
       "      <td>Married</td>\n",
       "      <td>CDL</td>\n",
       "      <td>18000</td>\n",
       "      <td>18</td>\n",
       "      <td>666.0</td>\n",
       "      <td>25000.0</td>\n",
       "      <td>0.0</td>\n",
       "      <td>Consumer Loan</td>\n",
       "      <td>26.0</td>\n",
       "      <td>19990.0</td>\n",
       "      <td>0.0</td>\n",
       "      <td>0.0</td>\n",
       "    </tr>\n",
       "    <tr>\n",
       "      <th>7725</th>\n",
       "      <td>Declined</td>\n",
       "      <td>Others</td>\n",
       "      <td>OTHERS</td>\n",
       "      <td>23</td>\n",
       "      <td>Male</td>\n",
       "      <td>713205</td>\n",
       "      <td>WEST BENGAL</td>\n",
       "      <td>Single</td>\n",
       "      <td>DPL</td>\n",
       "      <td>50000</td>\n",
       "      <td>0</td>\n",
       "      <td>-1.0</td>\n",
       "      <td>25000.0</td>\n",
       "      <td>0.0</td>\n",
       "      <td>Consumer Loan</td>\n",
       "      <td>26.0</td>\n",
       "      <td>25990.0</td>\n",
       "      <td>0.0</td>\n",
       "      <td>0.0</td>\n",
       "    </tr>\n",
       "  </tbody>\n",
       "</table>\n",
       "</div>"
      ],
      "text/plain": [
       "        Target        empType       education  age gender  pinCode  \\\n",
       "7721  Approved  Self Employed  UNDER GRADUATE   32   Male   422004   \n",
       "7722  Approved  Self Employed  UNDER GRADUATE   32   Male   422004   \n",
       "7723  Approved  Self Employed  UNDER GRADUATE   32   Male   422004   \n",
       "7724  Approved  Self Employed  UNDER GRADUATE   32   Male   422004   \n",
       "7725  Declined         Others          OTHERS   23   Male   713205   \n",
       "\n",
       "     addrsStateCode maritalStatus loanType  loanAmt  loanTenure  bureauScore  \\\n",
       "7721    MAHARASHTRA       Married      CDL    18000          18        666.0   \n",
       "7722    MAHARASHTRA       Married      CDL    18000          18        666.0   \n",
       "7723    MAHARASHTRA       Married      CDL    18000          18        666.0   \n",
       "7724    MAHARASHTRA       Married      CDL    18000          18        666.0   \n",
       "7725    WEST BENGAL        Single      DPL    50000           0         -1.0   \n",
       "\n",
       "      creditLimit  currentBalance    accountType  repaymentTenure  \\\n",
       "7721      25000.0          1451.0  Consumer Loan             26.0   \n",
       "7722      25000.0             0.0  Consumer Loan             26.0   \n",
       "7723      25000.0         50142.0      Gold Loan             26.0   \n",
       "7724      25000.0             0.0  Consumer Loan             26.0   \n",
       "7725      25000.0             0.0  Consumer Loan             26.0   \n",
       "\n",
       "      disbursedAmount  writeOffAmount  overdueAmount  \n",
       "7721           8349.0             0.0            0.0  \n",
       "7722          12990.0             0.0            0.0  \n",
       "7723          50000.0             0.0            0.0  \n",
       "7724          19990.0             0.0            0.0  \n",
       "7725          25990.0             0.0            0.0  "
      ]
     },
     "execution_count": 97,
     "metadata": {},
     "output_type": "execute_result"
    }
   ],
   "source": [
    "#df['empType'].fillna('OTHERS', inplace=True)\n",
    "df['education'].fillna('OTHERS', inplace=True)\n",
    "df['maritalStatus'].fillna('missing', inplace=True)\n",
    "df['accountType'].fillna(value='Consumer Loan', inplace=True)\n",
    "#df['idType'].fillna('missing', inplace=True)\n",
    "\n",
    "#df['addrsCategory'].fillna(value=2.0, inplace=True)\n",
    "#df['phoneType'].fillna(value=0.0, inplace=True)\n",
    "\n",
    "# Because their state and pincode should match\n",
    "df['pinCode'].fillna(value=600041.0, inplace=True)\n",
    "df['addrsStateCode'].fillna(value='TAMIL NADU', inplace=True)\n",
    "\n",
    "df['bureauScore'].fillna(value=-1, inplace=True)\n",
    "df['repaymentTenure'].fillna(df['repaymentTenure'].median(), inplace=True)\n",
    "#df['netMonthlyIncome'].fillna(df['netMonthlyIncome'].median(), inplace=True) # use imputer in future\n",
    "df['creditLimit'].fillna(df['creditLimit'].median(), inplace=True) # use imputer in future\n",
    "df['currentBalance'].fillna(df['currentBalance'].median(), inplace=True) # use imputer in future\n",
    "df['disbursedAmount'].fillna(df['disbursedAmount'].median(), inplace=True) # use imputer in future\n",
    "df['writeOffAmount'].fillna(df['writeOffAmount'].median(), inplace=True) # use imputer in future\n",
    "df['overdueAmount'].fillna(df['overdueAmount'].median(), inplace=True) # use imputer in future\n",
    "\n",
    "df.tail()"
   ]
  },
  {
   "cell_type": "code",
   "execution_count": 98,
   "metadata": {},
   "outputs": [
    {
     "data": {
      "text/plain": [
       "Target             0\n",
       "empType            0\n",
       "education          0\n",
       "age                0\n",
       "gender             0\n",
       "pinCode            0\n",
       "addrsStateCode     0\n",
       "maritalStatus      0\n",
       "loanType           0\n",
       "loanAmt            0\n",
       "loanTenure         0\n",
       "bureauScore        0\n",
       "creditLimit        0\n",
       "currentBalance     0\n",
       "accountType        0\n",
       "repaymentTenure    0\n",
       "disbursedAmount    0\n",
       "writeOffAmount     0\n",
       "overdueAmount      0\n",
       "dtype: int64"
      ]
     },
     "execution_count": 98,
     "metadata": {},
     "output_type": "execute_result"
    }
   ],
   "source": [
    "df.isnull().sum()"
   ]
  },
  {
   "cell_type": "markdown",
   "metadata": {},
   "source": [
    "### Detecting and handling outliers"
   ]
  },
  {
   "cell_type": "raw",
   "metadata": {},
   "source": [
    "sns.boxplot(x=df['netMonthlyIncome'])"
   ]
  },
  {
   "cell_type": "code",
   "execution_count": 99,
   "metadata": {},
   "outputs": [
    {
     "data": {
      "text/plain": [
       "<AxesSubplot:xlabel='loanAmt'>"
      ]
     },
     "execution_count": 99,
     "metadata": {},
     "output_type": "execute_result"
    },
    {
     "data": {
      "image/png": "[encoded data removed]",
      "text/plain": [
       "<Figure size 432x288 with 1 Axes>"
      ]
     },
     "metadata": {
      "needs_background": "light"
     },
     "output_type": "display_data"
    }
   ],
   "source": [
    "sns.boxplot(x=df['loanAmt'])"
   ]
  },
  {
   "cell_type": "code",
   "execution_count": 100,
   "metadata": {},
   "outputs": [
    {
     "data": {
      "text/plain": [
       "<AxesSubplot:xlabel='loanTenure'>"
      ]
     },
     "execution_count": 100,
     "metadata": {},
     "output_type": "execute_result"
    },
    {
     "data": {
      "image/png": "[encoded data removed]",
      "text/plain": [
       "<Figure size 432x288 with 1 Axes>"
      ]
     },
     "metadata": {
      "needs_background": "light"
     },
     "output_type": "display_data"
    }
   ],
   "source": [
    "sns.boxplot(x=df['loanTenure'])"
   ]
  },
  {
   "cell_type": "code",
   "execution_count": 101,
   "metadata": {},
   "outputs": [
    {
     "data": {
      "text/plain": [
       "<AxesSubplot:xlabel='bureauScore'>"
      ]
     },
     "execution_count": 101,
     "metadata": {},
     "output_type": "execute_result"
    },
    {
     "data": {
      "image/png": "[encoded data removed]",
      "text/plain": [
       "<Figure size 432x288 with 1 Axes>"
      ]
     },
     "metadata": {
      "needs_background": "light"
     },
     "output_type": "display_data"
    }
   ],
   "source": [
    "sns.boxplot(x=df['bureauScore'])"
   ]
  },
  {
   "cell_type": "code",
   "execution_count": 102,
   "metadata": {},
   "outputs": [
    {
     "data": {
      "text/plain": [
       "<AxesSubplot:xlabel='creditLimit'>"
      ]
     },
     "execution_count": 102,
     "metadata": {},
     "output_type": "execute_result"
    },
    {
     "data": {
      "image/png": "[encoded data removed]",
      "text/plain": [
       "<Figure size 432x288 with 1 Axes>"
      ]
     },
     "metadata": {
      "needs_background": "light"
     },
     "output_type": "display_data"
    }
   ],
   "source": [
    "sns.boxplot(x=df['creditLimit'])"
   ]
  },
  {
   "cell_type": "code",
   "execution_count": 103,
   "metadata": {},
   "outputs": [
    {
     "data": {
      "text/plain": [
       "<AxesSubplot:xlabel='currentBalance'>"
      ]
     },
     "execution_count": 103,
     "metadata": {},
     "output_type": "execute_result"
    },
    {
     "data": {
      "image/png": "[encoded data removed]",
      "text/plain": [
       "<Figure size 432x288 with 1 Axes>"
      ]
     },
     "metadata": {
      "needs_background": "light"
     },
     "output_type": "display_data"
    }
   ],
   "source": [
    "sns.boxplot(x=df['currentBalance'])"
   ]
  },
  {
   "cell_type": "code",
   "execution_count": 104,
   "metadata": {},
   "outputs": [
    {
     "data": {
      "text/plain": [
       "<AxesSubplot:xlabel='disbursedAmount'>"
      ]
     },
     "execution_count": 104,
     "metadata": {},
     "output_type": "execute_result"
    },
    {
     "data": {
      "image/png": "[encoded data removed]",
      "text/plain": [
       "<Figure size 432x288 with 1 Axes>"
      ]
     },
     "metadata": {
      "needs_background": "light"
     },
     "output_type": "display_data"
    }
   ],
   "source": [
    "sns.boxplot(x=df['disbursedAmount'])"
   ]
  },
  {
   "cell_type": "code",
   "execution_count": 105,
   "metadata": {},
   "outputs": [
    {
     "data": {
      "text/plain": [
       "<AxesSubplot:xlabel='writeOffAmount'>"
      ]
     },
     "execution_count": 105,
     "metadata": {},
     "output_type": "execute_result"
    },
    {
     "data": {
      "image/png": "[encoded data removed]",
      "text/plain": [
       "<Figure size 432x288 with 1 Axes>"
      ]
     },
     "metadata": {
      "needs_background": "light"
     },
     "output_type": "display_data"
    }
   ],
   "source": [
    "sns.boxplot(x=df['writeOffAmount'])"
   ]
  },
  {
   "cell_type": "code",
   "execution_count": 106,
   "metadata": {},
   "outputs": [
    {
     "data": {
      "text/plain": [
       "<AxesSubplot:xlabel='overdueAmount'>"
      ]
     },
     "execution_count": 106,
     "metadata": {},
     "output_type": "execute_result"
    },
    {
     "data": {
      "image/png": "[encoded data removed]",
      "text/plain": [
       "<Figure size 432x288 with 1 Axes>"
      ]
     },
     "metadata": {
      "needs_background": "light"
     },
     "output_type": "display_data"
    }
   ],
   "source": [
    "sns.boxplot(x=df['overdueAmount'])"
   ]
  },
  {
   "cell_type": "code",
   "execution_count": 107,
   "metadata": {},
   "outputs": [
    {
     "data": {
      "text/plain": [
       "(7207, 19)"
      ]
     },
     "execution_count": 107,
     "metadata": {},
     "output_type": "execute_result"
    }
   ],
   "source": [
    "df.shape"
   ]
  },
  {
   "cell_type": "code",
   "execution_count": 108,
   "metadata": {},
   "outputs": [
    {
     "data": {
      "text/html": [
       "<div>\n",
       "<style scoped>\n",
       "    .dataframe tbody tr th:only-of-type {\n",
       "        vertical-align: middle;\n",
       "    }\n",
       "\n",
       "    .dataframe tbody tr th {\n",
       "        vertical-align: top;\n",
       "    }\n",
       "\n",
       "    .dataframe thead th {\n",
       "        text-align: right;\n",
       "    }\n",
       "</style>\n",
       "<table border=\"1\" class=\"dataframe\">\n",
       "  <thead>\n",
       "    <tr style=\"text-align: right;\">\n",
       "      <th></th>\n",
       "      <th>loanTenure</th>\n",
       "      <th>loanAmt</th>\n",
       "      <th>creditLimit</th>\n",
       "      <th>currentBalance</th>\n",
       "      <th>disbursedAmount</th>\n",
       "      <th>writeOffAmount</th>\n",
       "      <th>overdueAmount</th>\n",
       "    </tr>\n",
       "  </thead>\n",
       "  <tbody>\n",
       "    <tr>\n",
       "      <th>0</th>\n",
       "      <td>0</td>\n",
       "      <td>15000</td>\n",
       "      <td>25000.0</td>\n",
       "      <td>0.0</td>\n",
       "      <td>17470.0</td>\n",
       "      <td>0.0</td>\n",
       "      <td>0.0</td>\n",
       "    </tr>\n",
       "    <tr>\n",
       "      <th>1</th>\n",
       "      <td>0</td>\n",
       "      <td>15000</td>\n",
       "      <td>25000.0</td>\n",
       "      <td>0.0</td>\n",
       "      <td>10209.0</td>\n",
       "      <td>0.0</td>\n",
       "      <td>0.0</td>\n",
       "    </tr>\n",
       "    <tr>\n",
       "      <th>2</th>\n",
       "      <td>0</td>\n",
       "      <td>15000</td>\n",
       "      <td>25000.0</td>\n",
       "      <td>0.0</td>\n",
       "      <td>50000.0</td>\n",
       "      <td>0.0</td>\n",
       "      <td>0.0</td>\n",
       "    </tr>\n",
       "    <tr>\n",
       "      <th>3</th>\n",
       "      <td>0</td>\n",
       "      <td>25000</td>\n",
       "      <td>25000.0</td>\n",
       "      <td>0.0</td>\n",
       "      <td>25990.0</td>\n",
       "      <td>0.0</td>\n",
       "      <td>0.0</td>\n",
       "    </tr>\n",
       "    <tr>\n",
       "      <th>4</th>\n",
       "      <td>0</td>\n",
       "      <td>30000</td>\n",
       "      <td>25000.0</td>\n",
       "      <td>0.0</td>\n",
       "      <td>61980.0</td>\n",
       "      <td>0.0</td>\n",
       "      <td>0.0</td>\n",
       "    </tr>\n",
       "  </tbody>\n",
       "</table>\n",
       "</div>"
      ],
      "text/plain": [
       "   loanTenure  loanAmt  creditLimit  currentBalance  disbursedAmount  \\\n",
       "0           0    15000      25000.0             0.0          17470.0   \n",
       "1           0    15000      25000.0             0.0          10209.0   \n",
       "2           0    15000      25000.0             0.0          50000.0   \n",
       "3           0    25000      25000.0             0.0          25990.0   \n",
       "4           0    30000      25000.0             0.0          61980.0   \n",
       "\n",
       "   writeOffAmount  overdueAmount  \n",
       "0             0.0            0.0  \n",
       "1             0.0            0.0  \n",
       "2             0.0            0.0  \n",
       "3             0.0            0.0  \n",
       "4             0.0            0.0  "
      ]
     },
     "execution_count": 108,
     "metadata": {},
     "output_type": "execute_result"
    }
   ],
   "source": [
    "out_df = df[['loanTenure', 'loanAmt', 'creditLimit', 'currentBalance', 'disbursedAmount', 'writeOffAmount', 'overdueAmount']]\n",
    "out_df.head()"
   ]
  },
  {
   "cell_type": "code",
   "execution_count": 109,
   "metadata": {},
   "outputs": [
    {
     "name": "stdout",
     "output_type": "stream",
     "text": [
      "age                    14.0\n",
      "pinCode            234803.0\n",
      "loanAmt             25000.0\n",
      "loanTenure              0.0\n",
      "bureauScore           312.0\n",
      "creditLimit             0.0\n",
      "currentBalance       5712.5\n",
      "repaymentTenure         0.0\n",
      "disbursedAmount     37121.0\n",
      "writeOffAmount          0.0\n",
      "overdueAmount           0.0\n",
      "dtype: float64\n"
     ]
    }
   ],
   "source": [
    "Q1 = df.quantile(0.25)\n",
    "Q3 = df.quantile(0.75)\n",
    "IQR = Q3 - Q1\n",
    "print(IQR)"
   ]
  },
  {
   "cell_type": "code",
   "execution_count": 110,
   "metadata": {},
   "outputs": [
    {
     "data": {
      "text/plain": [
       "(3204, 19)"
      ]
     },
     "execution_count": 110,
     "metadata": {},
     "output_type": "execute_result"
    }
   ],
   "source": [
    "out_df = df[~((df < (Q1 - 1.5 * IQR)) |(df > (Q3 + 1.5 * IQR))).any(axis=1)]\n",
    "out_df.shape"
   ]
  },
  {
   "cell_type": "code",
   "execution_count": 111,
   "metadata": {},
   "outputs": [
    {
     "data": {
      "text/html": [
       "<div>\n",
       "<style scoped>\n",
       "    .dataframe tbody tr th:only-of-type {\n",
       "        vertical-align: middle;\n",
       "    }\n",
       "\n",
       "    .dataframe tbody tr th {\n",
       "        vertical-align: top;\n",
       "    }\n",
       "\n",
       "    .dataframe thead th {\n",
       "        text-align: right;\n",
       "    }\n",
       "</style>\n",
       "<table border=\"1\" class=\"dataframe\">\n",
       "  <thead>\n",
       "    <tr style=\"text-align: right;\">\n",
       "      <th></th>\n",
       "      <th>Target</th>\n",
       "      <th>empType</th>\n",
       "      <th>education</th>\n",
       "      <th>age</th>\n",
       "      <th>gender</th>\n",
       "      <th>pinCode</th>\n",
       "      <th>addrsStateCode</th>\n",
       "      <th>maritalStatus</th>\n",
       "      <th>loanType</th>\n",
       "      <th>loanAmt</th>\n",
       "      <th>loanTenure</th>\n",
       "      <th>bureauScore</th>\n",
       "      <th>creditLimit</th>\n",
       "      <th>currentBalance</th>\n",
       "      <th>accountType</th>\n",
       "      <th>repaymentTenure</th>\n",
       "      <th>disbursedAmount</th>\n",
       "      <th>writeOffAmount</th>\n",
       "      <th>overdueAmount</th>\n",
       "    </tr>\n",
       "  </thead>\n",
       "  <tbody>\n",
       "    <tr>\n",
       "      <th>0</th>\n",
       "      <td>Approved</td>\n",
       "      <td>Others</td>\n",
       "      <td>OTHERS</td>\n",
       "      <td>21</td>\n",
       "      <td>Male</td>\n",
       "      <td>302026</td>\n",
       "      <td>RAJASTHAN</td>\n",
       "      <td>Single</td>\n",
       "      <td>DPL</td>\n",
       "      <td>15000</td>\n",
       "      <td>0</td>\n",
       "      <td>825.0</td>\n",
       "      <td>25000.0</td>\n",
       "      <td>0.0</td>\n",
       "      <td>Consumer Loan</td>\n",
       "      <td>26.0</td>\n",
       "      <td>17470.0</td>\n",
       "      <td>0.0</td>\n",
       "      <td>0.0</td>\n",
       "    </tr>\n",
       "    <tr>\n",
       "      <th>1</th>\n",
       "      <td>Approved</td>\n",
       "      <td>Others</td>\n",
       "      <td>OTHERS</td>\n",
       "      <td>21</td>\n",
       "      <td>Male</td>\n",
       "      <td>302026</td>\n",
       "      <td>RAJASTHAN</td>\n",
       "      <td>Single</td>\n",
       "      <td>DPL</td>\n",
       "      <td>15000</td>\n",
       "      <td>0</td>\n",
       "      <td>825.0</td>\n",
       "      <td>25000.0</td>\n",
       "      <td>0.0</td>\n",
       "      <td>Consumer Loan</td>\n",
       "      <td>26.0</td>\n",
       "      <td>10209.0</td>\n",
       "      <td>0.0</td>\n",
       "      <td>0.0</td>\n",
       "    </tr>\n",
       "    <tr>\n",
       "      <th>2</th>\n",
       "      <td>Approved</td>\n",
       "      <td>Others</td>\n",
       "      <td>OTHERS</td>\n",
       "      <td>21</td>\n",
       "      <td>Male</td>\n",
       "      <td>302026</td>\n",
       "      <td>RAJASTHAN</td>\n",
       "      <td>Single</td>\n",
       "      <td>DPL</td>\n",
       "      <td>15000</td>\n",
       "      <td>0</td>\n",
       "      <td>825.0</td>\n",
       "      <td>25000.0</td>\n",
       "      <td>0.0</td>\n",
       "      <td>Personal Loan</td>\n",
       "      <td>26.0</td>\n",
       "      <td>50000.0</td>\n",
       "      <td>0.0</td>\n",
       "      <td>0.0</td>\n",
       "    </tr>\n",
       "    <tr>\n",
       "      <th>3</th>\n",
       "      <td>Declined</td>\n",
       "      <td>Others</td>\n",
       "      <td>OTHERS</td>\n",
       "      <td>30</td>\n",
       "      <td>Male</td>\n",
       "      <td>713336</td>\n",
       "      <td>WEST BENGAL</td>\n",
       "      <td>Single</td>\n",
       "      <td>DPL</td>\n",
       "      <td>25000</td>\n",
       "      <td>0</td>\n",
       "      <td>-1.0</td>\n",
       "      <td>25000.0</td>\n",
       "      <td>0.0</td>\n",
       "      <td>Consumer Loan</td>\n",
       "      <td>26.0</td>\n",
       "      <td>25990.0</td>\n",
       "      <td>0.0</td>\n",
       "      <td>0.0</td>\n",
       "    </tr>\n",
       "    <tr>\n",
       "      <th>4</th>\n",
       "      <td>Approved</td>\n",
       "      <td>Others</td>\n",
       "      <td>OTHERS</td>\n",
       "      <td>23</td>\n",
       "      <td>Male</td>\n",
       "      <td>686004</td>\n",
       "      <td>KERALA</td>\n",
       "      <td>missing</td>\n",
       "      <td>DPL</td>\n",
       "      <td>30000</td>\n",
       "      <td>0</td>\n",
       "      <td>830.0</td>\n",
       "      <td>25000.0</td>\n",
       "      <td>0.0</td>\n",
       "      <td>Two-Wheeler Loan</td>\n",
       "      <td>26.0</td>\n",
       "      <td>61980.0</td>\n",
       "      <td>0.0</td>\n",
       "      <td>0.0</td>\n",
       "    </tr>\n",
       "  </tbody>\n",
       "</table>\n",
       "</div>"
      ],
      "text/plain": [
       "     Target empType education  age gender  pinCode addrsStateCode  \\\n",
       "0  Approved  Others    OTHERS   21   Male   302026      RAJASTHAN   \n",
       "1  Approved  Others    OTHERS   21   Male   302026      RAJASTHAN   \n",
       "2  Approved  Others    OTHERS   21   Male   302026      RAJASTHAN   \n",
       "3  Declined  Others    OTHERS   30   Male   713336    WEST BENGAL   \n",
       "4  Approved  Others    OTHERS   23   Male   686004         KERALA   \n",
       "\n",
       "  maritalStatus loanType  loanAmt  loanTenure  bureauScore  creditLimit  \\\n",
       "0        Single      DPL    15000           0        825.0      25000.0   \n",
       "1        Single      DPL    15000           0        825.0      25000.0   \n",
       "2        Single      DPL    15000           0        825.0      25000.0   \n",
       "3        Single      DPL    25000           0         -1.0      25000.0   \n",
       "4       missing      DPL    30000           0        830.0      25000.0   \n",
       "\n",
       "   currentBalance       accountType  repaymentTenure  disbursedAmount  \\\n",
       "0             0.0     Consumer Loan             26.0          17470.0   \n",
       "1             0.0     Consumer Loan             26.0          10209.0   \n",
       "2             0.0     Personal Loan             26.0          50000.0   \n",
       "3             0.0     Consumer Loan             26.0          25990.0   \n",
       "4             0.0  Two-Wheeler Loan             26.0          61980.0   \n",
       "\n",
       "   writeOffAmount  overdueAmount  \n",
       "0             0.0            0.0  \n",
       "1             0.0            0.0  \n",
       "2             0.0            0.0  \n",
       "3             0.0            0.0  \n",
       "4             0.0            0.0  "
      ]
     },
     "execution_count": 111,
     "metadata": {},
     "output_type": "execute_result"
    }
   ],
   "source": [
    "df = out_df.copy()\n",
    "df.head()"
   ]
  },
  {
   "cell_type": "code",
   "execution_count": 112,
   "metadata": {},
   "outputs": [
    {
     "data": {
      "text/plain": [
       "(3204, 19)"
      ]
     },
     "execution_count": 112,
     "metadata": {},
     "output_type": "execute_result"
    }
   ],
   "source": [
    "df.shape"
   ]
  },
  {
   "cell_type": "markdown",
   "metadata": {},
   "source": [
    "## 3.) Feature Engineering"
   ]
  },
  {
   "cell_type": "markdown",
   "metadata": {},
   "source": [
    "### Separating variables"
   ]
  },
  {
   "cell_type": "code",
   "execution_count": 113,
   "metadata": {},
   "outputs": [
    {
     "data": {
      "text/plain": [
       "(3204, 19)"
      ]
     },
     "execution_count": 113,
     "metadata": {},
     "output_type": "execute_result"
    }
   ],
   "source": [
    "df.shape"
   ]
  },
  {
   "cell_type": "code",
   "execution_count": 114,
   "metadata": {},
   "outputs": [
    {
     "name": "stdout",
     "output_type": "stream",
     "text": [
      "<class 'pandas.core.frame.DataFrame'>\n",
      "Int64Index: 3204 entries, 0 to 7725\n",
      "Data columns (total 19 columns):\n",
      " #   Column           Non-Null Count  Dtype  \n",
      "---  ------           --------------  -----  \n",
      " 0   Target           3204 non-null   object \n",
      " 1   empType          3204 non-null   object \n",
      " 2   education        3204 non-null   object \n",
      " 3   age              3204 non-null   int64  \n",
      " 4   gender           3204 non-null   object \n",
      " 5   pinCode          3204 non-null   int64  \n",
      " 6   addrsStateCode   3204 non-null   object \n",
      " 7   maritalStatus    3204 non-null   object \n",
      " 8   loanType         3204 non-null   object \n",
      " 9   loanAmt          3204 non-null   int64  \n",
      " 10  loanTenure       3204 non-null   int64  \n",
      " 11  bureauScore      3204 non-null   float64\n",
      " 12  creditLimit      3204 non-null   float64\n",
      " 13  currentBalance   3204 non-null   float64\n",
      " 14  accountType      3204 non-null   object \n",
      " 15  repaymentTenure  3204 non-null   float64\n",
      " 16  disbursedAmount  3204 non-null   float64\n",
      " 17  writeOffAmount   3204 non-null   float64\n",
      " 18  overdueAmount    3204 non-null   float64\n",
      "dtypes: float64(7), int64(4), object(8)\n",
      "memory usage: 500.6+ KB\n"
     ]
    }
   ],
   "source": [
    "df.info()"
   ]
  },
  {
   "cell_type": "code",
   "execution_count": 115,
   "metadata": {},
   "outputs": [
    {
     "name": "stdout",
     "output_type": "stream",
     "text": [
      "NOMINAL COLUMNS: ['empType', 'maritalStatus', 'loanType', 'addrsStateCode', 'accountType']\n"
     ]
    }
   ],
   "source": [
    "nominal_cols = ['empType', 'maritalStatus', 'loanType', 'addrsStateCode', 'accountType']\n",
    "print('NOMINAL COLUMNS:', nominal_cols)\n",
    "\n",
    "#num_cols = ['age', 'netMonthlyIncome', 'loanAmt', 'loanTenure', 'bureauScore']\n",
    "#print('NUMERICAL COLUMNS:', num_cols)\n",
    "\n",
    "# one-hot encoding > gender, maritalStatus, idType, loanType, empType\n",
    "# ordinal > education"
   ]
  },
  {
   "cell_type": "markdown",
   "metadata": {},
   "source": [
    "### Label encoding target variable"
   ]
  },
  {
   "cell_type": "code",
   "execution_count": 116,
   "metadata": {},
   "outputs": [],
   "source": [
    "replace_map = {'Target': {'Approved': 1, 'Declined': 0}}\n",
    "df.replace(replace_map, inplace=True)"
   ]
  },
  {
   "cell_type": "code",
   "execution_count": 117,
   "metadata": {},
   "outputs": [],
   "source": [
    "replace_map = {'gender': {'Female': 1, 'Male': 0}}\n",
    "df.replace(replace_map, inplace=True)"
   ]
  },
  {
   "cell_type": "markdown",
   "metadata": {},
   "source": [
    "### Label encoding ordinal variable"
   ]
  },
  {
   "cell_type": "code",
   "execution_count": 118,
   "metadata": {},
   "outputs": [
    {
     "data": {
      "text/plain": [
       "OTHERS            3170\n",
       "GRADUATE            17\n",
       "UNDER GRADUATE      16\n",
       "POST-GRADUATE        1\n",
       "Name: education, dtype: int64"
      ]
     },
     "execution_count": 118,
     "metadata": {},
     "output_type": "execute_result"
    }
   ],
   "source": [
    "df['education'].value_counts()"
   ]
  },
  {
   "cell_type": "code",
   "execution_count": 119,
   "metadata": {},
   "outputs": [],
   "source": [
    "replace_map = {'education': {'OTHERS':1, 'SSC':2, '12TH':3, 'UNDER GRADUATE':4, 'GRADUATE':5, 'POST-GRADUATE':6, 'DOCTORATE':7, 'PROFESSIONAL':8}}\n",
    "df.replace(replace_map, inplace=True)"
   ]
  },
  {
   "cell_type": "markdown",
   "metadata": {},
   "source": [
    "### One-hot encoding nominal variables"
   ]
  },
  {
   "cell_type": "code",
   "execution_count": 120,
   "metadata": {},
   "outputs": [],
   "source": [
    "final_df = pd.get_dummies(df, columns=nominal_cols, drop_first=False)"
   ]
  },
  {
   "cell_type": "code",
   "execution_count": 121,
   "metadata": {},
   "outputs": [
    {
     "data": {
      "text/html": [
       "<div>\n",
       "<style scoped>\n",
       "    .dataframe tbody tr th:only-of-type {\n",
       "        vertical-align: middle;\n",
       "    }\n",
       "\n",
       "    .dataframe tbody tr th {\n",
       "        vertical-align: top;\n",
       "    }\n",
       "\n",
       "    .dataframe thead th {\n",
       "        text-align: right;\n",
       "    }\n",
       "</style>\n",
       "<table border=\"1\" class=\"dataframe\">\n",
       "  <thead>\n",
       "    <tr style=\"text-align: right;\">\n",
       "      <th></th>\n",
       "      <th>Target</th>\n",
       "      <th>education</th>\n",
       "      <th>age</th>\n",
       "      <th>gender</th>\n",
       "      <th>pinCode</th>\n",
       "      <th>loanAmt</th>\n",
       "      <th>loanTenure</th>\n",
       "      <th>bureauScore</th>\n",
       "      <th>creditLimit</th>\n",
       "      <th>currentBalance</th>\n",
       "      <th>...</th>\n",
       "      <th>accountType_Microfinance Others</th>\n",
       "      <th>accountType_Microfinance Personal Loan</th>\n",
       "      <th>accountType_Mudra Loans - Shishu / Kishor / Tarun</th>\n",
       "      <th>accountType_Other</th>\n",
       "      <th>accountType_Overdraft</th>\n",
       "      <th>accountType_Personal Loan</th>\n",
       "      <th>accountType_Prime Minister Jaan Dhan Yojana - Overdraft</th>\n",
       "      <th>accountType_Property Loan</th>\n",
       "      <th>accountType_Tractor Loan</th>\n",
       "      <th>accountType_Two-Wheeler Loan</th>\n",
       "    </tr>\n",
       "  </thead>\n",
       "  <tbody>\n",
       "    <tr>\n",
       "      <th>0</th>\n",
       "      <td>1</td>\n",
       "      <td>1</td>\n",
       "      <td>21</td>\n",
       "      <td>0</td>\n",
       "      <td>302026</td>\n",
       "      <td>15000</td>\n",
       "      <td>0</td>\n",
       "      <td>825.0</td>\n",
       "      <td>25000.0</td>\n",
       "      <td>0.0</td>\n",
       "      <td>...</td>\n",
       "      <td>0</td>\n",
       "      <td>0</td>\n",
       "      <td>0</td>\n",
       "      <td>0</td>\n",
       "      <td>0</td>\n",
       "      <td>0</td>\n",
       "      <td>0</td>\n",
       "      <td>0</td>\n",
       "      <td>0</td>\n",
       "      <td>0</td>\n",
       "    </tr>\n",
       "    <tr>\n",
       "      <th>1</th>\n",
       "      <td>1</td>\n",
       "      <td>1</td>\n",
       "      <td>21</td>\n",
       "      <td>0</td>\n",
       "      <td>302026</td>\n",
       "      <td>15000</td>\n",
       "      <td>0</td>\n",
       "      <td>825.0</td>\n",
       "      <td>25000.0</td>\n",
       "      <td>0.0</td>\n",
       "      <td>...</td>\n",
       "      <td>0</td>\n",
       "      <td>0</td>\n",
       "      <td>0</td>\n",
       "      <td>0</td>\n",
       "      <td>0</td>\n",
       "      <td>0</td>\n",
       "      <td>0</td>\n",
       "      <td>0</td>\n",
       "      <td>0</td>\n",
       "      <td>0</td>\n",
       "    </tr>\n",
       "    <tr>\n",
       "      <th>2</th>\n",
       "      <td>1</td>\n",
       "      <td>1</td>\n",
       "      <td>21</td>\n",
       "      <td>0</td>\n",
       "      <td>302026</td>\n",
       "      <td>15000</td>\n",
       "      <td>0</td>\n",
       "      <td>825.0</td>\n",
       "      <td>25000.0</td>\n",
       "      <td>0.0</td>\n",
       "      <td>...</td>\n",
       "      <td>0</td>\n",
       "      <td>0</td>\n",
       "      <td>0</td>\n",
       "      <td>0</td>\n",
       "      <td>0</td>\n",
       "      <td>1</td>\n",
       "      <td>0</td>\n",
       "      <td>0</td>\n",
       "      <td>0</td>\n",
       "      <td>0</td>\n",
       "    </tr>\n",
       "    <tr>\n",
       "      <th>3</th>\n",
       "      <td>0</td>\n",
       "      <td>1</td>\n",
       "      <td>30</td>\n",
       "      <td>0</td>\n",
       "      <td>713336</td>\n",
       "      <td>25000</td>\n",
       "      <td>0</td>\n",
       "      <td>-1.0</td>\n",
       "      <td>25000.0</td>\n",
       "      <td>0.0</td>\n",
       "      <td>...</td>\n",
       "      <td>0</td>\n",
       "      <td>0</td>\n",
       "      <td>0</td>\n",
       "      <td>0</td>\n",
       "      <td>0</td>\n",
       "      <td>0</td>\n",
       "      <td>0</td>\n",
       "      <td>0</td>\n",
       "      <td>0</td>\n",
       "      <td>0</td>\n",
       "    </tr>\n",
       "    <tr>\n",
       "      <th>4</th>\n",
       "      <td>1</td>\n",
       "      <td>1</td>\n",
       "      <td>23</td>\n",
       "      <td>0</td>\n",
       "      <td>686004</td>\n",
       "      <td>30000</td>\n",
       "      <td>0</td>\n",
       "      <td>830.0</td>\n",
       "      <td>25000.0</td>\n",
       "      <td>0.0</td>\n",
       "      <td>...</td>\n",
       "      <td>0</td>\n",
       "      <td>0</td>\n",
       "      <td>0</td>\n",
       "      <td>0</td>\n",
       "      <td>0</td>\n",
       "      <td>0</td>\n",
       "      <td>0</td>\n",
       "      <td>0</td>\n",
       "      <td>0</td>\n",
       "      <td>1</td>\n",
       "    </tr>\n",
       "  </tbody>\n",
       "</table>\n",
       "<p>5 rows × 73 columns</p>\n",
       "</div>"
      ],
      "text/plain": [
       "   Target  education  age  gender  pinCode  loanAmt  loanTenure  bureauScore  \\\n",
       "0       1          1   21       0   302026    15000           0        825.0   \n",
       "1       1          1   21       0   302026    15000           0        825.0   \n",
       "2       1          1   21       0   302026    15000           0        825.0   \n",
       "3       0          1   30       0   713336    25000           0         -1.0   \n",
       "4       1          1   23       0   686004    30000           0        830.0   \n",
       "\n",
       "   creditLimit  currentBalance  ...  accountType_Microfinance Others  \\\n",
       "0      25000.0             0.0  ...                                0   \n",
       "1      25000.0             0.0  ...                                0   \n",
       "2      25000.0             0.0  ...                                0   \n",
       "3      25000.0             0.0  ...                                0   \n",
       "4      25000.0             0.0  ...                                0   \n",
       "\n",
       "   accountType_Microfinance Personal Loan  \\\n",
       "0                                       0   \n",
       "1                                       0   \n",
       "2                                       0   \n",
       "3                                       0   \n",
       "4                                       0   \n",
       "\n",
       "   accountType_Mudra Loans - Shishu / Kishor / Tarun  accountType_Other  \\\n",
       "0                                                  0                  0   \n",
       "1                                                  0                  0   \n",
       "2                                                  0                  0   \n",
       "3                                                  0                  0   \n",
       "4                                                  0                  0   \n",
       "\n",
       "   accountType_Overdraft  accountType_Personal Loan  \\\n",
       "0                      0                          0   \n",
       "1                      0                          0   \n",
       "2                      0                          1   \n",
       "3                      0                          0   \n",
       "4                      0                          0   \n",
       "\n",
       "   accountType_Prime Minister Jaan Dhan Yojana - Overdraft  \\\n",
       "0                                                  0         \n",
       "1                                                  0         \n",
       "2                                                  0         \n",
       "3                                                  0         \n",
       "4                                                  0         \n",
       "\n",
       "   accountType_Property Loan  accountType_Tractor Loan  \\\n",
       "0                          0                         0   \n",
       "1                          0                         0   \n",
       "2                          0                         0   \n",
       "3                          0                         0   \n",
       "4                          0                         0   \n",
       "\n",
       "   accountType_Two-Wheeler Loan  \n",
       "0                             0  \n",
       "1                             0  \n",
       "2                             0  \n",
       "3                             0  \n",
       "4                             1  \n",
       "\n",
       "[5 rows x 73 columns]"
      ]
     },
     "execution_count": 121,
     "metadata": {},
     "output_type": "execute_result"
    }
   ],
   "source": [
    "final_df.head()"
   ]
  },
  {
   "cell_type": "code",
   "execution_count": 122,
   "metadata": {},
   "outputs": [
    {
     "data": {
      "text/plain": [
       "(3204, 73)"
      ]
     },
     "execution_count": 122,
     "metadata": {},
     "output_type": "execute_result"
    }
   ],
   "source": [
    "final_df.shape"
   ]
  },
  {
   "cell_type": "markdown",
   "metadata": {},
   "source": [
    "### Normalization of features"
   ]
  },
  {
   "cell_type": "raw",
   "metadata": {},
   "source": [
    "normalized_X = preprocessing.normalize(X)"
   ]
  },
  {
   "cell_type": "markdown",
   "metadata": {},
   "source": [
    "### Restructuring the dataframe"
   ]
  },
  {
   "cell_type": "raw",
   "metadata": {},
   "source": [
    "index_values = X.index.values\n",
    "column_values = X.columns.values \n",
    "\n",
    "X = pd.DataFrame(data = normalized_X,  \n",
    "                  index = index_values,  \n",
    "                  columns = column_values)"
   ]
  },
  {
   "cell_type": "markdown",
   "metadata": {},
   "source": [
    "### MinMaxScaler"
   ]
  },
  {
   "cell_type": "markdown",
   "metadata": {},
   "source": [
    "X_std = (X - X.min(axis=0)) / (X.max(axis=0) - X.min(axis=0))\n",
    "X_scaled = X_std * (max - min) + min"
   ]
  },
  {
   "cell_type": "code",
   "execution_count": 123,
   "metadata": {},
   "outputs": [],
   "source": [
    "scaler = MinMaxScaler()\n",
    "minMax_X = scaler.fit_transform(final_df)"
   ]
  },
  {
   "cell_type": "markdown",
   "metadata": {},
   "source": [
    "### Restructuring the dataframe"
   ]
  },
  {
   "cell_type": "code",
   "execution_count": 124,
   "metadata": {},
   "outputs": [],
   "source": [
    "index_values = final_df.index.values\n",
    "column_values = final_df.columns.values \n",
    "\n",
    "final_df = pd.DataFrame(data = minMax_X,  \n",
    "                  index = index_values,  \n",
    "                  columns = column_values)"
   ]
  },
  {
   "cell_type": "code",
   "execution_count": 125,
   "metadata": {},
   "outputs": [
    {
     "data": {
      "text/html": [
       "<div>\n",
       "<style scoped>\n",
       "    .dataframe tbody tr th:only-of-type {\n",
       "        vertical-align: middle;\n",
       "    }\n",
       "\n",
       "    .dataframe tbody tr th {\n",
       "        vertical-align: top;\n",
       "    }\n",
       "\n",
       "    .dataframe thead th {\n",
       "        text-align: right;\n",
       "    }\n",
       "</style>\n",
       "<table border=\"1\" class=\"dataframe\">\n",
       "  <thead>\n",
       "    <tr style=\"text-align: right;\">\n",
       "      <th></th>\n",
       "      <th>Target</th>\n",
       "      <th>education</th>\n",
       "      <th>age</th>\n",
       "      <th>gender</th>\n",
       "      <th>pinCode</th>\n",
       "      <th>loanAmt</th>\n",
       "      <th>loanTenure</th>\n",
       "      <th>bureauScore</th>\n",
       "      <th>creditLimit</th>\n",
       "      <th>currentBalance</th>\n",
       "      <th>...</th>\n",
       "      <th>accountType_Microfinance Others</th>\n",
       "      <th>accountType_Microfinance Personal Loan</th>\n",
       "      <th>accountType_Mudra Loans - Shishu / Kishor / Tarun</th>\n",
       "      <th>accountType_Other</th>\n",
       "      <th>accountType_Overdraft</th>\n",
       "      <th>accountType_Personal Loan</th>\n",
       "      <th>accountType_Prime Minister Jaan Dhan Yojana - Overdraft</th>\n",
       "      <th>accountType_Property Loan</th>\n",
       "      <th>accountType_Tractor Loan</th>\n",
       "      <th>accountType_Two-Wheeler Loan</th>\n",
       "    </tr>\n",
       "  </thead>\n",
       "  <tbody>\n",
       "    <tr>\n",
       "      <th>0</th>\n",
       "      <td>1.0</td>\n",
       "      <td>0.0</td>\n",
       "      <td>0.068182</td>\n",
       "      <td>0.0</td>\n",
       "      <td>0.264777</td>\n",
       "      <td>0.182428</td>\n",
       "      <td>0.0</td>\n",
       "      <td>0.976359</td>\n",
       "      <td>0.0</td>\n",
       "      <td>0.106861</td>\n",
       "      <td>...</td>\n",
       "      <td>0.0</td>\n",
       "      <td>0.0</td>\n",
       "      <td>0.0</td>\n",
       "      <td>0.0</td>\n",
       "      <td>0.0</td>\n",
       "      <td>0.0</td>\n",
       "      <td>0.0</td>\n",
       "      <td>0.0</td>\n",
       "      <td>0.0</td>\n",
       "      <td>0.0</td>\n",
       "    </tr>\n",
       "    <tr>\n",
       "      <th>1</th>\n",
       "      <td>1.0</td>\n",
       "      <td>0.0</td>\n",
       "      <td>0.068182</td>\n",
       "      <td>0.0</td>\n",
       "      <td>0.264777</td>\n",
       "      <td>0.182428</td>\n",
       "      <td>0.0</td>\n",
       "      <td>0.976359</td>\n",
       "      <td>0.0</td>\n",
       "      <td>0.106861</td>\n",
       "      <td>...</td>\n",
       "      <td>0.0</td>\n",
       "      <td>0.0</td>\n",
       "      <td>0.0</td>\n",
       "      <td>0.0</td>\n",
       "      <td>0.0</td>\n",
       "      <td>0.0</td>\n",
       "      <td>0.0</td>\n",
       "      <td>0.0</td>\n",
       "      <td>0.0</td>\n",
       "      <td>0.0</td>\n",
       "    </tr>\n",
       "    <tr>\n",
       "      <th>2</th>\n",
       "      <td>1.0</td>\n",
       "      <td>0.0</td>\n",
       "      <td>0.068182</td>\n",
       "      <td>0.0</td>\n",
       "      <td>0.264777</td>\n",
       "      <td>0.182428</td>\n",
       "      <td>0.0</td>\n",
       "      <td>0.976359</td>\n",
       "      <td>0.0</td>\n",
       "      <td>0.106861</td>\n",
       "      <td>...</td>\n",
       "      <td>0.0</td>\n",
       "      <td>0.0</td>\n",
       "      <td>0.0</td>\n",
       "      <td>0.0</td>\n",
       "      <td>0.0</td>\n",
       "      <td>1.0</td>\n",
       "      <td>0.0</td>\n",
       "      <td>0.0</td>\n",
       "      <td>0.0</td>\n",
       "      <td>0.0</td>\n",
       "    </tr>\n",
       "    <tr>\n",
       "      <th>3</th>\n",
       "      <td>0.0</td>\n",
       "      <td>0.0</td>\n",
       "      <td>0.272727</td>\n",
       "      <td>0.0</td>\n",
       "      <td>0.831931</td>\n",
       "      <td>0.304454</td>\n",
       "      <td>0.0</td>\n",
       "      <td>0.000000</td>\n",
       "      <td>0.0</td>\n",
       "      <td>0.106861</td>\n",
       "      <td>...</td>\n",
       "      <td>0.0</td>\n",
       "      <td>0.0</td>\n",
       "      <td>0.0</td>\n",
       "      <td>0.0</td>\n",
       "      <td>0.0</td>\n",
       "      <td>0.0</td>\n",
       "      <td>0.0</td>\n",
       "      <td>0.0</td>\n",
       "      <td>0.0</td>\n",
       "      <td>0.0</td>\n",
       "    </tr>\n",
       "    <tr>\n",
       "      <th>4</th>\n",
       "      <td>1.0</td>\n",
       "      <td>0.0</td>\n",
       "      <td>0.113636</td>\n",
       "      <td>0.0</td>\n",
       "      <td>0.794243</td>\n",
       "      <td>0.365467</td>\n",
       "      <td>0.0</td>\n",
       "      <td>0.982270</td>\n",
       "      <td>0.0</td>\n",
       "      <td>0.106861</td>\n",
       "      <td>...</td>\n",
       "      <td>0.0</td>\n",
       "      <td>0.0</td>\n",
       "      <td>0.0</td>\n",
       "      <td>0.0</td>\n",
       "      <td>0.0</td>\n",
       "      <td>0.0</td>\n",
       "      <td>0.0</td>\n",
       "      <td>0.0</td>\n",
       "      <td>0.0</td>\n",
       "      <td>1.0</td>\n",
       "    </tr>\n",
       "  </tbody>\n",
       "</table>\n",
       "<p>5 rows × 73 columns</p>\n",
       "</div>"
      ],
      "text/plain": [
       "   Target  education       age  gender   pinCode   loanAmt  loanTenure  \\\n",
       "0     1.0        0.0  0.068182     0.0  0.264777  0.182428         0.0   \n",
       "1     1.0        0.0  0.068182     0.0  0.264777  0.182428         0.0   \n",
       "2     1.0        0.0  0.068182     0.0  0.264777  0.182428         0.0   \n",
       "3     0.0        0.0  0.272727     0.0  0.831931  0.304454         0.0   \n",
       "4     1.0        0.0  0.113636     0.0  0.794243  0.365467         0.0   \n",
       "\n",
       "   bureauScore  creditLimit  currentBalance  ...  \\\n",
       "0     0.976359          0.0        0.106861  ...   \n",
       "1     0.976359          0.0        0.106861  ...   \n",
       "2     0.976359          0.0        0.106861  ...   \n",
       "3     0.000000          0.0        0.106861  ...   \n",
       "4     0.982270          0.0        0.106861  ...   \n",
       "\n",
       "   accountType_Microfinance Others  accountType_Microfinance Personal Loan  \\\n",
       "0                              0.0                                     0.0   \n",
       "1                              0.0                                     0.0   \n",
       "2                              0.0                                     0.0   \n",
       "3                              0.0                                     0.0   \n",
       "4                              0.0                                     0.0   \n",
       "\n",
       "   accountType_Mudra Loans - Shishu / Kishor / Tarun  accountType_Other  \\\n",
       "0                                                0.0                0.0   \n",
       "1                                                0.0                0.0   \n",
       "2                                                0.0                0.0   \n",
       "3                                                0.0                0.0   \n",
       "4                                                0.0                0.0   \n",
       "\n",
       "   accountType_Overdraft  accountType_Personal Loan  \\\n",
       "0                    0.0                        0.0   \n",
       "1                    0.0                        0.0   \n",
       "2                    0.0                        1.0   \n",
       "3                    0.0                        0.0   \n",
       "4                    0.0                        0.0   \n",
       "\n",
       "   accountType_Prime Minister Jaan Dhan Yojana - Overdraft  \\\n",
       "0                                                0.0         \n",
       "1                                                0.0         \n",
       "2                                                0.0         \n",
       "3                                                0.0         \n",
       "4                                                0.0         \n",
       "\n",
       "   accountType_Property Loan  accountType_Tractor Loan  \\\n",
       "0                        0.0                       0.0   \n",
       "1                        0.0                       0.0   \n",
       "2                        0.0                       0.0   \n",
       "3                        0.0                       0.0   \n",
       "4                        0.0                       0.0   \n",
       "\n",
       "   accountType_Two-Wheeler Loan  \n",
       "0                           0.0  \n",
       "1                           0.0  \n",
       "2                           0.0  \n",
       "3                           0.0  \n",
       "4                           1.0  \n",
       "\n",
       "[5 rows x 73 columns]"
      ]
     },
     "execution_count": 125,
     "metadata": {},
     "output_type": "execute_result"
    }
   ],
   "source": [
    "final_df.head()"
   ]
  },
  {
   "cell_type": "markdown",
   "metadata": {},
   "source": [
    "### Log transforming skew variables"
   ]
  },
  {
   "cell_type": "code",
   "execution_count": 126,
   "metadata": {},
   "outputs": [],
   "source": [
    "y_col = \"Target\"\n",
    "\n",
    "X = final_df.drop(y_col, axis=1)\n",
    "y = final_df[y_col]"
   ]
  },
  {
   "cell_type": "code",
   "execution_count": 127,
   "metadata": {},
   "outputs": [
    {
     "name": "stdout",
     "output_type": "stream",
     "text": [
      "['education' 'age' 'gender' 'pinCode' 'loanAmt' 'loanTenure' 'bureauScore'\n",
      " 'creditLimit' 'currentBalance' 'repaymentTenure' 'disbursedAmount'\n",
      " 'writeOffAmount' 'overdueAmount' 'empType_Non-Government'\n",
      " 'empType_Others' 'empType_Self Employed' 'maritalStatus_Married'\n",
      " 'maritalStatus_Single' 'maritalStatus_missing' 'loanType_CDL'\n",
      " 'loanType_DPL' 'loanType_LSL' 'loanType_TW'\n",
      " 'addrsStateCode_ANDHRA PRADESH' 'addrsStateCode_ASSAM'\n",
      " 'addrsStateCode_CHHATTISGARH' 'addrsStateCode_DELHI'\n",
      " 'addrsStateCode_GUJARAT' 'addrsStateCode_HARYANA'\n",
      " 'addrsStateCode_HIMACHAL PRADESH' 'addrsStateCode_JHARKHAND'\n",
      " 'addrsStateCode_KARNATAKA' 'addrsStateCode_KERALA'\n",
      " 'addrsStateCode_MADHYA PRADESH' 'addrsStateCode_MAHARASHTRA'\n",
      " 'addrsStateCode_ORISSA' 'addrsStateCode_PUDUCHERRY'\n",
      " 'addrsStateCode_PUNJAB' 'addrsStateCode_RAJASTHAN'\n",
      " 'addrsStateCode_TAMIL NADU' 'addrsStateCode_TELANGANA'\n",
      " 'addrsStateCode_UTTAR PRADESH' 'addrsStateCode_UTTARANCHAL'\n",
      " 'addrsStateCode_WEST BENGAL' 'accountType_Auto Loan (Personal)'\n",
      " 'accountType_Business Loan - Secured'\n",
      " 'accountType_Business Loan Against Bank Deposits'\n",
      " 'accountType_Business Loan General'\n",
      " 'accountType_Business Loan Priority Sector  Agriculture'\n",
      " 'accountType_Business Loan Priority Sector  Others'\n",
      " 'accountType_Business Loan Priority Sector  Small Business'\n",
      " 'accountType_Business Non-Funded Credit Facility General'\n",
      " 'accountType_Business Non-Funded Credit Facility-Priority Sector- Small Business'\n",
      " 'accountType_Commercial Vehicle Loan' 'accountType_Consumer Loan'\n",
      " 'accountType_Credit Card' 'accountType_Education Loan'\n",
      " 'accountType_Gold Loan' 'accountType_JLG Individual'\n",
      " 'accountType_Kisan Credit Card' 'accountType_Loan Against Bank Deposits'\n",
      " 'accountType_Loan Against Shares / Securities'\n",
      " 'accountType_Microfinance Others'\n",
      " 'accountType_Microfinance Personal Loan'\n",
      " 'accountType_Mudra Loans - Shishu / Kishor / Tarun' 'accountType_Other'\n",
      " 'accountType_Overdraft' 'accountType_Personal Loan'\n",
      " 'accountType_Prime Minister Jaan Dhan Yojana - Overdraft'\n",
      " 'accountType_Property Loan' 'accountType_Tractor Loan'\n",
      " 'accountType_Two-Wheeler Loan']\n"
     ]
    }
   ],
   "source": [
    "num_cols = X.select_dtypes('number').columns.values\n",
    "print(num_cols)"
   ]
  },
  {
   "cell_type": "code",
   "execution_count": 128,
   "metadata": {},
   "outputs": [
    {
     "data": {
      "text/html": [
       "<div>\n",
       "<style scoped>\n",
       "    .dataframe tbody tr th:only-of-type {\n",
       "        vertical-align: middle;\n",
       "    }\n",
       "\n",
       "    .dataframe tbody tr th {\n",
       "        vertical-align: top;\n",
       "    }\n",
       "\n",
       "    .dataframe thead th {\n",
       "        text-align: right;\n",
       "    }\n",
       "</style>\n",
       "<table border=\"1\" class=\"dataframe\">\n",
       "  <thead>\n",
       "    <tr style=\"text-align: right;\">\n",
       "      <th></th>\n",
       "      <th>Skew</th>\n",
       "    </tr>\n",
       "  </thead>\n",
       "  <tbody>\n",
       "    <tr>\n",
       "      <th>accountType_Tractor Loan</th>\n",
       "      <td>56.603887</td>\n",
       "    </tr>\n",
       "    <tr>\n",
       "      <th>accountType_Microfinance Others</th>\n",
       "      <td>56.603887</td>\n",
       "    </tr>\n",
       "    <tr>\n",
       "      <th>accountType_Business Non-Funded Credit Facility General</th>\n",
       "      <td>56.603887</td>\n",
       "    </tr>\n",
       "    <tr>\n",
       "      <th>accountType_Business Non-Funded Credit Facility-Priority Sector- Small Business</th>\n",
       "      <td>56.603887</td>\n",
       "    </tr>\n",
       "    <tr>\n",
       "      <th>accountType_Prime Minister Jaan Dhan Yojana - Overdraft</th>\n",
       "      <td>56.603887</td>\n",
       "    </tr>\n",
       "    <tr>\n",
       "      <th>...</th>\n",
       "      <td>...</td>\n",
       "    </tr>\n",
       "    <tr>\n",
       "      <th>addrsStateCode_TAMIL NADU</th>\n",
       "      <td>1.157166</td>\n",
       "    </tr>\n",
       "    <tr>\n",
       "      <th>loanAmt</th>\n",
       "      <td>1.008896</td>\n",
       "    </tr>\n",
       "    <tr>\n",
       "      <th>loanType_CDL</th>\n",
       "      <td>0.780243</td>\n",
       "    </tr>\n",
       "    <tr>\n",
       "      <th>bureauScore</th>\n",
       "      <td>-0.884645</td>\n",
       "    </tr>\n",
       "    <tr>\n",
       "      <th>empType_Others</th>\n",
       "      <td>-8.673508</td>\n",
       "    </tr>\n",
       "  </tbody>\n",
       "</table>\n",
       "<p>61 rows × 1 columns</p>\n",
       "</div>"
      ],
      "text/plain": [
       "                                                         Skew\n",
       "accountType_Tractor Loan                            56.603887\n",
       "accountType_Microfinance Others                     56.603887\n",
       "accountType_Business Non-Funded Credit Facility...  56.603887\n",
       "accountType_Business Non-Funded Credit Facility...  56.603887\n",
       "accountType_Prime Minister Jaan Dhan Yojana - O...  56.603887\n",
       "...                                                       ...\n",
       "addrsStateCode_TAMIL NADU                            1.157166\n",
       "loanAmt                                              1.008896\n",
       "loanType_CDL                                         0.780243\n",
       "bureauScore                                         -0.884645\n",
       "empType_Others                                      -8.673508\n",
       "\n",
       "[61 rows x 1 columns]"
      ]
     },
     "execution_count": 128,
     "metadata": {},
     "output_type": "execute_result"
    }
   ],
   "source": [
    "skew_vals = X[num_cols].skew()\n",
    "\n",
    "skew_limit = 0.75\n",
    "skew_cols = (skew_vals.\n",
    "            sort_values(ascending=False)\n",
    "            .to_frame()\n",
    "            .rename(columns={0:'Skew'})\n",
    "            .query('abs(Skew) > {}'.format(skew_limit)))\n",
    "skew_cols"
   ]
  },
  {
   "cell_type": "code",
   "execution_count": 129,
   "metadata": {},
   "outputs": [
    {
     "data": {
      "image/png": "[encoded data removed]",
      "text/plain": [
       "<Figure size 720x360 with 2 Axes>"
      ]
     },
     "metadata": {
      "needs_background": "light"
     },
     "output_type": "display_data"
    }
   ],
   "source": [
    "# Choose a field\n",
    "field = \"loanAmt\"\n",
    "\n",
    "# Create two \"subplots\" and a \"figure\" using matplotlib\n",
    "fig, (ax_before, ax_after) = plt.subplots(1, 2, figsize=(10, 5))\n",
    "\n",
    "# Create a histogram on the \"ax_before\" subplot\n",
    "df[field].hist(ax=ax_before)\n",
    "\n",
    "# Apply a log transformation (numpy syntax) to this column\n",
    "df[field].apply(np.log1p).hist(ax=ax_after)\n",
    "\n",
    "# Formatting of titles etc. for each subplot\n",
    "ax_before.set(title='before np.log1p', ylabel='frequency', xlabel='value')\n",
    "ax_after.set(title='after np.log1p', ylabel='frequency', xlabel='value')\n",
    "fig.suptitle('Field \"{}\"'.format(field));"
   ]
  },
  {
   "cell_type": "code",
   "execution_count": 130,
   "metadata": {},
   "outputs": [],
   "source": [
    "# Perform the skew transformation:\n",
    "\n",
    "for col in skew_cols.index.values:\n",
    "    X[col] = X[col].apply(np.log1p)"
   ]
  },
  {
   "cell_type": "raw",
   "metadata": {},
   "source": [
    "for col in skew_cols.index.values:\n",
    "    final_df[col] = boxcox(final_df[col])"
   ]
  },
  {
   "cell_type": "code",
   "execution_count": 131,
   "metadata": {},
   "outputs": [
    {
     "data": {
      "text/html": [
       "<div>\n",
       "<style scoped>\n",
       "    .dataframe tbody tr th:only-of-type {\n",
       "        vertical-align: middle;\n",
       "    }\n",
       "\n",
       "    .dataframe tbody tr th {\n",
       "        vertical-align: top;\n",
       "    }\n",
       "\n",
       "    .dataframe thead th {\n",
       "        text-align: right;\n",
       "    }\n",
       "</style>\n",
       "<table border=\"1\" class=\"dataframe\">\n",
       "  <thead>\n",
       "    <tr style=\"text-align: right;\">\n",
       "      <th></th>\n",
       "      <th>education</th>\n",
       "      <th>age</th>\n",
       "      <th>gender</th>\n",
       "      <th>pinCode</th>\n",
       "      <th>loanAmt</th>\n",
       "      <th>loanTenure</th>\n",
       "      <th>bureauScore</th>\n",
       "      <th>creditLimit</th>\n",
       "      <th>currentBalance</th>\n",
       "      <th>repaymentTenure</th>\n",
       "      <th>...</th>\n",
       "      <th>accountType_Microfinance Others</th>\n",
       "      <th>accountType_Microfinance Personal Loan</th>\n",
       "      <th>accountType_Mudra Loans - Shishu / Kishor / Tarun</th>\n",
       "      <th>accountType_Other</th>\n",
       "      <th>accountType_Overdraft</th>\n",
       "      <th>accountType_Personal Loan</th>\n",
       "      <th>accountType_Prime Minister Jaan Dhan Yojana - Overdraft</th>\n",
       "      <th>accountType_Property Loan</th>\n",
       "      <th>accountType_Tractor Loan</th>\n",
       "      <th>accountType_Two-Wheeler Loan</th>\n",
       "    </tr>\n",
       "  </thead>\n",
       "  <tbody>\n",
       "    <tr>\n",
       "      <th>0</th>\n",
       "      <td>0.0</td>\n",
       "      <td>0.068182</td>\n",
       "      <td>0.0</td>\n",
       "      <td>0.264777</td>\n",
       "      <td>0.167570</td>\n",
       "      <td>0.0</td>\n",
       "      <td>0.681256</td>\n",
       "      <td>0.0</td>\n",
       "      <td>0.101528</td>\n",
       "      <td>0.0</td>\n",
       "      <td>...</td>\n",
       "      <td>0.0</td>\n",
       "      <td>0.0</td>\n",
       "      <td>0.0</td>\n",
       "      <td>0.0</td>\n",
       "      <td>0.0</td>\n",
       "      <td>0.000000</td>\n",
       "      <td>0.0</td>\n",
       "      <td>0.0</td>\n",
       "      <td>0.0</td>\n",
       "      <td>0.000000</td>\n",
       "    </tr>\n",
       "    <tr>\n",
       "      <th>1</th>\n",
       "      <td>0.0</td>\n",
       "      <td>0.068182</td>\n",
       "      <td>0.0</td>\n",
       "      <td>0.264777</td>\n",
       "      <td>0.167570</td>\n",
       "      <td>0.0</td>\n",
       "      <td>0.681256</td>\n",
       "      <td>0.0</td>\n",
       "      <td>0.101528</td>\n",
       "      <td>0.0</td>\n",
       "      <td>...</td>\n",
       "      <td>0.0</td>\n",
       "      <td>0.0</td>\n",
       "      <td>0.0</td>\n",
       "      <td>0.0</td>\n",
       "      <td>0.0</td>\n",
       "      <td>0.000000</td>\n",
       "      <td>0.0</td>\n",
       "      <td>0.0</td>\n",
       "      <td>0.0</td>\n",
       "      <td>0.000000</td>\n",
       "    </tr>\n",
       "    <tr>\n",
       "      <th>2</th>\n",
       "      <td>0.0</td>\n",
       "      <td>0.068182</td>\n",
       "      <td>0.0</td>\n",
       "      <td>0.264777</td>\n",
       "      <td>0.167570</td>\n",
       "      <td>0.0</td>\n",
       "      <td>0.681256</td>\n",
       "      <td>0.0</td>\n",
       "      <td>0.101528</td>\n",
       "      <td>0.0</td>\n",
       "      <td>...</td>\n",
       "      <td>0.0</td>\n",
       "      <td>0.0</td>\n",
       "      <td>0.0</td>\n",
       "      <td>0.0</td>\n",
       "      <td>0.0</td>\n",
       "      <td>0.693147</td>\n",
       "      <td>0.0</td>\n",
       "      <td>0.0</td>\n",
       "      <td>0.0</td>\n",
       "      <td>0.000000</td>\n",
       "    </tr>\n",
       "    <tr>\n",
       "      <th>3</th>\n",
       "      <td>0.0</td>\n",
       "      <td>0.272727</td>\n",
       "      <td>0.0</td>\n",
       "      <td>0.831931</td>\n",
       "      <td>0.265785</td>\n",
       "      <td>0.0</td>\n",
       "      <td>0.000000</td>\n",
       "      <td>0.0</td>\n",
       "      <td>0.101528</td>\n",
       "      <td>0.0</td>\n",
       "      <td>...</td>\n",
       "      <td>0.0</td>\n",
       "      <td>0.0</td>\n",
       "      <td>0.0</td>\n",
       "      <td>0.0</td>\n",
       "      <td>0.0</td>\n",
       "      <td>0.000000</td>\n",
       "      <td>0.0</td>\n",
       "      <td>0.0</td>\n",
       "      <td>0.0</td>\n",
       "      <td>0.000000</td>\n",
       "    </tr>\n",
       "    <tr>\n",
       "      <th>4</th>\n",
       "      <td>0.0</td>\n",
       "      <td>0.113636</td>\n",
       "      <td>0.0</td>\n",
       "      <td>0.794243</td>\n",
       "      <td>0.311496</td>\n",
       "      <td>0.0</td>\n",
       "      <td>0.684242</td>\n",
       "      <td>0.0</td>\n",
       "      <td>0.101528</td>\n",
       "      <td>0.0</td>\n",
       "      <td>...</td>\n",
       "      <td>0.0</td>\n",
       "      <td>0.0</td>\n",
       "      <td>0.0</td>\n",
       "      <td>0.0</td>\n",
       "      <td>0.0</td>\n",
       "      <td>0.000000</td>\n",
       "      <td>0.0</td>\n",
       "      <td>0.0</td>\n",
       "      <td>0.0</td>\n",
       "      <td>0.693147</td>\n",
       "    </tr>\n",
       "  </tbody>\n",
       "</table>\n",
       "<p>5 rows × 72 columns</p>\n",
       "</div>"
      ],
      "text/plain": [
       "   education       age  gender   pinCode   loanAmt  loanTenure  bureauScore  \\\n",
       "0        0.0  0.068182     0.0  0.264777  0.167570         0.0     0.681256   \n",
       "1        0.0  0.068182     0.0  0.264777  0.167570         0.0     0.681256   \n",
       "2        0.0  0.068182     0.0  0.264777  0.167570         0.0     0.681256   \n",
       "3        0.0  0.272727     0.0  0.831931  0.265785         0.0     0.000000   \n",
       "4        0.0  0.113636     0.0  0.794243  0.311496         0.0     0.684242   \n",
       "\n",
       "   creditLimit  currentBalance  repaymentTenure  ...  \\\n",
       "0          0.0        0.101528              0.0  ...   \n",
       "1          0.0        0.101528              0.0  ...   \n",
       "2          0.0        0.101528              0.0  ...   \n",
       "3          0.0        0.101528              0.0  ...   \n",
       "4          0.0        0.101528              0.0  ...   \n",
       "\n",
       "   accountType_Microfinance Others  accountType_Microfinance Personal Loan  \\\n",
       "0                              0.0                                     0.0   \n",
       "1                              0.0                                     0.0   \n",
       "2                              0.0                                     0.0   \n",
       "3                              0.0                                     0.0   \n",
       "4                              0.0                                     0.0   \n",
       "\n",
       "   accountType_Mudra Loans - Shishu / Kishor / Tarun  accountType_Other  \\\n",
       "0                                                0.0                0.0   \n",
       "1                                                0.0                0.0   \n",
       "2                                                0.0                0.0   \n",
       "3                                                0.0                0.0   \n",
       "4                                                0.0                0.0   \n",
       "\n",
       "   accountType_Overdraft  accountType_Personal Loan  \\\n",
       "0                    0.0                   0.000000   \n",
       "1                    0.0                   0.000000   \n",
       "2                    0.0                   0.693147   \n",
       "3                    0.0                   0.000000   \n",
       "4                    0.0                   0.000000   \n",
       "\n",
       "   accountType_Prime Minister Jaan Dhan Yojana - Overdraft  \\\n",
       "0                                                0.0         \n",
       "1                                                0.0         \n",
       "2                                                0.0         \n",
       "3                                                0.0         \n",
       "4                                                0.0         \n",
       "\n",
       "   accountType_Property Loan  accountType_Tractor Loan  \\\n",
       "0                        0.0                       0.0   \n",
       "1                        0.0                       0.0   \n",
       "2                        0.0                       0.0   \n",
       "3                        0.0                       0.0   \n",
       "4                        0.0                       0.0   \n",
       "\n",
       "   accountType_Two-Wheeler Loan  \n",
       "0                      0.000000  \n",
       "1                      0.000000  \n",
       "2                      0.000000  \n",
       "3                      0.000000  \n",
       "4                      0.693147  \n",
       "\n",
       "[5 rows x 72 columns]"
      ]
     },
     "execution_count": 131,
     "metadata": {},
     "output_type": "execute_result"
    }
   ],
   "source": [
    "X.head()"
   ]
  },
  {
   "cell_type": "raw",
   "metadata": {},
   "source": [
    "from numpy import inf\n",
    "final_df[final_df['bureauScore'] == -inf]"
   ]
  },
  {
   "cell_type": "markdown",
   "metadata": {},
   "source": [
    "## 4.) Data Visualization"
   ]
  },
  {
   "cell_type": "raw",
   "metadata": {},
   "source": [
    "sns.pairplot(df)"
   ]
  },
  {
   "cell_type": "markdown",
   "metadata": {},
   "source": [
    "### Number of loans by account types"
   ]
  },
  {
   "cell_type": "code",
   "execution_count": 132,
   "metadata": {},
   "outputs": [
    {
     "data": {
      "image/png": "[encoded data removed]",
      "text/plain": [
       "<Figure size 720x360 with 1 Axes>"
      ]
     },
     "metadata": {
      "needs_background": "light"
     },
     "output_type": "display_data"
    }
   ],
   "source": [
    "df.loanType.value_counts().nlargest(40).plot(kind='bar', figsize=(10,5))\n",
    "plt.title(\"Number of loans by account types\")\n",
    "plt.ylabel('Number of loans')\n",
    "plt.xlabel('Account Type');"
   ]
  },
  {
   "cell_type": "markdown",
   "metadata": {},
   "source": [
    "### Number of requests to bureau by state"
   ]
  },
  {
   "cell_type": "code",
   "execution_count": 133,
   "metadata": {},
   "outputs": [
    {
     "data": {
      "image/png": "[encoded data removed]",
      "text/plain": [
       "<Figure size 720x360 with 1 Axes>"
      ]
     },
     "metadata": {
      "needs_background": "light"
     },
     "output_type": "display_data"
    }
   ],
   "source": [
    "df.addrsStateCode.value_counts().nlargest(40).plot(kind='bar', figsize=(10,5))\n",
    "plt.title(\"Number of requests to bureau by state\")\n",
    "plt.ylabel('Number of requests')\n",
    "plt.xlabel('State');"
   ]
  },
  {
   "cell_type": "markdown",
   "metadata": {},
   "source": [
    "### State vs Target"
   ]
  },
  {
   "cell_type": "raw",
   "metadata": {},
   "source": [
    "fig, ax = plt.subplots(figsize=(10,6))\n",
    "ax.scatter(df['addrsStateCode'], df['Target'])\n",
    "ax.set_xlabel('State Code')\n",
    "ax.set_ylabel('Target')\n",
    "plt.show()"
   ]
  },
  {
   "cell_type": "markdown",
   "metadata": {},
   "source": [
    "### Number of requests to bureau by employment type"
   ]
  },
  {
   "cell_type": "code",
   "execution_count": 134,
   "metadata": {},
   "outputs": [
    {
     "data": {
      "image/png": "[encoded data removed]",
      "text/plain": [
       "<Figure size 720x360 with 1 Axes>"
      ]
     },
     "metadata": {
      "needs_background": "light"
     },
     "output_type": "display_data"
    }
   ],
   "source": [
    "df.empType.value_counts().nlargest(40).plot(kind='bar', figsize=(10,5))\n",
    "plt.title(\"Number of requests to bureau by employment type\")\n",
    "plt.ylabel('Number of requests')\n",
    "plt.xlabel('Employment Type');"
   ]
  },
  {
   "cell_type": "markdown",
   "metadata": {},
   "source": [
    "### Correlation Matrix"
   ]
  },
  {
   "cell_type": "code",
   "execution_count": 135,
   "metadata": {},
   "outputs": [
    {
     "data": {
      "text/html": [
       "<div>\n",
       "<style scoped>\n",
       "    .dataframe tbody tr th:only-of-type {\n",
       "        vertical-align: middle;\n",
       "    }\n",
       "\n",
       "    .dataframe tbody tr th {\n",
       "        vertical-align: top;\n",
       "    }\n",
       "\n",
       "    .dataframe thead th {\n",
       "        text-align: right;\n",
       "    }\n",
       "</style>\n",
       "<table border=\"1\" class=\"dataframe\">\n",
       "  <thead>\n",
       "    <tr style=\"text-align: right;\">\n",
       "      <th></th>\n",
       "      <th>Target</th>\n",
       "      <th>education</th>\n",
       "      <th>age</th>\n",
       "      <th>gender</th>\n",
       "      <th>pinCode</th>\n",
       "      <th>loanAmt</th>\n",
       "      <th>loanTenure</th>\n",
       "      <th>bureauScore</th>\n",
       "      <th>creditLimit</th>\n",
       "      <th>currentBalance</th>\n",
       "      <th>...</th>\n",
       "      <th>accountType_Microfinance Others</th>\n",
       "      <th>accountType_Microfinance Personal Loan</th>\n",
       "      <th>accountType_Mudra Loans - Shishu / Kishor / Tarun</th>\n",
       "      <th>accountType_Other</th>\n",
       "      <th>accountType_Overdraft</th>\n",
       "      <th>accountType_Personal Loan</th>\n",
       "      <th>accountType_Prime Minister Jaan Dhan Yojana - Overdraft</th>\n",
       "      <th>accountType_Property Loan</th>\n",
       "      <th>accountType_Tractor Loan</th>\n",
       "      <th>accountType_Two-Wheeler Loan</th>\n",
       "    </tr>\n",
       "  </thead>\n",
       "  <tbody>\n",
       "    <tr>\n",
       "      <th>0</th>\n",
       "      <td>1.0</td>\n",
       "      <td>0.0</td>\n",
       "      <td>0.068182</td>\n",
       "      <td>0.0</td>\n",
       "      <td>0.264777</td>\n",
       "      <td>0.167570</td>\n",
       "      <td>0.0</td>\n",
       "      <td>0.681256</td>\n",
       "      <td>0.0</td>\n",
       "      <td>0.101528</td>\n",
       "      <td>...</td>\n",
       "      <td>0.0</td>\n",
       "      <td>0.0</td>\n",
       "      <td>0.0</td>\n",
       "      <td>0.0</td>\n",
       "      <td>0.0</td>\n",
       "      <td>0.000000</td>\n",
       "      <td>0.0</td>\n",
       "      <td>0.0</td>\n",
       "      <td>0.0</td>\n",
       "      <td>0.000000</td>\n",
       "    </tr>\n",
       "    <tr>\n",
       "      <th>1</th>\n",
       "      <td>1.0</td>\n",
       "      <td>0.0</td>\n",
       "      <td>0.068182</td>\n",
       "      <td>0.0</td>\n",
       "      <td>0.264777</td>\n",
       "      <td>0.167570</td>\n",
       "      <td>0.0</td>\n",
       "      <td>0.681256</td>\n",
       "      <td>0.0</td>\n",
       "      <td>0.101528</td>\n",
       "      <td>...</td>\n",
       "      <td>0.0</td>\n",
       "      <td>0.0</td>\n",
       "      <td>0.0</td>\n",
       "      <td>0.0</td>\n",
       "      <td>0.0</td>\n",
       "      <td>0.000000</td>\n",
       "      <td>0.0</td>\n",
       "      <td>0.0</td>\n",
       "      <td>0.0</td>\n",
       "      <td>0.000000</td>\n",
       "    </tr>\n",
       "    <tr>\n",
       "      <th>2</th>\n",
       "      <td>1.0</td>\n",
       "      <td>0.0</td>\n",
       "      <td>0.068182</td>\n",
       "      <td>0.0</td>\n",
       "      <td>0.264777</td>\n",
       "      <td>0.167570</td>\n",
       "      <td>0.0</td>\n",
       "      <td>0.681256</td>\n",
       "      <td>0.0</td>\n",
       "      <td>0.101528</td>\n",
       "      <td>...</td>\n",
       "      <td>0.0</td>\n",
       "      <td>0.0</td>\n",
       "      <td>0.0</td>\n",
       "      <td>0.0</td>\n",
       "      <td>0.0</td>\n",
       "      <td>0.693147</td>\n",
       "      <td>0.0</td>\n",
       "      <td>0.0</td>\n",
       "      <td>0.0</td>\n",
       "      <td>0.000000</td>\n",
       "    </tr>\n",
       "    <tr>\n",
       "      <th>3</th>\n",
       "      <td>0.0</td>\n",
       "      <td>0.0</td>\n",
       "      <td>0.272727</td>\n",
       "      <td>0.0</td>\n",
       "      <td>0.831931</td>\n",
       "      <td>0.265785</td>\n",
       "      <td>0.0</td>\n",
       "      <td>0.000000</td>\n",
       "      <td>0.0</td>\n",
       "      <td>0.101528</td>\n",
       "      <td>...</td>\n",
       "      <td>0.0</td>\n",
       "      <td>0.0</td>\n",
       "      <td>0.0</td>\n",
       "      <td>0.0</td>\n",
       "      <td>0.0</td>\n",
       "      <td>0.000000</td>\n",
       "      <td>0.0</td>\n",
       "      <td>0.0</td>\n",
       "      <td>0.0</td>\n",
       "      <td>0.000000</td>\n",
       "    </tr>\n",
       "    <tr>\n",
       "      <th>4</th>\n",
       "      <td>1.0</td>\n",
       "      <td>0.0</td>\n",
       "      <td>0.113636</td>\n",
       "      <td>0.0</td>\n",
       "      <td>0.794243</td>\n",
       "      <td>0.311496</td>\n",
       "      <td>0.0</td>\n",
       "      <td>0.684242</td>\n",
       "      <td>0.0</td>\n",
       "      <td>0.101528</td>\n",
       "      <td>...</td>\n",
       "      <td>0.0</td>\n",
       "      <td>0.0</td>\n",
       "      <td>0.0</td>\n",
       "      <td>0.0</td>\n",
       "      <td>0.0</td>\n",
       "      <td>0.000000</td>\n",
       "      <td>0.0</td>\n",
       "      <td>0.0</td>\n",
       "      <td>0.0</td>\n",
       "      <td>0.693147</td>\n",
       "    </tr>\n",
       "  </tbody>\n",
       "</table>\n",
       "<p>5 rows × 73 columns</p>\n",
       "</div>"
      ],
      "text/plain": [
       "   Target  education       age  gender   pinCode   loanAmt  loanTenure  \\\n",
       "0     1.0        0.0  0.068182     0.0  0.264777  0.167570         0.0   \n",
       "1     1.0        0.0  0.068182     0.0  0.264777  0.167570         0.0   \n",
       "2     1.0        0.0  0.068182     0.0  0.264777  0.167570         0.0   \n",
       "3     0.0        0.0  0.272727     0.0  0.831931  0.265785         0.0   \n",
       "4     1.0        0.0  0.113636     0.0  0.794243  0.311496         0.0   \n",
       "\n",
       "   bureauScore  creditLimit  currentBalance  ...  \\\n",
       "0     0.681256          0.0        0.101528  ...   \n",
       "1     0.681256          0.0        0.101528  ...   \n",
       "2     0.681256          0.0        0.101528  ...   \n",
       "3     0.000000          0.0        0.101528  ...   \n",
       "4     0.684242          0.0        0.101528  ...   \n",
       "\n",
       "   accountType_Microfinance Others  accountType_Microfinance Personal Loan  \\\n",
       "0                              0.0                                     0.0   \n",
       "1                              0.0                                     0.0   \n",
       "2                              0.0                                     0.0   \n",
       "3                              0.0                                     0.0   \n",
       "4                              0.0                                     0.0   \n",
       "\n",
       "   accountType_Mudra Loans - Shishu / Kishor / Tarun  accountType_Other  \\\n",
       "0                                                0.0                0.0   \n",
       "1                                                0.0                0.0   \n",
       "2                                                0.0                0.0   \n",
       "3                                                0.0                0.0   \n",
       "4                                                0.0                0.0   \n",
       "\n",
       "   accountType_Overdraft  accountType_Personal Loan  \\\n",
       "0                    0.0                   0.000000   \n",
       "1                    0.0                   0.000000   \n",
       "2                    0.0                   0.693147   \n",
       "3                    0.0                   0.000000   \n",
       "4                    0.0                   0.000000   \n",
       "\n",
       "   accountType_Prime Minister Jaan Dhan Yojana - Overdraft  \\\n",
       "0                                                0.0         \n",
       "1                                                0.0         \n",
       "2                                                0.0         \n",
       "3                                                0.0         \n",
       "4                                                0.0         \n",
       "\n",
       "   accountType_Property Loan  accountType_Tractor Loan  \\\n",
       "0                        0.0                       0.0   \n",
       "1                        0.0                       0.0   \n",
       "2                        0.0                       0.0   \n",
       "3                        0.0                       0.0   \n",
       "4                        0.0                       0.0   \n",
       "\n",
       "   accountType_Two-Wheeler Loan  \n",
       "0                      0.000000  \n",
       "1                      0.000000  \n",
       "2                      0.000000  \n",
       "3                      0.000000  \n",
       "4                      0.693147  \n",
       "\n",
       "[5 rows x 73 columns]"
      ]
     },
     "execution_count": 135,
     "metadata": {},
     "output_type": "execute_result"
    }
   ],
   "source": [
    "target_df = final_df[['Target']]\n",
    "\n",
    "final_df = pd.concat([target_df, X], axis=1)\n",
    "final_df.head()"
   ]
  },
  {
   "cell_type": "code",
   "execution_count": 136,
   "metadata": {},
   "outputs": [
    {
     "data": {
      "text/plain": [
       "<AxesSubplot:>"
      ]
     },
     "execution_count": 136,
     "metadata": {},
     "output_type": "execute_result"
    },
    {
     "data": {
      "image/png": "[encoded data removed]",
      "text/plain": [
       "<Figure size 1008x576 with 2 Axes>"
      ]
     },
     "metadata": {
      "needs_background": "light"
     },
     "output_type": "display_data"
    }
   ],
   "source": [
    "plt.figure(figsize=(14,8))\n",
    "c= final_df.corr()\n",
    "sns.heatmap(c,cmap=\"BrBG\", square=True)"
   ]
  },
  {
   "cell_type": "markdown",
   "metadata": {},
   "source": [
    "## 5.) Feature Selection"
   ]
  },
  {
   "cell_type": "markdown",
   "metadata": {},
   "source": [
    "### Separating target and features"
   ]
  },
  {
   "cell_type": "code",
   "execution_count": 137,
   "metadata": {},
   "outputs": [],
   "source": [
    "y_col = \"Target\"\n",
    "\n",
    "X = final_df.drop(y_col, axis=1)\n",
    "y = final_df[y_col]"
   ]
  },
  {
   "cell_type": "markdown",
   "metadata": {},
   "source": [
    "### 1. Univariate Selection"
   ]
  },
  {
   "cell_type": "code",
   "execution_count": 138,
   "metadata": {},
   "outputs": [],
   "source": [
    "#apply SelectKBest class to extract top 5 best features\n",
    "bestfeatures = SelectKBest(score_func=chi2, k=5) # 5 > neighbours\n",
    "fit = bestfeatures.fit(X,y)\n",
    "dfscores = pd.DataFrame(fit.scores_)\n",
    "dfcolumns = pd.DataFrame(X.columns)"
   ]
  },
  {
   "cell_type": "code",
   "execution_count": 139,
   "metadata": {},
   "outputs": [
    {
     "name": "stdout",
     "output_type": "stream",
     "text": [
      "                              Specs      Score\n",
      "39        addrsStateCode_TAMIL NADU  62.620934\n",
      "34       addrsStateCode_MAHARASHTRA  14.652117\n",
      "31         addrsStateCode_KARNATAKA  14.599112\n",
      "67        accountType_Personal Loan  13.501919\n",
      "22                      loanType_TW  12.736499\n",
      "29  addrsStateCode_HIMACHAL PRADESH  11.158171\n",
      "6                       bureauScore  10.033023\n",
      "54        accountType_Consumer Loan   9.480536\n",
      "26             addrsStateCode_DELHI   8.253952\n",
      "20                     loanType_DPL   8.129654\n"
     ]
    }
   ],
   "source": [
    "#concat two dataframes for better visualization \n",
    "featureScores = pd.concat([dfcolumns, dfscores], axis=1)\n",
    "featureScores.columns = ['Specs', 'Score']  #naming the dataframe columns\n",
    "print(featureScores.nlargest(10, 'Score'))  #print best features"
   ]
  },
  {
   "cell_type": "code",
   "execution_count": 143,
   "metadata": {},
   "outputs": [
    {
     "name": "stdout",
     "output_type": "stream",
     "text": [
      "> 1) 0.697 (0.001)\n",
      "> 2) 0.697 (0.001)\n",
      "> 3) 0.697 (0.001)\n",
      "> 4) 0.697 (0.001)\n",
      "> 5) 0.697 (0.001)\n",
      "> 6) 0.699 (0.002)\n",
      "> 7) 0.720 (0.012)\n",
      "> 8) 0.705 (0.015)\n",
      "> 9) 0.705 (0.015)\n",
      "> 10) 0.701 (0.017)\n",
      "> 11) 0.703 (0.018)\n",
      "> 12) 0.708 (0.018)\n",
      "> 13) 0.709 (0.019)\n",
      "> 14) 0.708 (0.019)\n",
      "> 15) 0.702 (0.019)\n",
      "> 16) 0.703 (0.019)\n",
      "> 17) 0.723 (0.020)\n",
      "> 18) 0.725 (0.021)\n",
      "> 19) 0.727 (0.021)\n",
      "> 20) 0.727 (0.021)\n",
      "> 21) 0.726 (0.021)\n",
      "> 22) 0.725 (0.021)\n",
      "> 23) 0.727 (0.020)\n",
      "> 24) 0.727 (0.020)\n",
      "> 25) 0.728 (0.020)\n",
      "> 26) 0.726 (0.022)\n",
      "> 27) 0.726 (0.022)\n",
      "> 28) 0.726 (0.022)\n",
      "> 29) 0.726 (0.022)\n",
      "> 30) 0.726 (0.021)\n",
      "> 31) 0.726 (0.021)\n",
      "> 32) 0.725 (0.020)\n",
      "> 33) 0.723 (0.021)\n",
      "> 34) 0.723 (0.020)\n",
      "> 35) 0.723 (0.021)\n",
      "> 36) 0.723 (0.020)\n",
      "> 37) 0.723 (0.019)\n",
      "> 38) 0.723 (0.019)\n",
      "> 39) 0.723 (0.019)\n",
      "> 40) 0.723 (0.019)\n",
      "> 41) 0.723 (0.019)\n",
      "> 42) 0.729 (0.016)\n",
      "> 43) 0.729 (0.016)\n",
      "> 44) 0.729 (0.016)\n",
      "> 45) 0.729 (0.016)\n",
      "> 46) 0.729 (0.016)\n",
      "> 47) 0.730 (0.020)\n",
      "> 48) 0.730 (0.020)\n",
      "> 49) 0.731 (0.020)\n",
      "> 50) 0.731 (0.020)\n",
      "> 51) 0.731 (0.020)\n",
      "> 52) 0.731 (0.020)\n",
      "> 53) 0.731 (0.020)\n",
      "> 54) 0.731 (0.020)\n",
      "> 55) 0.731 (0.020)\n",
      "> 56) 0.731 (0.020)\n",
      "> 57) 0.731 (0.020)\n",
      "> 58) 0.731 (0.020)\n",
      "> 59) 0.730 (0.020)\n",
      "> 60) 0.733 (0.019)\n",
      "> 61) 0.734 (0.020)\n",
      "> 62) 0.733 (0.020)\n",
      "> 63) 0.733 (0.020)\n",
      "> 64) 0.731 (0.020)\n",
      "> 65) 0.729 (0.020)\n",
      "> 66) 0.729 (0.020)\n",
      "> 67) 0.730 (0.020)\n",
      "> 68) 0.730 (0.020)\n",
      "> 69) 0.730 (0.020)\n",
      "> 70) 0.730 (0.020)\n",
      "> 71) 0.730 (0.020)\n",
      "> 72) 0.730 (0.020)\n"
     ]
    }
   ],
   "source": [
    "# evaluate a given model using cross-validation\n",
    "def evaluate_model(model, X, y):\n",
    "    cv = RepeatedStratifiedKFold(n_splits=10, n_repeats=3, random_state=42)\n",
    "    scores = cross_val_score(model, X, y, scoring='accuracy', cv=cv, n_jobs=-1, error_score='raise')\n",
    "    return scores\n",
    "\n",
    "model_eval = LogisticRegression()\n",
    "\n",
    "results = list()\n",
    "max_score = list()\n",
    "for i in range(1,X.shape[1]+1):\n",
    "        scores = evaluate_model(model_eval, X[featureScores.nlargest(i, 'Score')['Specs']], y)\n",
    "        results.append(scores)\n",
    "        max_score.append(mean(scores))\n",
    "        print('> %s) %.3f (%.3f)' % (i, mean(scores), std(scores)))"
   ]
  },
  {
   "cell_type": "code",
   "execution_count": 153,
   "metadata": {},
   "outputs": [
    {
     "data": {
      "text/html": [
       "<div>\n",
       "<style scoped>\n",
       "    .dataframe tbody tr th:only-of-type {\n",
       "        vertical-align: middle;\n",
       "    }\n",
       "\n",
       "    .dataframe tbody tr th {\n",
       "        vertical-align: top;\n",
       "    }\n",
       "\n",
       "    .dataframe thead th {\n",
       "        text-align: right;\n",
       "    }\n",
       "</style>\n",
       "<table border=\"1\" class=\"dataframe\">\n",
       "  <thead>\n",
       "    <tr style=\"text-align: right;\">\n",
       "      <th></th>\n",
       "      <th># Features</th>\n",
       "      <th>Score</th>\n",
       "    </tr>\n",
       "  </thead>\n",
       "  <tbody>\n",
       "    <tr>\n",
       "      <th>60</th>\n",
       "      <td>61</td>\n",
       "      <td>0.733658</td>\n",
       "    </tr>\n",
       "  </tbody>\n",
       "</table>\n",
       "</div>"
      ],
      "text/plain": [
       "    # Features     Score\n",
       "60          61  0.733658"
      ]
     },
     "execution_count": 153,
     "metadata": {},
     "output_type": "execute_result"
    }
   ],
   "source": [
    "chi_df = pd.DataFrame(list(zip(range(1,X.shape[1]+1), max_score)), \n",
    "               columns =['# Features', 'Score']) \n",
    "chi_df[chi_df['Score'] == chi_df['Score'].max()]"
   ]
  },
  {
   "cell_type": "markdown",
   "metadata": {},
   "source": [
    "### 2. Feature Importance"
   ]
  },
  {
   "cell_type": "code",
   "execution_count": 154,
   "metadata": {},
   "outputs": [
    {
     "data": {
      "image/png": "[encoded data removed]",
      "text/plain": [
       "<Figure size 432x288 with 1 Axes>"
      ]
     },
     "metadata": {
      "needs_background": "light"
     },
     "output_type": "display_data"
    }
   ],
   "source": [
    "from sklearn.ensemble import ExtraTreesClassifier\n",
    "\n",
    "model_fi = ExtraTreesClassifier()\n",
    "model_fi.fit(X,y)\n",
    "#print(model.feature_importances_) #use inbuilt class feature_importances of tree based classifiers\n",
    "\n",
    "#plot graph of feature importances for better visualization\n",
    "feat_importances = pd.Series(model_fi.feature_importances_, index=X.columns)\n",
    "feat_importances.sort_values(ascending=True).nlargest(14).plot(kind='barh')\n",
    "plt.show()"
   ]
  },
  {
   "cell_type": "code",
   "execution_count": 157,
   "metadata": {},
   "outputs": [
    {
     "name": "stdout",
     "output_type": "stream",
     "text": [
      "> 1) 0.697 (0.001)\n",
      "> 2) 0.697 (0.001)\n",
      "> 3) 0.697 (0.001)\n",
      "> 4) 0.698 (0.002)\n",
      "> 5) 0.700 (0.011)\n",
      "> 6) 0.716 (0.014)\n",
      "> 7) 0.716 (0.015)\n",
      "> 8) 0.716 (0.015)\n",
      "> 9) 0.724 (0.017)\n",
      "> 10) 0.725 (0.017)\n",
      "> 11) 0.723 (0.017)\n",
      "> 12) 0.725 (0.018)\n",
      "> 13) 0.729 (0.019)\n",
      "> 14) 0.727 (0.017)\n",
      "> 15) 0.729 (0.019)\n",
      "> 16) 0.730 (0.017)\n",
      "> 17) 0.728 (0.017)\n",
      "> 18) 0.728 (0.017)\n",
      "> 19) 0.727 (0.017)\n",
      "> 20) 0.728 (0.017)\n",
      "> 21) 0.727 (0.017)\n",
      "> 22) 0.727 (0.016)\n",
      "> 23) 0.728 (0.017)\n",
      "> 24) 0.726 (0.017)\n",
      "> 25) 0.724 (0.017)\n",
      "> 26) 0.725 (0.017)\n",
      "> 27) 0.723 (0.017)\n",
      "> 28) 0.722 (0.017)\n",
      "> 29) 0.725 (0.018)\n",
      "> 30) 0.725 (0.018)\n",
      "> 31) 0.724 (0.018)\n",
      "> 32) 0.724 (0.018)\n",
      "> 33) 0.728 (0.019)\n",
      "> 34) 0.728 (0.019)\n",
      "> 35) 0.728 (0.019)\n",
      "> 36) 0.729 (0.019)\n",
      "> 37) 0.729 (0.019)\n",
      "> 38) 0.729 (0.019)\n",
      "> 39) 0.728 (0.019)\n",
      "> 40) 0.728 (0.020)\n",
      "> 41) 0.728 (0.020)\n",
      "> 42) 0.729 (0.020)\n",
      "> 43) 0.729 (0.021)\n",
      "> 44) 0.729 (0.021)\n",
      "> 45) 0.729 (0.021)\n",
      "> 46) 0.729 (0.021)\n",
      "> 47) 0.730 (0.021)\n",
      "> 48) 0.730 (0.020)\n",
      "> 49) 0.730 (0.020)\n",
      "> 50) 0.730 (0.021)\n",
      "> 51) 0.730 (0.020)\n",
      "> 52) 0.730 (0.020)\n",
      "> 53) 0.730 (0.020)\n",
      "> 54) 0.730 (0.020)\n",
      "> 55) 0.730 (0.020)\n",
      "> 56) 0.730 (0.020)\n",
      "> 57) 0.730 (0.020)\n",
      "> 58) 0.730 (0.020)\n",
      "> 59) 0.730 (0.020)\n",
      "> 60) 0.730 (0.020)\n",
      "> 61) 0.730 (0.020)\n",
      "> 62) 0.730 (0.020)\n",
      "> 63) 0.730 (0.020)\n",
      "> 64) 0.730 (0.020)\n",
      "> 65) 0.730 (0.020)\n",
      "> 66) 0.730 (0.020)\n",
      "> 67) 0.730 (0.020)\n",
      "> 68) 0.730 (0.020)\n",
      "> 69) 0.730 (0.020)\n",
      "> 70) 0.730 (0.020)\n",
      "> 71) 0.730 (0.020)\n",
      "> 72) 0.730 (0.020)\n"
     ]
    }
   ],
   "source": [
    "# evaluate a given model using cross-validation\n",
    "def evaluate_model(model, X, y):\n",
    "    cv = RepeatedStratifiedKFold(n_splits=10, n_repeats=3, random_state=42)\n",
    "    scores = cross_val_score(model, X, y, scoring='accuracy', cv=cv, n_jobs=-1, error_score='raise')\n",
    "    return scores\n",
    "\n",
    "model_eval = LogisticRegression()\n",
    "\n",
    "results_fi = list()\n",
    "max_score_fi = list()\n",
    "for i in range(1,X.shape[1]+1):\n",
    "        scores = evaluate_model(model_eval, X[feat_importances.nlargest(i).index], y)\n",
    "        results_fi.append(scores)\n",
    "        max_score_fi.append(mean(scores))\n",
    "        #print('> %s) %.3f (%.3f)' % (i, mean(scores), std(scores)))"
   ]
  },
  {
   "cell_type": "code",
   "execution_count": 158,
   "metadata": {},
   "outputs": [
    {
     "data": {
      "text/html": [
       "<div>\n",
       "<style scoped>\n",
       "    .dataframe tbody tr th:only-of-type {\n",
       "        vertical-align: middle;\n",
       "    }\n",
       "\n",
       "    .dataframe tbody tr th {\n",
       "        vertical-align: top;\n",
       "    }\n",
       "\n",
       "    .dataframe thead th {\n",
       "        text-align: right;\n",
       "    }\n",
       "</style>\n",
       "<table border=\"1\" class=\"dataframe\">\n",
       "  <thead>\n",
       "    <tr style=\"text-align: right;\">\n",
       "      <th></th>\n",
       "      <th># Features</th>\n",
       "      <th>Score</th>\n",
       "    </tr>\n",
       "  </thead>\n",
       "  <tbody>\n",
       "    <tr>\n",
       "      <th>15</th>\n",
       "      <td>16</td>\n",
       "      <td>0.730436</td>\n",
       "    </tr>\n",
       "  </tbody>\n",
       "</table>\n",
       "</div>"
      ],
      "text/plain": [
       "    # Features     Score\n",
       "15          16  0.730436"
      ]
     },
     "execution_count": 158,
     "metadata": {},
     "output_type": "execute_result"
    }
   ],
   "source": [
    "feat_df = pd.DataFrame(list(zip(range(1,X.shape[1]+1), max_score_fi)), \n",
    "               columns =['# Features', 'Score']) \n",
    "feat_df[feat_df['Score'] == feat_df['Score'].max()]"
   ]
  },
  {
   "cell_type": "code",
   "execution_count": 161,
   "metadata": {},
   "outputs": [
    {
     "data": {
      "image/png": "[encoded data removed]",
      "text/plain": [
       "<Figure size 1008x576 with 1 Axes>"
      ]
     },
     "metadata": {
      "needs_background": "light"
     },
     "output_type": "display_data"
    }
   ],
   "source": [
    "no_of_features = [str(i) for i in range(1,X.shape[1]+1)]\n",
    "# plot model performance for comparison\n",
    "plt.figure(figsize=(14,8))\n",
    "plt.boxplot(results_fi, labels=no_of_features, showmeans=True)\n",
    "plt.xticks(rotation=75)\n",
    "plt.title('No. of features vs. Average Accuracy')\n",
    "plt.show()"
   ]
  },
  {
   "cell_type": "markdown",
   "metadata": {},
   "source": [
    "### 3. Correlation Matrix with Heatmap"
   ]
  },
  {
   "cell_type": "raw",
   "metadata": {},
   "source": [
    "#get correlations of each features in dataset\n",
    "corrmat = gcr_data.corr()\n",
    "top_corr_features = corrmat.index\n",
    "plt.figure(figsize=(20,20))\n",
    "\n",
    "#plot heat map\n",
    "g=sns.heatmap(gcr_data[top_corr_features].corr(), annot=False, cmap=\"RdYlGn\")"
   ]
  },
  {
   "cell_type": "markdown",
   "metadata": {},
   "source": [
    "### 4. Recursive Feature Elimination (RFE)"
   ]
  },
  {
   "cell_type": "code",
   "execution_count": 162,
   "metadata": {},
   "outputs": [],
   "source": [
    "# get a list of models to evaluate\n",
    "def get_models():\n",
    "    models = dict()\n",
    "    # lr\n",
    "    rfe = RFE(estimator=LogisticRegression(), n_features_to_select=5)\n",
    "    model = LogisticRegression()\n",
    "    models['lr'] = Pipeline(steps=[('s',rfe),('m',model)])\n",
    "    # perceptron\n",
    "    rfe = RFE(estimator=Perceptron(), n_features_to_select=5)\n",
    "    model = LogisticRegression()\n",
    "    models['per'] = Pipeline(steps=[('s',rfe),('m',model)])\n",
    "    # cart\n",
    "    rfe = RFE(estimator=DecisionTreeClassifier(), n_features_to_select=5)\n",
    "    model = LogisticRegression()\n",
    "    models['cart'] = Pipeline(steps=[('s',rfe),('m',model)])\n",
    "    # rf\n",
    "    rfe = RFE(estimator=RandomForestClassifier(), n_features_to_select=5)\n",
    "    model = LogisticRegression()\n",
    "    models['rf'] = Pipeline(steps=[('s',rfe),('m',model)])\n",
    "    # gbm\n",
    "    rfe = RFE(estimator=GradientBoostingClassifier(), n_features_to_select=5)\n",
    "    model = LogisticRegression()\n",
    "    models['gbm'] = Pipeline(steps=[('s',rfe),('m',model)])\n",
    "    return models\n",
    " \n",
    "# evaluate a give model using cross-validation\n",
    "def evaluate_model(model, X, y):\n",
    "    cv = RepeatedStratifiedKFold(n_splits=10, n_repeats=3, random_state=1)\n",
    "    scores = cross_val_score(model, X, y, scoring='accuracy', cv=cv, n_jobs=-1)\n",
    "    return scores"
   ]
  },
  {
   "cell_type": "code",
   "execution_count": 165,
   "metadata": {},
   "outputs": [
    {
     "name": "stdout",
     "output_type": "stream",
     "text": [
      ">lr 0.702 (0.005)\n",
      ">per 0.698 (0.003)\n",
      ">cart 0.713 (0.012)\n",
      ">rf 0.700 (0.008)\n",
      ">gbm 0.713 (0.012)\n"
     ]
    }
   ],
   "source": [
    "# get the models to evaluate\n",
    "models = get_models()\n",
    "# evaluate the models and store results\n",
    "results, names = list(), list()\n",
    "for name, model in models.items():\n",
    "    scores = evaluate_model(model, X, y)\n",
    "    results.append(scores)\n",
    "    names.append(name)\n",
    "    print('>%s %.3f (%.3f)' % (name, mean(scores), std(scores)))"
   ]
  },
  {
   "cell_type": "code",
   "execution_count": 166,
   "metadata": {},
   "outputs": [
    {
     "data": {
      "image/png": "[encoded data removed]",
      "text/plain": [
       "<Figure size 432x288 with 1 Axes>"
      ]
     },
     "metadata": {
      "needs_background": "light"
     },
     "output_type": "display_data"
    }
   ],
   "source": [
    "# plot model performance for comparison\n",
    "plt.boxplot(results, labels=names, showmeans=True)\n",
    "plt.title('RFE Estimator vs. Average Accuracy')\n",
    "plt.show()"
   ]
  },
  {
   "cell_type": "code",
   "execution_count": 167,
   "metadata": {},
   "outputs": [],
   "source": [
    "# get a list of models to evaluate\n",
    "def get_models():\n",
    "    models = dict()\n",
    "    for i in range(2, X.shape[1]+1):\n",
    "        rfe = RFE(estimator=DecisionTreeClassifier(), n_features_to_select=i)\n",
    "        model = LogisticRegression()\n",
    "        models[str(i)] = Pipeline(steps=[('s',rfe),('m',model)])\n",
    "    return models\n",
    "\n",
    "# evaluate a give model using cross-validation\n",
    "def evaluate_model(model, X, y):\n",
    "    cv = RepeatedStratifiedKFold(n_splits=10, n_repeats=3, random_state=42)\n",
    "    scores = cross_val_score(model, X, y, scoring='accuracy', cv=cv, n_jobs=-1, error_score='raise')\n",
    "    return scores\n",
    "\n",
    "# get the models to evaluate\n",
    "models = get_models()\n",
    "# evaluate the models and store results\n",
    "results_rfe, names, max_score_rfe = list(), list(), list()\n",
    "for name, model in models.items():\n",
    "    scores = evaluate_model(model, X, y)\n",
    "    results_rfe.append(scores)\n",
    "    max_score_rfe.append(mean(scores))\n",
    "    names.append(name)\n",
    "    #print('> %s) %.3f (%.3f)' % (name, mean(scores), std(scores)))"
   ]
  },
  {
   "cell_type": "code",
   "execution_count": 169,
   "metadata": {},
   "outputs": [
    {
     "data": {
      "text/html": [
       "<div>\n",
       "<style scoped>\n",
       "    .dataframe tbody tr th:only-of-type {\n",
       "        vertical-align: middle;\n",
       "    }\n",
       "\n",
       "    .dataframe tbody tr th {\n",
       "        vertical-align: top;\n",
       "    }\n",
       "\n",
       "    .dataframe thead th {\n",
       "        text-align: right;\n",
       "    }\n",
       "</style>\n",
       "<table border=\"1\" class=\"dataframe\">\n",
       "  <thead>\n",
       "    <tr style=\"text-align: right;\">\n",
       "      <th></th>\n",
       "      <th># Features</th>\n",
       "      <th>Score</th>\n",
       "    </tr>\n",
       "  </thead>\n",
       "  <tbody>\n",
       "    <tr>\n",
       "      <th>31</th>\n",
       "      <td>32</td>\n",
       "      <td>0.730752</td>\n",
       "    </tr>\n",
       "  </tbody>\n",
       "</table>\n",
       "</div>"
      ],
      "text/plain": [
       "    # Features     Score\n",
       "31          32  0.730752"
      ]
     },
     "execution_count": 169,
     "metadata": {},
     "output_type": "execute_result"
    }
   ],
   "source": [
    "rfe_df = pd.DataFrame(list(zip(range(1,X.shape[1]+1), max_score_rfe)), \n",
    "               columns =['# Features', 'Score']) \n",
    "rfe_df[rfe_df['Score'] == rfe_df['Score'].max()]"
   ]
  },
  {
   "cell_type": "code",
   "execution_count": 171,
   "metadata": {},
   "outputs": [
    {
     "data": {
      "image/png": "[encoded data removed]",
      "text/plain": [
       "<Figure size 1008x576 with 1 Axes>"
      ]
     },
     "metadata": {
      "needs_background": "light"
     },
     "output_type": "display_data"
    }
   ],
   "source": [
    "# plot model performance for comparison\n",
    "plt.figure(figsize=(14,8))\n",
    "plt.boxplot(results_rfe, labels=names, showmeans=True)\n",
    "plt.xticks(rotation=75)\n",
    "plt.title('No. of features vs. Average Accuracy')\n",
    "plt.show()"
   ]
  },
  {
   "cell_type": "markdown",
   "metadata": {},
   "source": [
    "#### Suppressing any warnings"
   ]
  },
  {
   "cell_type": "code",
   "execution_count": 172,
   "metadata": {},
   "outputs": [],
   "source": [
    "# Suppress warnings about too few trees from the early models\n",
    "import warnings\n",
    "warnings.filterwarnings(\"ignore\", category=UserWarning)\n",
    "warnings.filterwarnings(\"ignore\", category=RuntimeWarning)"
   ]
  },
  {
   "cell_type": "code",
   "execution_count": 174,
   "metadata": {},
   "outputs": [
    {
     "name": "stdout",
     "output_type": "stream",
     "text": [
      "Column: 0, Selected False, Rank: 41.000\n",
      "Column: 1, Selected True, Rank: 1.000\n",
      "Column: 2, Selected True, Rank: 1.000\n",
      "Column: 3, Selected True, Rank: 1.000\n",
      "Column: 4, Selected True, Rank: 1.000\n",
      "Column: 5, Selected True, Rank: 1.000\n",
      "Column: 6, Selected True, Rank: 1.000\n",
      "Column: 7, Selected True, Rank: 1.000\n",
      "Column: 8, Selected True, Rank: 1.000\n",
      "Column: 9, Selected False, Rank: 11.000\n",
      "Column: 10, Selected True, Rank: 1.000\n",
      "Column: 11, Selected False, Rank: 19.000\n",
      "Column: 12, Selected False, Rank: 8.000\n",
      "Column: 13, Selected False, Rank: 15.000\n",
      "Column: 14, Selected False, Rank: 16.000\n",
      "Column: 15, Selected False, Rank: 12.000\n",
      "Column: 16, Selected False, Rank: 14.000\n",
      "Column: 17, Selected True, Rank: 1.000\n",
      "Column: 18, Selected True, Rank: 1.000\n",
      "Column: 19, Selected True, Rank: 1.000\n",
      "Column: 20, Selected True, Rank: 1.000\n",
      "Column: 21, Selected True, Rank: 1.000\n",
      "Column: 22, Selected True, Rank: 1.000\n",
      "Column: 23, Selected True, Rank: 1.000\n",
      "Column: 24, Selected True, Rank: 1.000\n",
      "Column: 25, Selected True, Rank: 1.000\n",
      "Column: 26, Selected False, Rank: 21.000\n",
      "Column: 27, Selected True, Rank: 1.000\n",
      "Column: 28, Selected False, Rank: 10.000\n",
      "Column: 29, Selected True, Rank: 1.000\n",
      "Column: 30, Selected False, Rank: 29.000\n",
      "Column: 31, Selected True, Rank: 1.000\n",
      "Column: 32, Selected True, Rank: 1.000\n",
      "Column: 33, Selected True, Rank: 1.000\n",
      "Column: 34, Selected False, Rank: 37.000\n",
      "Column: 35, Selected True, Rank: 1.000\n",
      "Column: 36, Selected False, Rank: 40.000\n",
      "Column: 37, Selected False, Rank: 2.000\n",
      "Column: 38, Selected False, Rank: 6.000\n",
      "Column: 39, Selected True, Rank: 1.000\n",
      "Column: 40, Selected True, Rank: 1.000\n",
      "Column: 41, Selected True, Rank: 1.000\n",
      "Column: 42, Selected False, Rank: 35.000\n",
      "Column: 43, Selected False, Rank: 25.000\n",
      "Column: 44, Selected False, Rank: 9.000\n",
      "Column: 45, Selected False, Rank: 13.000\n",
      "Column: 46, Selected False, Rank: 23.000\n",
      "Column: 47, Selected False, Rank: 17.000\n",
      "Column: 48, Selected True, Rank: 1.000\n",
      "Column: 49, Selected False, Rank: 32.000\n",
      "Column: 50, Selected False, Rank: 18.000\n",
      "Column: 51, Selected False, Rank: 33.000\n",
      "Column: 52, Selected False, Rank: 24.000\n",
      "Column: 53, Selected False, Rank: 26.000\n",
      "Column: 54, Selected False, Rank: 27.000\n",
      "Column: 55, Selected True, Rank: 1.000\n",
      "Column: 56, Selected False, Rank: 22.000\n",
      "Column: 57, Selected False, Rank: 36.000\n",
      "Column: 58, Selected False, Rank: 39.000\n",
      "Column: 59, Selected False, Rank: 38.000\n",
      "Column: 60, Selected False, Rank: 20.000\n",
      "Column: 61, Selected False, Rank: 34.000\n",
      "Column: 62, Selected False, Rank: 28.000\n",
      "Column: 63, Selected False, Rank: 30.000\n",
      "Column: 64, Selected False, Rank: 31.000\n",
      "Column: 65, Selected False, Rank: 3.000\n",
      "Column: 66, Selected False, Rank: 4.000\n",
      "Column: 67, Selected True, Rank: 1.000\n",
      "Column: 68, Selected False, Rank: 5.000\n",
      "Column: 69, Selected False, Rank: 7.000\n",
      "Column: 70, Selected True, Rank: 1.000\n",
      "Column: 71, Selected True, Rank: 1.000\n"
     ]
    }
   ],
   "source": [
    "# define RFE\n",
    "rfe = RFE(estimator=DecisionTreeClassifier(), n_features_to_select=32)\n",
    "# fit RFE\n",
    "rfe.fit(X, y)\n",
    "# summarize all features\n",
    "for i in range(X.shape[1]):\n",
    "    print('Column: %d, Selected %s, Rank: %.3f' % (i, rfe.support_[i], rfe.ranking_[i]))"
   ]
  },
  {
   "cell_type": "code",
   "execution_count": 1,
   "metadata": {},
   "outputs": [
    {
     "name": "stdout",
     "output_type": "stream",
     "text": [
      "Connecting to wss://anvil.works/uplink\n",
      "Anvil websocket open\n",
      "Connected to \"Default environment\" as CLIENT\n"
     ]
    }
   ],
   "source": [
    "import anvil.server\n",
    "\n",
    "anvil.server.connect('HZQUAQ5WEQKSBETGAMIAMPTF-VKPAPZZKSXXEU3II-CLIENT')"
   ]
  },
  {
   "cell_type": "code",
   "execution_count": null,
   "metadata": {},
   "outputs": [],
   "source": []
  }
 ],
 "metadata": {
  "kernelspec": {
   "display_name": "Python 3",
   "language": "python",
   "name": "python3"
  },
  "language_info": {
   "codemirror_mode": {
    "name": "ipython",
    "version": 3
   },
   "file_extension": ".py",
   "mimetype": "text/x-python",
   "name": "python",
   "nbconvert_exporter": "python",
   "pygments_lexer": "ipython3",
   "version": "3.7.8"
  }
 },
 "nbformat": 4,
 "nbformat_minor": 4
}
