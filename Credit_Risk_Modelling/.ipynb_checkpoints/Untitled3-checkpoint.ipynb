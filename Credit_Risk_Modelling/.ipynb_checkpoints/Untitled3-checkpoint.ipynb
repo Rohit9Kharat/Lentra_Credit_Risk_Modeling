{
 "cells": [
  {
   "cell_type": "code",
   "execution_count": null,
   "metadata": {},
   "outputs": [],
   "source": [
    "dateClosed_lt_PHED_CNT = list()\n",
    "count_list_dt_phed = list()\n",
    "count_dt_phed = 0\n",
    "\n",
    "ignore_case_CNT = list()\n",
    "count_list_ic = list()\n",
    "count_ic = 0\n",
    "\n",
    "for i in range(0, grp_slice.shape[0]):\n",
    "    if (grp_slice['dateClosed_lt_PHED'][i]==1) or (grp_slice['dateClosed_lt_PHED'][i]==0):\n",
    "        count_dt_phed = count_dt_phed + grp_slice['dateClosed_lt_PHED'][i]\n",
    "    else:\n",
    "        continue\n",
    "\n",
    "    if (grp_slice['ignore_case'][i]==1) or (grp_slice['ignore_case'][i]==0):\n",
    "            count_ic = count_ic + grp_slice['ignore_case'][i]\n",
    "    else:\n",
    "            continue\n",
    "            \n",
    "count_list_dt_phed.append(count_dt_phed)\n",
    "count_dt_phed = 0\n",
    "\n",
    "count_list_ic.append(count_ic)\n",
    "count_ic = 0\n",
    "\n",
    "for i in range(0, grp_slice.shape[0]):\n",
    "    if (grp_slice['dateClosed_lt_PHED'][i]==1) or (grp_slice['dateClosed_lt_PHED'][i]==0):\n",
    "        dateClosed_lt_PHED_CNT.append(count_list_dt_phed[x])\n",
    "    else:\n",
    "        dateClosed_lt_PHED_CNT.append('unknown')\n",
    "\n",
    "    if (grp_slice['ignore_case'][i]==1) or (grp_slice['ignore_case'][i]==0):\n",
    "            ignore_case_CNT.append(count_list_ic[x])\n",
    "        else:\n",
    "            ignore_case_CNT.append('unknown')  \n",
    "\n",
    "        \n",
    "        \n",
    "        \n",
    "        \n",
    "        \n",
    "        \n"
   ]
  },
  {
   "cell_type": "code",
   "execution_count": null,
   "metadata": {},
   "outputs": [],
   "source": [
    "df['dateClosed_lt_PHED_CNT'] = pd.Series(dateClosed_lt_PHED_CNT).values"
   ]
  }
 ],
 "metadata": {
  "kernelspec": {
   "display_name": "Python 3",
   "language": "python",
   "name": "python3"
  },
  "language_info": {
   "codemirror_mode": {
    "name": "ipython",
    "version": 3
   },
   "file_extension": ".py",
   "mimetype": "text/x-python",
   "name": "python",
   "nbconvert_exporter": "python",
   "pygments_lexer": "ipython3",
   "version": "3.7.9"
  }
 },
 "nbformat": 4,
 "nbformat_minor": 4
}
