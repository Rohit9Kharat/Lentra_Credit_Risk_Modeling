{
 "cells": [
  {
   "cell_type": "markdown",
   "metadata": {},
   "source": [
    "# Tables of Content:\n",
    "\n",
    "**1. [Imports](#imports_cibil)** <br>\n",
    "    - Import relevant packages <br>\n",
    "**2. [EDA](#eda_cibil)** <br>\n",
    "    - Exploratory Data Analysis <br>\n",
    "**3. [Feature Engineering](#feat_engg_cibil)** <br>\n",
    "    - Label Encoding <br>\n",
    "    - One-hot encoding <br>\n",
    "    - Log transformation <br>\n",
    "    - Min-Max Scaling <br>\n",
    "**4. [Data Visualization](#data_viz_cibil)** <br>\n",
    "**5. [Feature Selection](#feat_sel_cibil)** <br>\n",
    "    - Univariate Selection <br>\n",
    "    - Feature Importances <br>\n",
    "    - Correlation Matrix <br>\n",
    "    - RFE <br>"
   ]
  },
  {
   "cell_type": "markdown",
   "metadata": {},
   "source": [
    "<a id=\"imports_cibil\"></a> <br>\n",
    "## 1.) Imports"
   ]
  },
  {
   "cell_type": "code",
   "execution_count": 1,
   "metadata": {},
   "outputs": [],
   "source": [
    "import numpy as np\n",
    "from numpy import mean\n",
    "from numpy import std\n",
    "import pandas as pd\n",
    "\n",
    "from scipy import stats \n",
    "from scipy.stats import boxcox\n",
    "\n",
    "import math\n",
    "\n",
    "import matplotlib.pyplot as plt\n",
    "import seaborn as sns\n",
    "\n",
    "#from sklearn.experimental import enable_iterative_imputer\n",
    "#from sklearn.impute import IterativeImputer\n",
    "\n",
    "from sklearn import preprocessing\n",
    "from sklearn.preprocessing import StandardScaler\n",
    "from sklearn.preprocessing import MinMaxScaler\n",
    "\n",
    "from sklearn.pipeline import Pipeline\n",
    "\n",
    "from sklearn.model_selection import train_test_split\n",
    "from sklearn.model_selection import RepeatedStratifiedKFold\n",
    "from sklearn.model_selection import cross_val_score\n",
    "\n",
    "from sklearn.feature_selection import SelectKBest\n",
    "from sklearn.feature_selection import chi2\n",
    "from sklearn.feature_selection import RFE\n",
    "\n",
    "from sklearn.linear_model import BayesianRidge\n",
    "from sklearn.linear_model import LogisticRegression\n",
    "from sklearn.linear_model import Perceptron\n",
    "\n",
    "from sklearn.tree import DecisionTreeClassifier\n",
    "from sklearn.ensemble import RandomForestClassifier\n",
    "from sklearn.ensemble import GradientBoostingClassifier"
   ]
  },
  {
   "cell_type": "markdown",
   "metadata": {},
   "source": [
    "<a id=\"eda_cibil\"></a> <br>\n",
    "## 2.) EDA"
   ]
  },
  {
   "cell_type": "code",
   "execution_count": 2,
   "metadata": {},
   "outputs": [],
   "source": [
    "df = pd.read_csv('cibil.csv')"
   ]
  },
  {
   "cell_type": "code",
   "execution_count": 3,
   "metadata": {},
   "outputs": [
    {
     "data": {
      "text/plain": [
       "922"
      ]
     },
     "execution_count": 3,
     "metadata": {},
     "output_type": "execute_result"
    }
   ],
   "source": [
    "df['ID'].nunique()"
   ]
  },
  {
   "cell_type": "markdown",
   "metadata": {},
   "source": [
    "### Viewing sample of the data set"
   ]
  },
  {
   "cell_type": "code",
   "execution_count": 4,
   "metadata": {},
   "outputs": [
    {
     "data": {
      "text/html": [
       "<div>\n",
       "<style scoped>\n",
       "    .dataframe tbody tr th:only-of-type {\n",
       "        vertical-align: middle;\n",
       "    }\n",
       "\n",
       "    .dataframe tbody tr th {\n",
       "        vertical-align: top;\n",
       "    }\n",
       "\n",
       "    .dataframe thead th {\n",
       "        text-align: right;\n",
       "    }\n",
       "</style>\n",
       "<table border=\"1\" class=\"dataframe\">\n",
       "  <thead>\n",
       "    <tr style=\"text-align: right;\">\n",
       "      <th></th>\n",
       "      <th>Unnamed: 0</th>\n",
       "      <th>ID</th>\n",
       "      <th>age</th>\n",
       "      <th>gender</th>\n",
       "      <th>empType</th>\n",
       "      <th>education</th>\n",
       "      <th>addrsCategory</th>\n",
       "      <th>pinCode</th>\n",
       "      <th>addrsStateCode</th>\n",
       "      <th>phoneType</th>\n",
       "      <th>...</th>\n",
       "      <th>loanTenure</th>\n",
       "      <th>loginDate</th>\n",
       "      <th>dateReportedAndCertified</th>\n",
       "      <th>dateOpenedOrDisbursed</th>\n",
       "      <th>dateClosed</th>\n",
       "      <th>PHSD</th>\n",
       "      <th>PHED</th>\n",
       "      <th>suitFiledOrWilfulDefault</th>\n",
       "      <th>paymentHist1</th>\n",
       "      <th>paymentHist2</th>\n",
       "    </tr>\n",
       "  </thead>\n",
       "  <tbody>\n",
       "    <tr>\n",
       "      <th>0</th>\n",
       "      <td>0</td>\n",
       "      <td>67837000949</td>\n",
       "      <td>23</td>\n",
       "      <td>Male</td>\n",
       "      <td>NaN</td>\n",
       "      <td>NaN</td>\n",
       "      <td>2.0</td>\n",
       "      <td>686004.0</td>\n",
       "      <td>32.0</td>\n",
       "      <td>1.0</td>\n",
       "      <td>...</td>\n",
       "      <td>0</td>\n",
       "      <td>2020-07-28T07:09:40.569Z</td>\n",
       "      <td>2112018.0</td>\n",
       "      <td>30072016.0</td>\n",
       "      <td>14082018.0</td>\n",
       "      <td>1112018.0</td>\n",
       "      <td>1082016.0</td>\n",
       "      <td>NaN</td>\n",
       "      <td>000000XXX000XXX000000XXX0000000000000000000000...</td>\n",
       "      <td>000000000000000000000XXX001000</td>\n",
       "    </tr>\n",
       "    <tr>\n",
       "      <th>1</th>\n",
       "      <td>1</td>\n",
       "      <td>28911006216</td>\n",
       "      <td>44</td>\n",
       "      <td>Female</td>\n",
       "      <td>NaN</td>\n",
       "      <td>NaN</td>\n",
       "      <td>1.0</td>\n",
       "      <td>686561.0</td>\n",
       "      <td>32.0</td>\n",
       "      <td>1.0</td>\n",
       "      <td>...</td>\n",
       "      <td>0</td>\n",
       "      <td>2020-07-28T07:09:36.776Z</td>\n",
       "      <td>30062020.0</td>\n",
       "      <td>23062020.0</td>\n",
       "      <td>NaN</td>\n",
       "      <td>1062020.0</td>\n",
       "      <td>1062020.0</td>\n",
       "      <td>NaN</td>\n",
       "      <td>000</td>\n",
       "      <td>NaN</td>\n",
       "    </tr>\n",
       "    <tr>\n",
       "      <th>2</th>\n",
       "      <td>2</td>\n",
       "      <td>28911006216</td>\n",
       "      <td>44</td>\n",
       "      <td>Female</td>\n",
       "      <td>NaN</td>\n",
       "      <td>NaN</td>\n",
       "      <td>1.0</td>\n",
       "      <td>686561.0</td>\n",
       "      <td>32.0</td>\n",
       "      <td>1.0</td>\n",
       "      <td>...</td>\n",
       "      <td>0</td>\n",
       "      <td>2020-07-28T07:09:36.776Z</td>\n",
       "      <td>29102019.0</td>\n",
       "      <td>17102019.0</td>\n",
       "      <td>29102019.0</td>\n",
       "      <td>1102019.0</td>\n",
       "      <td>1102019.0</td>\n",
       "      <td>NaN</td>\n",
       "      <td>000</td>\n",
       "      <td>NaN</td>\n",
       "    </tr>\n",
       "    <tr>\n",
       "      <th>3</th>\n",
       "      <td>3</td>\n",
       "      <td>28911006216</td>\n",
       "      <td>44</td>\n",
       "      <td>Female</td>\n",
       "      <td>NaN</td>\n",
       "      <td>NaN</td>\n",
       "      <td>1.0</td>\n",
       "      <td>686561.0</td>\n",
       "      <td>32.0</td>\n",
       "      <td>1.0</td>\n",
       "      <td>...</td>\n",
       "      <td>0</td>\n",
       "      <td>2020-07-28T07:09:36.776Z</td>\n",
       "      <td>17102019.0</td>\n",
       "      <td>15052019.0</td>\n",
       "      <td>17102019.0</td>\n",
       "      <td>1102019.0</td>\n",
       "      <td>1052019.0</td>\n",
       "      <td>NaN</td>\n",
       "      <td>000000000000XXX000</td>\n",
       "      <td>NaN</td>\n",
       "    </tr>\n",
       "    <tr>\n",
       "      <th>4</th>\n",
       "      <td>4</td>\n",
       "      <td>87375000108</td>\n",
       "      <td>50</td>\n",
       "      <td>Male</td>\n",
       "      <td>NaN</td>\n",
       "      <td>NaN</td>\n",
       "      <td>3.0</td>\n",
       "      <td>641026.0</td>\n",
       "      <td>33.0</td>\n",
       "      <td>0.0</td>\n",
       "      <td>...</td>\n",
       "      <td>0</td>\n",
       "      <td>2020-07-28T07:09:19.822Z</td>\n",
       "      <td>NaN</td>\n",
       "      <td>NaN</td>\n",
       "      <td>NaN</td>\n",
       "      <td>NaN</td>\n",
       "      <td>NaN</td>\n",
       "      <td>NaN</td>\n",
       "      <td>NaN</td>\n",
       "      <td>NaN</td>\n",
       "    </tr>\n",
       "  </tbody>\n",
       "</table>\n",
       "<p>5 rows × 34 columns</p>\n",
       "</div>"
      ],
      "text/plain": [
       "   Unnamed: 0           ID  age  gender empType education  addrsCategory  \\\n",
       "0           0  67837000949   23    Male     NaN       NaN            2.0   \n",
       "1           1  28911006216   44  Female     NaN       NaN            1.0   \n",
       "2           2  28911006216   44  Female     NaN       NaN            1.0   \n",
       "3           3  28911006216   44  Female     NaN       NaN            1.0   \n",
       "4           4  87375000108   50    Male     NaN       NaN            3.0   \n",
       "\n",
       "    pinCode  addrsStateCode  phoneType  ...  loanTenure  \\\n",
       "0  686004.0            32.0        1.0  ...           0   \n",
       "1  686561.0            32.0        1.0  ...           0   \n",
       "2  686561.0            32.0        1.0  ...           0   \n",
       "3  686561.0            32.0        1.0  ...           0   \n",
       "4  641026.0            33.0        0.0  ...           0   \n",
       "\n",
       "                  loginDate dateReportedAndCertified dateOpenedOrDisbursed  \\\n",
       "0  2020-07-28T07:09:40.569Z                2112018.0            30072016.0   \n",
       "1  2020-07-28T07:09:36.776Z               30062020.0            23062020.0   \n",
       "2  2020-07-28T07:09:36.776Z               29102019.0            17102019.0   \n",
       "3  2020-07-28T07:09:36.776Z               17102019.0            15052019.0   \n",
       "4  2020-07-28T07:09:19.822Z                      NaN                   NaN   \n",
       "\n",
       "   dateClosed       PHSD       PHED  suitFiledOrWilfulDefault  \\\n",
       "0  14082018.0  1112018.0  1082016.0                       NaN   \n",
       "1         NaN  1062020.0  1062020.0                       NaN   \n",
       "2  29102019.0  1102019.0  1102019.0                       NaN   \n",
       "3  17102019.0  1102019.0  1052019.0                       NaN   \n",
       "4         NaN        NaN        NaN                       NaN   \n",
       "\n",
       "                                        paymentHist1  \\\n",
       "0  000000XXX000XXX000000XXX0000000000000000000000...   \n",
       "1                                                000   \n",
       "2                                                000   \n",
       "3                                 000000000000XXX000   \n",
       "4                                                NaN   \n",
       "\n",
       "                     paymentHist2  \n",
       "0  000000000000000000000XXX001000  \n",
       "1                             NaN  \n",
       "2                             NaN  \n",
       "3                             NaN  \n",
       "4                             NaN  \n",
       "\n",
       "[5 rows x 34 columns]"
      ]
     },
     "execution_count": 4,
     "metadata": {},
     "output_type": "execute_result"
    }
   ],
   "source": [
    "df.head(5)"
   ]
  },
  {
   "cell_type": "code",
   "execution_count": 5,
   "metadata": {},
   "outputs": [
    {
     "data": {
      "text/plain": [
       "(4462, 34)"
      ]
     },
     "execution_count": 5,
     "metadata": {},
     "output_type": "execute_result"
    }
   ],
   "source": [
    "df.shape"
   ]
  },
  {
   "cell_type": "markdown",
   "metadata": {},
   "source": [
    "### Concatenate payment history strings"
   ]
  },
  {
   "cell_type": "code",
   "execution_count": 6,
   "metadata": {},
   "outputs": [],
   "source": [
    "df['paymentHist1'].fillna('missing', inplace=True)\n",
    "df['paymentHist2'].fillna('missing', inplace=True)"
   ]
  },
  {
   "cell_type": "code",
   "execution_count": 7,
   "metadata": {},
   "outputs": [
    {
     "data": {
      "text/html": [
       "<div>\n",
       "<style scoped>\n",
       "    .dataframe tbody tr th:only-of-type {\n",
       "        vertical-align: middle;\n",
       "    }\n",
       "\n",
       "    .dataframe tbody tr th {\n",
       "        vertical-align: top;\n",
       "    }\n",
       "\n",
       "    .dataframe thead th {\n",
       "        text-align: right;\n",
       "    }\n",
       "</style>\n",
       "<table border=\"1\" class=\"dataframe\">\n",
       "  <thead>\n",
       "    <tr style=\"text-align: right;\">\n",
       "      <th></th>\n",
       "      <th>Unnamed: 0</th>\n",
       "      <th>ID</th>\n",
       "      <th>age</th>\n",
       "      <th>gender</th>\n",
       "      <th>empType</th>\n",
       "      <th>education</th>\n",
       "      <th>addrsCategory</th>\n",
       "      <th>pinCode</th>\n",
       "      <th>addrsStateCode</th>\n",
       "      <th>phoneType</th>\n",
       "      <th>...</th>\n",
       "      <th>loginDate</th>\n",
       "      <th>dateReportedAndCertified</th>\n",
       "      <th>dateOpenedOrDisbursed</th>\n",
       "      <th>dateClosed</th>\n",
       "      <th>PHSD</th>\n",
       "      <th>PHED</th>\n",
       "      <th>suitFiledOrWilfulDefault</th>\n",
       "      <th>paymentHist1</th>\n",
       "      <th>paymentHist2</th>\n",
       "      <th>paymentHistComp</th>\n",
       "    </tr>\n",
       "  </thead>\n",
       "  <tbody>\n",
       "    <tr>\n",
       "      <th>0</th>\n",
       "      <td>0</td>\n",
       "      <td>67837000949</td>\n",
       "      <td>23</td>\n",
       "      <td>Male</td>\n",
       "      <td>NaN</td>\n",
       "      <td>NaN</td>\n",
       "      <td>2.0</td>\n",
       "      <td>686004.0</td>\n",
       "      <td>32.0</td>\n",
       "      <td>1.0</td>\n",
       "      <td>...</td>\n",
       "      <td>2020-07-28T07:09:40.569Z</td>\n",
       "      <td>2112018.0</td>\n",
       "      <td>30072016.0</td>\n",
       "      <td>14082018.0</td>\n",
       "      <td>1112018.0</td>\n",
       "      <td>1082016.0</td>\n",
       "      <td>NaN</td>\n",
       "      <td>000000XXX000XXX000000XXX0000000000000000000000...</td>\n",
       "      <td>000000000000000000000XXX001000</td>\n",
       "      <td>000000XXX000XXX000000XXX0000000000000000000000...</td>\n",
       "    </tr>\n",
       "    <tr>\n",
       "      <th>1</th>\n",
       "      <td>1</td>\n",
       "      <td>28911006216</td>\n",
       "      <td>44</td>\n",
       "      <td>Female</td>\n",
       "      <td>NaN</td>\n",
       "      <td>NaN</td>\n",
       "      <td>1.0</td>\n",
       "      <td>686561.0</td>\n",
       "      <td>32.0</td>\n",
       "      <td>1.0</td>\n",
       "      <td>...</td>\n",
       "      <td>2020-07-28T07:09:36.776Z</td>\n",
       "      <td>30062020.0</td>\n",
       "      <td>23062020.0</td>\n",
       "      <td>NaN</td>\n",
       "      <td>1062020.0</td>\n",
       "      <td>1062020.0</td>\n",
       "      <td>NaN</td>\n",
       "      <td>000</td>\n",
       "      <td>missing</td>\n",
       "      <td>000missing</td>\n",
       "    </tr>\n",
       "    <tr>\n",
       "      <th>2</th>\n",
       "      <td>2</td>\n",
       "      <td>28911006216</td>\n",
       "      <td>44</td>\n",
       "      <td>Female</td>\n",
       "      <td>NaN</td>\n",
       "      <td>NaN</td>\n",
       "      <td>1.0</td>\n",
       "      <td>686561.0</td>\n",
       "      <td>32.0</td>\n",
       "      <td>1.0</td>\n",
       "      <td>...</td>\n",
       "      <td>2020-07-28T07:09:36.776Z</td>\n",
       "      <td>29102019.0</td>\n",
       "      <td>17102019.0</td>\n",
       "      <td>29102019.0</td>\n",
       "      <td>1102019.0</td>\n",
       "      <td>1102019.0</td>\n",
       "      <td>NaN</td>\n",
       "      <td>000</td>\n",
       "      <td>missing</td>\n",
       "      <td>000missing</td>\n",
       "    </tr>\n",
       "    <tr>\n",
       "      <th>3</th>\n",
       "      <td>3</td>\n",
       "      <td>28911006216</td>\n",
       "      <td>44</td>\n",
       "      <td>Female</td>\n",
       "      <td>NaN</td>\n",
       "      <td>NaN</td>\n",
       "      <td>1.0</td>\n",
       "      <td>686561.0</td>\n",
       "      <td>32.0</td>\n",
       "      <td>1.0</td>\n",
       "      <td>...</td>\n",
       "      <td>2020-07-28T07:09:36.776Z</td>\n",
       "      <td>17102019.0</td>\n",
       "      <td>15052019.0</td>\n",
       "      <td>17102019.0</td>\n",
       "      <td>1102019.0</td>\n",
       "      <td>1052019.0</td>\n",
       "      <td>NaN</td>\n",
       "      <td>000000000000XXX000</td>\n",
       "      <td>missing</td>\n",
       "      <td>000000000000XXX000missing</td>\n",
       "    </tr>\n",
       "    <tr>\n",
       "      <th>4</th>\n",
       "      <td>4</td>\n",
       "      <td>87375000108</td>\n",
       "      <td>50</td>\n",
       "      <td>Male</td>\n",
       "      <td>NaN</td>\n",
       "      <td>NaN</td>\n",
       "      <td>3.0</td>\n",
       "      <td>641026.0</td>\n",
       "      <td>33.0</td>\n",
       "      <td>0.0</td>\n",
       "      <td>...</td>\n",
       "      <td>2020-07-28T07:09:19.822Z</td>\n",
       "      <td>NaN</td>\n",
       "      <td>NaN</td>\n",
       "      <td>NaN</td>\n",
       "      <td>NaN</td>\n",
       "      <td>NaN</td>\n",
       "      <td>NaN</td>\n",
       "      <td>missing</td>\n",
       "      <td>missing</td>\n",
       "      <td>missingmissing</td>\n",
       "    </tr>\n",
       "  </tbody>\n",
       "</table>\n",
       "<p>5 rows × 35 columns</p>\n",
       "</div>"
      ],
      "text/plain": [
       "   Unnamed: 0           ID  age  gender empType education  addrsCategory  \\\n",
       "0           0  67837000949   23    Male     NaN       NaN            2.0   \n",
       "1           1  28911006216   44  Female     NaN       NaN            1.0   \n",
       "2           2  28911006216   44  Female     NaN       NaN            1.0   \n",
       "3           3  28911006216   44  Female     NaN       NaN            1.0   \n",
       "4           4  87375000108   50    Male     NaN       NaN            3.0   \n",
       "\n",
       "    pinCode  addrsStateCode  phoneType  ...                 loginDate  \\\n",
       "0  686004.0            32.0        1.0  ...  2020-07-28T07:09:40.569Z   \n",
       "1  686561.0            32.0        1.0  ...  2020-07-28T07:09:36.776Z   \n",
       "2  686561.0            32.0        1.0  ...  2020-07-28T07:09:36.776Z   \n",
       "3  686561.0            32.0        1.0  ...  2020-07-28T07:09:36.776Z   \n",
       "4  641026.0            33.0        0.0  ...  2020-07-28T07:09:19.822Z   \n",
       "\n",
       "  dateReportedAndCertified dateOpenedOrDisbursed  dateClosed       PHSD  \\\n",
       "0                2112018.0            30072016.0  14082018.0  1112018.0   \n",
       "1               30062020.0            23062020.0         NaN  1062020.0   \n",
       "2               29102019.0            17102019.0  29102019.0  1102019.0   \n",
       "3               17102019.0            15052019.0  17102019.0  1102019.0   \n",
       "4                      NaN                   NaN         NaN        NaN   \n",
       "\n",
       "        PHED  suitFiledOrWilfulDefault  \\\n",
       "0  1082016.0                       NaN   \n",
       "1  1062020.0                       NaN   \n",
       "2  1102019.0                       NaN   \n",
       "3  1052019.0                       NaN   \n",
       "4        NaN                       NaN   \n",
       "\n",
       "                                        paymentHist1  \\\n",
       "0  000000XXX000XXX000000XXX0000000000000000000000...   \n",
       "1                                                000   \n",
       "2                                                000   \n",
       "3                                 000000000000XXX000   \n",
       "4                                            missing   \n",
       "\n",
       "                     paymentHist2  \\\n",
       "0  000000000000000000000XXX001000   \n",
       "1                         missing   \n",
       "2                         missing   \n",
       "3                         missing   \n",
       "4                         missing   \n",
       "\n",
       "                                     paymentHistComp  \n",
       "0  000000XXX000XXX000000XXX0000000000000000000000...  \n",
       "1                                         000missing  \n",
       "2                                         000missing  \n",
       "3                          000000000000XXX000missing  \n",
       "4                                     missingmissing  \n",
       "\n",
       "[5 rows x 35 columns]"
      ]
     },
     "execution_count": 7,
     "metadata": {},
     "output_type": "execute_result"
    }
   ],
   "source": [
    "df['paymentHistComp'] = df['paymentHist1'].map(str) + df['paymentHist2'].map(str) \n",
    "df.head()"
   ]
  },
  {
   "cell_type": "markdown",
   "metadata": {},
   "source": [
    "### Code for DBT found, LSS found, Count DBT and Count LSS"
   ]
  },
  {
   "cell_type": "raw",
   "metadata": {},
   "source": [
    "df['paymentHist1'].astype('str').isnull().sum()"
   ]
  },
  {
   "cell_type": "raw",
   "metadata": {},
   "source": [
    "type(df['paymentHist1'][2])"
   ]
  },
  {
   "cell_type": "raw",
   "metadata": {},
   "source": [
    "df['paymentHist1'][2] is np.nan"
   ]
  },
  {
   "cell_type": "code",
   "execution_count": 8,
   "metadata": {},
   "outputs": [
    {
     "name": "stdout",
     "output_type": "stream",
     "text": [
      "DBT Found Length 4462\n",
      "Count DBT Length 4462\n",
      "LSS Found Length 4462\n",
      "Count LSS Length 4462\n"
     ]
    }
   ],
   "source": [
    "dbt_list = list()\n",
    "lss_list = list()\n",
    "\n",
    "cnt_dbt_list = list()\n",
    "cnt_lss_list = list()\n",
    "dbt_found = list()\n",
    "lss_found = list()\n",
    "#target = list()\n",
    "\n",
    "for value in df['paymentHistComp'].astype('str'):\n",
    "    #print(len(value))\n",
    "    if len(value)%3 == 0 or value != 'missing':\n",
    "        #print(value)\n",
    "        chunks, chunk_size = len(value), 3\n",
    "        for i in range(0, chunks, chunk_size):\n",
    "            if value[i:i+chunk_size] == 'DBT':\n",
    "                dbt_list.append(value[i:i+chunk_size])\n",
    "            elif value[i:i+chunk_size] == 'LSS':\n",
    "                lss_list.append(value[i:i+chunk_size])\n",
    "        #print(dbt_list)\n",
    "        #print(len(dbt_list))\n",
    "        if len(dbt_list) > 0:\n",
    "            #print(len(dbt_list))\n",
    "            dbt_found.append(1)\n",
    "            lss_found.append(0)\n",
    "            cnt_dbt_list.append(len(dbt_list))\n",
    "            cnt_lss_list.append(len(dbt_list))\n",
    "            #target.append('Bad')\n",
    "        elif len(lss_list) > 0:\n",
    "            #print(len(lss_list))\n",
    "            lss_found.append(1)\n",
    "            dbt_found.append(0)\n",
    "            cnt_lss_list.append(len(dbt_list))\n",
    "            cnt_dbt_list.append(len(dbt_list))\n",
    "            #target.append('Bad') \n",
    "        elif len(dbt_list) == 0:\n",
    "            dbt_found.append(0)\n",
    "            lss_found.append(0)\n",
    "            cnt_dbt_list.append(len(dbt_list))\n",
    "            cnt_lss_list.append(len(dbt_list))\n",
    "            #target.append('Good')\n",
    "\n",
    "        dbt_list = list()\n",
    "        lss_list = list()\n",
    "        \n",
    "    else:\n",
    "        dbt_found.append(0)\n",
    "        lss_found.append(0)\n",
    "        cnt_dbt_list.append(len(dbt_list))\n",
    "        cnt_lss_list.append(len(dbt_list))\n",
    "        #target.append('Bad')\n",
    "\n",
    "print('DBT Found Length', len(dbt_found))\n",
    "print('Count DBT Length', len(cnt_dbt_list))\n",
    "\n",
    "print('LSS Found Length', len(lss_found))\n",
    "print('Count LSS Length', len(cnt_lss_list))\n",
    "\n",
    "df['DBTFound'] = pd.Series(dbt_found).values\n",
    "df['LSSFound'] = pd.Series(lss_found).values\n",
    "df['cntDBT'] = pd.Series(cnt_dbt_list).values\n",
    "df['cntLSS'] = pd.Series(cnt_lss_list).values"
   ]
  },
  {
   "cell_type": "code",
   "execution_count": 9,
   "metadata": {},
   "outputs": [
    {
     "data": {
      "text/plain": [
       "0    4442\n",
       "1      20\n",
       "Name: DBTFound, dtype: int64"
      ]
     },
     "execution_count": 9,
     "metadata": {},
     "output_type": "execute_result"
    }
   ],
   "source": [
    "df['DBTFound'].value_counts()"
   ]
  },
  {
   "cell_type": "code",
   "execution_count": 10,
   "metadata": {},
   "outputs": [
    {
     "data": {
      "text/plain": [
       "0     4442\n",
       "2        6\n",
       "15       1\n",
       "7        1\n",
       "3        1\n",
       "26       1\n",
       "18       1\n",
       "29       1\n",
       "25       1\n",
       "21       1\n",
       "13       1\n",
       "5        1\n",
       "1        1\n",
       "16       1\n",
       "12       1\n",
       "8        1\n",
       "Name: cntDBT, dtype: int64"
      ]
     },
     "execution_count": 10,
     "metadata": {},
     "output_type": "execute_result"
    }
   ],
   "source": [
    "df['cntDBT'].value_counts()"
   ]
  },
  {
   "cell_type": "code",
   "execution_count": 11,
   "metadata": {},
   "outputs": [
    {
     "data": {
      "text/plain": [
       "0    4459\n",
       "1       3\n",
       "Name: LSSFound, dtype: int64"
      ]
     },
     "execution_count": 11,
     "metadata": {},
     "output_type": "execute_result"
    }
   ],
   "source": [
    "df['LSSFound'].value_counts()"
   ]
  },
  {
   "cell_type": "code",
   "execution_count": 12,
   "metadata": {},
   "outputs": [
    {
     "data": {
      "text/plain": [
       "0     4442\n",
       "2        6\n",
       "15       1\n",
       "7        1\n",
       "3        1\n",
       "26       1\n",
       "18       1\n",
       "29       1\n",
       "25       1\n",
       "21       1\n",
       "13       1\n",
       "5        1\n",
       "1        1\n",
       "16       1\n",
       "12       1\n",
       "8        1\n",
       "Name: cntLSS, dtype: int64"
      ]
     },
     "execution_count": 12,
     "metadata": {},
     "output_type": "execute_result"
    }
   ],
   "source": [
    "df['cntLSS'].value_counts()"
   ]
  },
  {
   "cell_type": "markdown",
   "metadata": {},
   "source": [
    "### XXX flags"
   ]
  },
  {
   "cell_type": "code",
   "execution_count": 13,
   "metadata": {},
   "outputs": [],
   "source": [
    "piece = list()\n",
    "\n",
    "xxx_last1_mon = list()\n",
    "xxx_last3_mon = list()\n",
    "xxx_last6_mon = list()\n",
    "xxx_last1_yr = list()\n",
    "xxx_last2_yr = list()\n",
    "xxx_last3_yr = list()\n",
    "\n",
    "count = 0\n",
    "\n",
    "for value in df['paymentHistComp'].astype('str'):\n",
    "    #print(value)\n",
    "    \n",
    "    chunks, chunk_size = len(value), 3\n",
    "    for i in range(0, chunks, chunk_size):\n",
    "        piece.append(value[i:i+chunk_size])\n",
    "    #print(piece)\n",
    "    #print(len(piece))\n",
    "\n",
    "    if ('XXX' in piece[0]):\n",
    "        #print(piece)\n",
    "        for x in piece:\n",
    "            if x == 'XXX':\n",
    "                count = count + 1\n",
    "                #print(count)\n",
    "            else:\n",
    "                break\n",
    "        if count >= 1:\n",
    "            #print('1mo')\n",
    "            xxx_last1_mon.append(1)\n",
    "            if count >= 3:\n",
    "                #print('3mo')\n",
    "                xxx_last3_mon.append(1)\n",
    "                if count >= 6:\n",
    "                    #print('6mo')\n",
    "                    xxx_last6_mon.append(1)\n",
    "                    if count >= 12:\n",
    "                        #print('1yr')\n",
    "                        xxx_last1_yr.append(1)\n",
    "                        if count >= 24:\n",
    "                            #print('2yr')\n",
    "                            xxx_last2_yr.append(1)\n",
    "                            if count >= 36:\n",
    "                                #print('3yr')\n",
    "                                xxx_last3_yr.append(1)\n",
    "                            else:\n",
    "                                xxx_last3_yr.append(0)\n",
    "                        else:\n",
    "                            xxx_last2_yr.append(0)\n",
    "                            xxx_last3_yr.append(0)\n",
    "                    else: \n",
    "                        xxx_last1_yr.append(0)\n",
    "                        xxx_last2_yr.append(0)\n",
    "                        xxx_last3_yr.append(0)\n",
    "                else:\n",
    "                    xxx_last6_mon.append(0)\n",
    "                    xxx_last1_yr.append(0)\n",
    "                    xxx_last2_yr.append(0)\n",
    "                    xxx_last3_yr.append(0)\n",
    "            else:\n",
    "                xxx_last3_mon.append(0)\n",
    "                xxx_last6_mon.append(0)\n",
    "                xxx_last1_yr.append(0)\n",
    "                xxx_last2_yr.append(0)\n",
    "                xxx_last3_yr.append(0)\n",
    "        else:\n",
    "            xxx_last1_mon.append(0)\n",
    "            xxx_last3_mon.append(0)\n",
    "            xxx_last6_mon.append(0)\n",
    "            xxx_last1_yr.append(0)\n",
    "            xxx_last2_yr.append(0)\n",
    "            xxx_last3_yr.append(0)\n",
    "    else:\n",
    "        xxx_last1_mon.append(0)\n",
    "        xxx_last3_mon.append(0)\n",
    "        xxx_last6_mon.append(0)\n",
    "        xxx_last1_yr.append(0)\n",
    "        xxx_last2_yr.append(0)\n",
    "        xxx_last3_yr.append(0)\n",
    "        \n",
    "    count = 0            \n",
    "    piece = list()\n",
    "    \n",
    "df['XXX1M_flag'] = pd.Series(xxx_last1_mon).values\n",
    "df['XXX3M_flag'] = pd.Series(xxx_last3_mon).values\n",
    "df['XXX6M_flag'] = pd.Series(xxx_last6_mon).values\n",
    "df['XXX1Y_flag'] = pd.Series(xxx_last1_yr).values\n",
    "df['XXX2Y_flag'] = pd.Series(xxx_last2_yr).values\n",
    "df['XXX3Y_flag'] = pd.Series(xxx_last3_yr).values"
   ]
  },
  {
   "cell_type": "code",
   "execution_count": 14,
   "metadata": {},
   "outputs": [
    {
     "data": {
      "text/plain": [
       "0    4311\n",
       "1     151\n",
       "Name: XXX1M_flag, dtype: int64"
      ]
     },
     "execution_count": 14,
     "metadata": {},
     "output_type": "execute_result"
    }
   ],
   "source": [
    "df['XXX1M_flag'].value_counts()"
   ]
  },
  {
   "cell_type": "markdown",
   "metadata": {},
   "source": [
    "### Code for Target variable"
   ]
  },
  {
   "cell_type": "code",
   "execution_count": 15,
   "metadata": {},
   "outputs": [
    {
     "name": "stdout",
     "output_type": "stream",
     "text": [
      "4462\n"
     ]
    }
   ],
   "source": [
    "piece = list()\n",
    "target = list()\n",
    "\n",
    "for value in df['paymentHistComp'].astype('str'):\n",
    "    #print(value)\n",
    "    if len(value)%3==0:\n",
    "        chunks, chunk_size = len(value), 3\n",
    "        for i in range(0, chunks, chunk_size):\n",
    "            piece.append(value[i:i+chunk_size])\n",
    "        #print(piece)\n",
    "        #print(len(piece))\n",
    "        if ('SUB' in piece) or ('DBT' in piece) or ('LSS' in piece):\n",
    "            #print('BAD')\n",
    "            #print('\\n')\n",
    "            target.append('BAD')\n",
    "        \n",
    "        else :\n",
    "            #print('GOOD')\n",
    "            #print('\\n')\n",
    "            target.append('GOOD')\n",
    "    \n",
    "    else:\n",
    "        #print(value)\n",
    "        #print('BAD')\n",
    "        #print('\\n')\n",
    "        target.append('BAD')\n",
    "            \n",
    "    piece = list()\n",
    "    \n",
    "df['Target'] = pd.Series(target).values\n",
    "print(len(target))"
   ]
  },
  {
   "cell_type": "code",
   "execution_count": 16,
   "metadata": {},
   "outputs": [
    {
     "data": {
      "text/html": [
       "<div>\n",
       "<style scoped>\n",
       "    .dataframe tbody tr th:only-of-type {\n",
       "        vertical-align: middle;\n",
       "    }\n",
       "\n",
       "    .dataframe tbody tr th {\n",
       "        vertical-align: top;\n",
       "    }\n",
       "\n",
       "    .dataframe thead th {\n",
       "        text-align: right;\n",
       "    }\n",
       "</style>\n",
       "<table border=\"1\" class=\"dataframe\">\n",
       "  <thead>\n",
       "    <tr style=\"text-align: right;\">\n",
       "      <th></th>\n",
       "      <th>Unnamed: 0</th>\n",
       "      <th>ID</th>\n",
       "      <th>age</th>\n",
       "      <th>gender</th>\n",
       "      <th>empType</th>\n",
       "      <th>education</th>\n",
       "      <th>addrsCategory</th>\n",
       "      <th>pinCode</th>\n",
       "      <th>addrsStateCode</th>\n",
       "      <th>phoneType</th>\n",
       "      <th>...</th>\n",
       "      <th>LSSFound</th>\n",
       "      <th>cntDBT</th>\n",
       "      <th>cntLSS</th>\n",
       "      <th>XXX1M_flag</th>\n",
       "      <th>XXX3M_flag</th>\n",
       "      <th>XXX6M_flag</th>\n",
       "      <th>XXX1Y_flag</th>\n",
       "      <th>XXX2Y_flag</th>\n",
       "      <th>XXX3Y_flag</th>\n",
       "      <th>Target</th>\n",
       "    </tr>\n",
       "  </thead>\n",
       "  <tbody>\n",
       "    <tr>\n",
       "      <th>0</th>\n",
       "      <td>0</td>\n",
       "      <td>67837000949</td>\n",
       "      <td>23</td>\n",
       "      <td>Male</td>\n",
       "      <td>NaN</td>\n",
       "      <td>NaN</td>\n",
       "      <td>2.0</td>\n",
       "      <td>686004.0</td>\n",
       "      <td>32.0</td>\n",
       "      <td>1.0</td>\n",
       "      <td>...</td>\n",
       "      <td>0</td>\n",
       "      <td>0</td>\n",
       "      <td>0</td>\n",
       "      <td>0</td>\n",
       "      <td>0</td>\n",
       "      <td>0</td>\n",
       "      <td>0</td>\n",
       "      <td>0</td>\n",
       "      <td>0</td>\n",
       "      <td>GOOD</td>\n",
       "    </tr>\n",
       "    <tr>\n",
       "      <th>1</th>\n",
       "      <td>1</td>\n",
       "      <td>28911006216</td>\n",
       "      <td>44</td>\n",
       "      <td>Female</td>\n",
       "      <td>NaN</td>\n",
       "      <td>NaN</td>\n",
       "      <td>1.0</td>\n",
       "      <td>686561.0</td>\n",
       "      <td>32.0</td>\n",
       "      <td>1.0</td>\n",
       "      <td>...</td>\n",
       "      <td>0</td>\n",
       "      <td>0</td>\n",
       "      <td>0</td>\n",
       "      <td>0</td>\n",
       "      <td>0</td>\n",
       "      <td>0</td>\n",
       "      <td>0</td>\n",
       "      <td>0</td>\n",
       "      <td>0</td>\n",
       "      <td>BAD</td>\n",
       "    </tr>\n",
       "    <tr>\n",
       "      <th>2</th>\n",
       "      <td>2</td>\n",
       "      <td>28911006216</td>\n",
       "      <td>44</td>\n",
       "      <td>Female</td>\n",
       "      <td>NaN</td>\n",
       "      <td>NaN</td>\n",
       "      <td>1.0</td>\n",
       "      <td>686561.0</td>\n",
       "      <td>32.0</td>\n",
       "      <td>1.0</td>\n",
       "      <td>...</td>\n",
       "      <td>0</td>\n",
       "      <td>0</td>\n",
       "      <td>0</td>\n",
       "      <td>0</td>\n",
       "      <td>0</td>\n",
       "      <td>0</td>\n",
       "      <td>0</td>\n",
       "      <td>0</td>\n",
       "      <td>0</td>\n",
       "      <td>BAD</td>\n",
       "    </tr>\n",
       "    <tr>\n",
       "      <th>3</th>\n",
       "      <td>3</td>\n",
       "      <td>28911006216</td>\n",
       "      <td>44</td>\n",
       "      <td>Female</td>\n",
       "      <td>NaN</td>\n",
       "      <td>NaN</td>\n",
       "      <td>1.0</td>\n",
       "      <td>686561.0</td>\n",
       "      <td>32.0</td>\n",
       "      <td>1.0</td>\n",
       "      <td>...</td>\n",
       "      <td>0</td>\n",
       "      <td>0</td>\n",
       "      <td>0</td>\n",
       "      <td>0</td>\n",
       "      <td>0</td>\n",
       "      <td>0</td>\n",
       "      <td>0</td>\n",
       "      <td>0</td>\n",
       "      <td>0</td>\n",
       "      <td>BAD</td>\n",
       "    </tr>\n",
       "    <tr>\n",
       "      <th>4</th>\n",
       "      <td>4</td>\n",
       "      <td>87375000108</td>\n",
       "      <td>50</td>\n",
       "      <td>Male</td>\n",
       "      <td>NaN</td>\n",
       "      <td>NaN</td>\n",
       "      <td>3.0</td>\n",
       "      <td>641026.0</td>\n",
       "      <td>33.0</td>\n",
       "      <td>0.0</td>\n",
       "      <td>...</td>\n",
       "      <td>0</td>\n",
       "      <td>0</td>\n",
       "      <td>0</td>\n",
       "      <td>0</td>\n",
       "      <td>0</td>\n",
       "      <td>0</td>\n",
       "      <td>0</td>\n",
       "      <td>0</td>\n",
       "      <td>0</td>\n",
       "      <td>BAD</td>\n",
       "    </tr>\n",
       "  </tbody>\n",
       "</table>\n",
       "<p>5 rows × 46 columns</p>\n",
       "</div>"
      ],
      "text/plain": [
       "   Unnamed: 0           ID  age  gender empType education  addrsCategory  \\\n",
       "0           0  67837000949   23    Male     NaN       NaN            2.0   \n",
       "1           1  28911006216   44  Female     NaN       NaN            1.0   \n",
       "2           2  28911006216   44  Female     NaN       NaN            1.0   \n",
       "3           3  28911006216   44  Female     NaN       NaN            1.0   \n",
       "4           4  87375000108   50    Male     NaN       NaN            3.0   \n",
       "\n",
       "    pinCode  addrsStateCode  phoneType  ...  LSSFound cntDBT cntLSS  \\\n",
       "0  686004.0            32.0        1.0  ...         0      0      0   \n",
       "1  686561.0            32.0        1.0  ...         0      0      0   \n",
       "2  686561.0            32.0        1.0  ...         0      0      0   \n",
       "3  686561.0            32.0        1.0  ...         0      0      0   \n",
       "4  641026.0            33.0        0.0  ...         0      0      0   \n",
       "\n",
       "  XXX1M_flag  XXX3M_flag XXX6M_flag  XXX1Y_flag  XXX2Y_flag  XXX3Y_flag  \\\n",
       "0          0           0          0           0           0           0   \n",
       "1          0           0          0           0           0           0   \n",
       "2          0           0          0           0           0           0   \n",
       "3          0           0          0           0           0           0   \n",
       "4          0           0          0           0           0           0   \n",
       "\n",
       "   Target  \n",
       "0    GOOD  \n",
       "1     BAD  \n",
       "2     BAD  \n",
       "3     BAD  \n",
       "4     BAD  \n",
       "\n",
       "[5 rows x 46 columns]"
      ]
     },
     "execution_count": 16,
     "metadata": {},
     "output_type": "execute_result"
    }
   ],
   "source": [
    "df.head()"
   ]
  },
  {
   "cell_type": "code",
   "execution_count": 17,
   "metadata": {},
   "outputs": [
    {
     "data": {
      "text/plain": [
       "BAD     3418\n",
       "GOOD    1044\n",
       "Name: Target, dtype: int64"
      ]
     },
     "execution_count": 17,
     "metadata": {},
     "output_type": "execute_result"
    }
   ],
   "source": [
    "df['Target'].value_counts()"
   ]
  },
  {
   "cell_type": "markdown",
   "metadata": {},
   "source": [
    "### Info of the data set"
   ]
  },
  {
   "cell_type": "code",
   "execution_count": 18,
   "metadata": {},
   "outputs": [
    {
     "name": "stdout",
     "output_type": "stream",
     "text": [
      "<class 'pandas.core.frame.DataFrame'>\n",
      "RangeIndex: 4462 entries, 0 to 4461\n",
      "Data columns (total 46 columns):\n",
      " #   Column                      Non-Null Count  Dtype  \n",
      "---  ------                      --------------  -----  \n",
      " 0   Unnamed: 0                  4462 non-null   int64  \n",
      " 1   ID                          4462 non-null   object \n",
      " 2   age                         4462 non-null   int64  \n",
      " 3   gender                      4462 non-null   object \n",
      " 4   empType                     2141 non-null   object \n",
      " 5   education                   2139 non-null   object \n",
      " 6   addrsCategory               4460 non-null   float64\n",
      " 7   pinCode                     4460 non-null   float64\n",
      " 8   addrsStateCode              4460 non-null   float64\n",
      " 9   phoneType                   4449 non-null   float64\n",
      " 10  accountType                 4133 non-null   float64\n",
      " 11  maritalStatus               3008 non-null   object \n",
      " 12  bureauName                  4462 non-null   object \n",
      " 13  bureauScore                 4460 non-null   object \n",
      " 14  bureauScoreCardName         4460 non-null   float64\n",
      " 15  bureauScoreName             4460 non-null   object \n",
      " 16  writtenOffAndSettledStatus  76 non-null     float64\n",
      " 17  writtenOffAmountPrincipal   36 non-null     float64\n",
      " 18  netMonthlyIncome            2592 non-null   float64\n",
      " 19  sanctionAmount              4112 non-null   float64\n",
      " 20  currentBalance              4133 non-null   float64\n",
      " 21  creditLimit                 70 non-null     float64\n",
      " 22  loanAmt                     4462 non-null   int64  \n",
      " 23  overdueAmount               272 non-null    float64\n",
      " 24  loanTenure                  4462 non-null   int64  \n",
      " 25  loginDate                   4462 non-null   object \n",
      " 26  dateReportedAndCertified    4133 non-null   float64\n",
      " 27  dateOpenedOrDisbursed       4125 non-null   float64\n",
      " 28  dateClosed                  2726 non-null   float64\n",
      " 29  PHSD                        4133 non-null   float64\n",
      " 30  PHED                        4133 non-null   float64\n",
      " 31  suitFiledOrWilfulDefault    5 non-null      float64\n",
      " 32  paymentHist1                4462 non-null   object \n",
      " 33  paymentHist2                4462 non-null   object \n",
      " 34  paymentHistComp             4462 non-null   object \n",
      " 35  DBTFound                    4462 non-null   int64  \n",
      " 36  LSSFound                    4462 non-null   int64  \n",
      " 37  cntDBT                      4462 non-null   int64  \n",
      " 38  cntLSS                      4462 non-null   int64  \n",
      " 39  XXX1M_flag                  4462 non-null   int64  \n",
      " 40  XXX3M_flag                  4462 non-null   int64  \n",
      " 41  XXX6M_flag                  4462 non-null   int64  \n",
      " 42  XXX1Y_flag                  4462 non-null   int64  \n",
      " 43  XXX2Y_flag                  4462 non-null   int64  \n",
      " 44  XXX3Y_flag                  4462 non-null   int64  \n",
      " 45  Target                      4462 non-null   object \n",
      "dtypes: float64(19), int64(14), object(13)\n",
      "memory usage: 1.6+ MB\n"
     ]
    }
   ],
   "source": [
    "df.info()"
   ]
  },
  {
   "cell_type": "markdown",
   "metadata": {},
   "source": [
    "### Shape of the data set"
   ]
  },
  {
   "cell_type": "code",
   "execution_count": 19,
   "metadata": {},
   "outputs": [
    {
     "data": {
      "text/plain": [
       "(4462, 46)"
      ]
     },
     "execution_count": 19,
     "metadata": {},
     "output_type": "execute_result"
    }
   ],
   "source": [
    "df.shape"
   ]
  },
  {
   "cell_type": "markdown",
   "metadata": {},
   "source": [
    "### Dropping irrelevant columns"
   ]
  },
  {
   "cell_type": "code",
   "execution_count": 20,
   "metadata": {},
   "outputs": [
    {
     "data": {
      "text/html": [
       "<div>\n",
       "<style scoped>\n",
       "    .dataframe tbody tr th:only-of-type {\n",
       "        vertical-align: middle;\n",
       "    }\n",
       "\n",
       "    .dataframe tbody tr th {\n",
       "        vertical-align: top;\n",
       "    }\n",
       "\n",
       "    .dataframe thead th {\n",
       "        text-align: right;\n",
       "    }\n",
       "</style>\n",
       "<table border=\"1\" class=\"dataframe\">\n",
       "  <thead>\n",
       "    <tr style=\"text-align: right;\">\n",
       "      <th></th>\n",
       "      <th>Unnamed: 0</th>\n",
       "      <th>age</th>\n",
       "      <th>gender</th>\n",
       "      <th>empType</th>\n",
       "      <th>education</th>\n",
       "      <th>addrsCategory</th>\n",
       "      <th>pinCode</th>\n",
       "      <th>addrsStateCode</th>\n",
       "      <th>phoneType</th>\n",
       "      <th>accountType</th>\n",
       "      <th>...</th>\n",
       "      <th>LSSFound</th>\n",
       "      <th>cntDBT</th>\n",
       "      <th>cntLSS</th>\n",
       "      <th>XXX1M_flag</th>\n",
       "      <th>XXX3M_flag</th>\n",
       "      <th>XXX6M_flag</th>\n",
       "      <th>XXX1Y_flag</th>\n",
       "      <th>XXX2Y_flag</th>\n",
       "      <th>XXX3Y_flag</th>\n",
       "      <th>Target</th>\n",
       "    </tr>\n",
       "  </thead>\n",
       "  <tbody>\n",
       "    <tr>\n",
       "      <th>0</th>\n",
       "      <td>0</td>\n",
       "      <td>23</td>\n",
       "      <td>Male</td>\n",
       "      <td>NaN</td>\n",
       "      <td>NaN</td>\n",
       "      <td>2.0</td>\n",
       "      <td>686004.0</td>\n",
       "      <td>32.0</td>\n",
       "      <td>1.0</td>\n",
       "      <td>13.0</td>\n",
       "      <td>...</td>\n",
       "      <td>0</td>\n",
       "      <td>0</td>\n",
       "      <td>0</td>\n",
       "      <td>0</td>\n",
       "      <td>0</td>\n",
       "      <td>0</td>\n",
       "      <td>0</td>\n",
       "      <td>0</td>\n",
       "      <td>0</td>\n",
       "      <td>GOOD</td>\n",
       "    </tr>\n",
       "    <tr>\n",
       "      <th>1</th>\n",
       "      <td>1</td>\n",
       "      <td>44</td>\n",
       "      <td>Female</td>\n",
       "      <td>NaN</td>\n",
       "      <td>NaN</td>\n",
       "      <td>1.0</td>\n",
       "      <td>686561.0</td>\n",
       "      <td>32.0</td>\n",
       "      <td>1.0</td>\n",
       "      <td>7.0</td>\n",
       "      <td>...</td>\n",
       "      <td>0</td>\n",
       "      <td>0</td>\n",
       "      <td>0</td>\n",
       "      <td>0</td>\n",
       "      <td>0</td>\n",
       "      <td>0</td>\n",
       "      <td>0</td>\n",
       "      <td>0</td>\n",
       "      <td>0</td>\n",
       "      <td>BAD</td>\n",
       "    </tr>\n",
       "    <tr>\n",
       "      <th>2</th>\n",
       "      <td>2</td>\n",
       "      <td>44</td>\n",
       "      <td>Female</td>\n",
       "      <td>NaN</td>\n",
       "      <td>NaN</td>\n",
       "      <td>1.0</td>\n",
       "      <td>686561.0</td>\n",
       "      <td>32.0</td>\n",
       "      <td>1.0</td>\n",
       "      <td>7.0</td>\n",
       "      <td>...</td>\n",
       "      <td>0</td>\n",
       "      <td>0</td>\n",
       "      <td>0</td>\n",
       "      <td>0</td>\n",
       "      <td>0</td>\n",
       "      <td>0</td>\n",
       "      <td>0</td>\n",
       "      <td>0</td>\n",
       "      <td>0</td>\n",
       "      <td>BAD</td>\n",
       "    </tr>\n",
       "    <tr>\n",
       "      <th>3</th>\n",
       "      <td>3</td>\n",
       "      <td>44</td>\n",
       "      <td>Female</td>\n",
       "      <td>NaN</td>\n",
       "      <td>NaN</td>\n",
       "      <td>1.0</td>\n",
       "      <td>686561.0</td>\n",
       "      <td>32.0</td>\n",
       "      <td>1.0</td>\n",
       "      <td>7.0</td>\n",
       "      <td>...</td>\n",
       "      <td>0</td>\n",
       "      <td>0</td>\n",
       "      <td>0</td>\n",
       "      <td>0</td>\n",
       "      <td>0</td>\n",
       "      <td>0</td>\n",
       "      <td>0</td>\n",
       "      <td>0</td>\n",
       "      <td>0</td>\n",
       "      <td>BAD</td>\n",
       "    </tr>\n",
       "    <tr>\n",
       "      <th>4</th>\n",
       "      <td>4</td>\n",
       "      <td>50</td>\n",
       "      <td>Male</td>\n",
       "      <td>NaN</td>\n",
       "      <td>NaN</td>\n",
       "      <td>3.0</td>\n",
       "      <td>641026.0</td>\n",
       "      <td>33.0</td>\n",
       "      <td>0.0</td>\n",
       "      <td>NaN</td>\n",
       "      <td>...</td>\n",
       "      <td>0</td>\n",
       "      <td>0</td>\n",
       "      <td>0</td>\n",
       "      <td>0</td>\n",
       "      <td>0</td>\n",
       "      <td>0</td>\n",
       "      <td>0</td>\n",
       "      <td>0</td>\n",
       "      <td>0</td>\n",
       "      <td>BAD</td>\n",
       "    </tr>\n",
       "  </tbody>\n",
       "</table>\n",
       "<p>5 rows × 42 columns</p>\n",
       "</div>"
      ],
      "text/plain": [
       "   Unnamed: 0  age  gender empType education  addrsCategory   pinCode  \\\n",
       "0           0   23    Male     NaN       NaN            2.0  686004.0   \n",
       "1           1   44  Female     NaN       NaN            1.0  686561.0   \n",
       "2           2   44  Female     NaN       NaN            1.0  686561.0   \n",
       "3           3   44  Female     NaN       NaN            1.0  686561.0   \n",
       "4           4   50    Male     NaN       NaN            3.0  641026.0   \n",
       "\n",
       "   addrsStateCode  phoneType  accountType  ... LSSFound cntDBT cntLSS  \\\n",
       "0            32.0        1.0         13.0  ...        0      0      0   \n",
       "1            32.0        1.0          7.0  ...        0      0      0   \n",
       "2            32.0        1.0          7.0  ...        0      0      0   \n",
       "3            32.0        1.0          7.0  ...        0      0      0   \n",
       "4            33.0        0.0          NaN  ...        0      0      0   \n",
       "\n",
       "   XXX1M_flag XXX3M_flag  XXX6M_flag  XXX1Y_flag  XXX2Y_flag  XXX3Y_flag  \\\n",
       "0           0          0           0           0           0           0   \n",
       "1           0          0           0           0           0           0   \n",
       "2           0          0           0           0           0           0   \n",
       "3           0          0           0           0           0           0   \n",
       "4           0          0           0           0           0           0   \n",
       "\n",
       "   Target  \n",
       "0    GOOD  \n",
       "1     BAD  \n",
       "2     BAD  \n",
       "3     BAD  \n",
       "4     BAD  \n",
       "\n",
       "[5 rows x 42 columns]"
      ]
     },
     "execution_count": 20,
     "metadata": {},
     "output_type": "execute_result"
    }
   ],
   "source": [
    "to_drop = ['ID', 'paymentHist1', 'paymentHist2', 'loginDate']\n",
    "\n",
    "df.drop(to_drop, inplace = True, axis = 1)\n",
    "df.head(5)"
   ]
  },
  {
   "cell_type": "markdown",
   "metadata": {},
   "source": [
    "### Describe"
   ]
  },
  {
   "cell_type": "code",
   "execution_count": 21,
   "metadata": {},
   "outputs": [
    {
     "data": {
      "text/html": [
       "<div>\n",
       "<style scoped>\n",
       "    .dataframe tbody tr th:only-of-type {\n",
       "        vertical-align: middle;\n",
       "    }\n",
       "\n",
       "    .dataframe tbody tr th {\n",
       "        vertical-align: top;\n",
       "    }\n",
       "\n",
       "    .dataframe thead th {\n",
       "        text-align: right;\n",
       "    }\n",
       "</style>\n",
       "<table border=\"1\" class=\"dataframe\">\n",
       "  <thead>\n",
       "    <tr style=\"text-align: right;\">\n",
       "      <th></th>\n",
       "      <th>count</th>\n",
       "      <th>mean</th>\n",
       "      <th>std</th>\n",
       "      <th>min</th>\n",
       "      <th>25%</th>\n",
       "      <th>50%</th>\n",
       "      <th>75%</th>\n",
       "      <th>max</th>\n",
       "    </tr>\n",
       "  </thead>\n",
       "  <tbody>\n",
       "    <tr>\n",
       "      <th>Unnamed: 0</th>\n",
       "      <td>4462.0</td>\n",
       "      <td>2.230500e+03</td>\n",
       "      <td>1.288213e+03</td>\n",
       "      <td>0.0</td>\n",
       "      <td>1115.25</td>\n",
       "      <td>2230.5</td>\n",
       "      <td>3345.75</td>\n",
       "      <td>4461.0</td>\n",
       "    </tr>\n",
       "    <tr>\n",
       "      <th>age</th>\n",
       "      <td>4462.0</td>\n",
       "      <td>3.698700e+01</td>\n",
       "      <td>1.026470e+01</td>\n",
       "      <td>0.0</td>\n",
       "      <td>29.00</td>\n",
       "      <td>37.0</td>\n",
       "      <td>44.00</td>\n",
       "      <td>67.0</td>\n",
       "    </tr>\n",
       "    <tr>\n",
       "      <th>addrsCategory</th>\n",
       "      <td>4460.0</td>\n",
       "      <td>2.429821e+00</td>\n",
       "      <td>1.076262e+00</td>\n",
       "      <td>1.0</td>\n",
       "      <td>2.00</td>\n",
       "      <td>2.0</td>\n",
       "      <td>3.00</td>\n",
       "      <td>4.0</td>\n",
       "    </tr>\n",
       "    <tr>\n",
       "      <th>pinCode</th>\n",
       "      <td>4460.0</td>\n",
       "      <td>5.784908e+05</td>\n",
       "      <td>1.206375e+05</td>\n",
       "      <td>110041.0</td>\n",
       "      <td>560071.50</td>\n",
       "      <td>612902.5</td>\n",
       "      <td>636004.00</td>\n",
       "      <td>852221.0</td>\n",
       "    </tr>\n",
       "    <tr>\n",
       "      <th>addrsStateCode</th>\n",
       "      <td>4460.0</td>\n",
       "      <td>2.919529e+01</td>\n",
       "      <td>6.625789e+00</td>\n",
       "      <td>2.0</td>\n",
       "      <td>28.00</td>\n",
       "      <td>33.0</td>\n",
       "      <td>33.00</td>\n",
       "      <td>36.0</td>\n",
       "    </tr>\n",
       "    <tr>\n",
       "      <th>phoneType</th>\n",
       "      <td>4449.0</td>\n",
       "      <td>1.269499e+00</td>\n",
       "      <td>9.864039e-01</td>\n",
       "      <td>0.0</td>\n",
       "      <td>1.00</td>\n",
       "      <td>1.0</td>\n",
       "      <td>2.00</td>\n",
       "      <td>3.0</td>\n",
       "    </tr>\n",
       "    <tr>\n",
       "      <th>accountType</th>\n",
       "      <td>4133.0</td>\n",
       "      <td>1.097798e+01</td>\n",
       "      <td>1.336402e+01</td>\n",
       "      <td>0.0</td>\n",
       "      <td>6.00</td>\n",
       "      <td>7.0</td>\n",
       "      <td>7.00</td>\n",
       "      <td>61.0</td>\n",
       "    </tr>\n",
       "    <tr>\n",
       "      <th>bureauScoreCardName</th>\n",
       "      <td>4460.0</td>\n",
       "      <td>8.000000e+00</td>\n",
       "      <td>0.000000e+00</td>\n",
       "      <td>8.0</td>\n",
       "      <td>8.00</td>\n",
       "      <td>8.0</td>\n",
       "      <td>8.00</td>\n",
       "      <td>8.0</td>\n",
       "    </tr>\n",
       "    <tr>\n",
       "      <th>writtenOffAndSettledStatus</th>\n",
       "      <td>76.0</td>\n",
       "      <td>5.026316e+00</td>\n",
       "      <td>1.560254e+01</td>\n",
       "      <td>0.0</td>\n",
       "      <td>2.00</td>\n",
       "      <td>2.0</td>\n",
       "      <td>3.00</td>\n",
       "      <td>99.0</td>\n",
       "    </tr>\n",
       "    <tr>\n",
       "      <th>writtenOffAmountPrincipal</th>\n",
       "      <td>36.0</td>\n",
       "      <td>2.335253e+04</td>\n",
       "      <td>2.657359e+04</td>\n",
       "      <td>449.0</td>\n",
       "      <td>5035.50</td>\n",
       "      <td>12307.5</td>\n",
       "      <td>34184.75</td>\n",
       "      <td>115105.0</td>\n",
       "    </tr>\n",
       "    <tr>\n",
       "      <th>netMonthlyIncome</th>\n",
       "      <td>2592.0</td>\n",
       "      <td>1.652888e+04</td>\n",
       "      <td>1.657903e+04</td>\n",
       "      <td>0.0</td>\n",
       "      <td>0.00</td>\n",
       "      <td>16500.0</td>\n",
       "      <td>28000.00</td>\n",
       "      <td>200000.0</td>\n",
       "    </tr>\n",
       "    <tr>\n",
       "      <th>sanctionAmount</th>\n",
       "      <td>4112.0</td>\n",
       "      <td>8.066034e+04</td>\n",
       "      <td>2.211164e+05</td>\n",
       "      <td>1.0</td>\n",
       "      <td>13499.75</td>\n",
       "      <td>30000.0</td>\n",
       "      <td>67086.00</td>\n",
       "      <td>5000000.0</td>\n",
       "    </tr>\n",
       "    <tr>\n",
       "      <th>currentBalance</th>\n",
       "      <td>4133.0</td>\n",
       "      <td>3.770560e+04</td>\n",
       "      <td>1.894528e+05</td>\n",
       "      <td>-3027.0</td>\n",
       "      <td>0.00</td>\n",
       "      <td>0.0</td>\n",
       "      <td>5993.00</td>\n",
       "      <td>4430884.0</td>\n",
       "    </tr>\n",
       "    <tr>\n",
       "      <th>creditLimit</th>\n",
       "      <td>70.0</td>\n",
       "      <td>5.876957e+04</td>\n",
       "      <td>4.852480e+04</td>\n",
       "      <td>70.0</td>\n",
       "      <td>23500.00</td>\n",
       "      <td>50000.0</td>\n",
       "      <td>76250.00</td>\n",
       "      <td>250000.0</td>\n",
       "    </tr>\n",
       "    <tr>\n",
       "      <th>loanAmt</th>\n",
       "      <td>4462.0</td>\n",
       "      <td>3.750927e+04</td>\n",
       "      <td>2.609770e+04</td>\n",
       "      <td>50.0</td>\n",
       "      <td>21000.00</td>\n",
       "      <td>30000.0</td>\n",
       "      <td>49000.00</td>\n",
       "      <td>1016000.0</td>\n",
       "    </tr>\n",
       "    <tr>\n",
       "      <th>overdueAmount</th>\n",
       "      <td>272.0</td>\n",
       "      <td>3.816996e+04</td>\n",
       "      <td>2.019121e+05</td>\n",
       "      <td>4.0</td>\n",
       "      <td>2216.75</td>\n",
       "      <td>7178.0</td>\n",
       "      <td>24961.00</td>\n",
       "      <td>3196939.0</td>\n",
       "    </tr>\n",
       "    <tr>\n",
       "      <th>loanTenure</th>\n",
       "      <td>4462.0</td>\n",
       "      <td>5.345585e+00</td>\n",
       "      <td>8.317682e+00</td>\n",
       "      <td>0.0</td>\n",
       "      <td>0.00</td>\n",
       "      <td>0.0</td>\n",
       "      <td>10.00</td>\n",
       "      <td>365.0</td>\n",
       "    </tr>\n",
       "    <tr>\n",
       "      <th>dateReportedAndCertified</th>\n",
       "      <td>4133.0</td>\n",
       "      <td>2.857912e+07</td>\n",
       "      <td>5.980355e+06</td>\n",
       "      <td>1012019.0</td>\n",
       "      <td>30062019.00</td>\n",
       "      <td>30112016.0</td>\n",
       "      <td>31052020.00</td>\n",
       "      <td>31122019.0</td>\n",
       "    </tr>\n",
       "    <tr>\n",
       "      <th>dateOpenedOrDisbursed</th>\n",
       "      <td>4125.0</td>\n",
       "      <td>1.745759e+07</td>\n",
       "      <td>8.722560e+06</td>\n",
       "      <td>1012020.0</td>\n",
       "      <td>10072019.00</td>\n",
       "      <td>18042018.0</td>\n",
       "      <td>25062007.00</td>\n",
       "      <td>31122019.0</td>\n",
       "    </tr>\n",
       "    <tr>\n",
       "      <th>dateClosed</th>\n",
       "      <td>2726.0</td>\n",
       "      <td>1.596640e+07</td>\n",
       "      <td>8.534016e+06</td>\n",
       "      <td>1012013.0</td>\n",
       "      <td>9042020.00</td>\n",
       "      <td>16012019.5</td>\n",
       "      <td>23062015.00</td>\n",
       "      <td>31122019.0</td>\n",
       "    </tr>\n",
       "    <tr>\n",
       "      <th>PHSD</th>\n",
       "      <td>4133.0</td>\n",
       "      <td>1.063840e+06</td>\n",
       "      <td>2.873941e+04</td>\n",
       "      <td>1012004.0</td>\n",
       "      <td>1052018.00</td>\n",
       "      <td>1062020.0</td>\n",
       "      <td>1082014.00</td>\n",
       "      <td>1122019.0</td>\n",
       "    </tr>\n",
       "    <tr>\n",
       "      <th>PHED</th>\n",
       "      <td>4133.0</td>\n",
       "      <td>1.068187e+06</td>\n",
       "      <td>3.415557e+04</td>\n",
       "      <td>1012004.0</td>\n",
       "      <td>1042014.00</td>\n",
       "      <td>1072017.0</td>\n",
       "      <td>1102015.00</td>\n",
       "      <td>1122019.0</td>\n",
       "    </tr>\n",
       "    <tr>\n",
       "      <th>suitFiledOrWilfulDefault</th>\n",
       "      <td>5.0</td>\n",
       "      <td>1.000000e+00</td>\n",
       "      <td>0.000000e+00</td>\n",
       "      <td>1.0</td>\n",
       "      <td>1.00</td>\n",
       "      <td>1.0</td>\n",
       "      <td>1.00</td>\n",
       "      <td>1.0</td>\n",
       "    </tr>\n",
       "    <tr>\n",
       "      <th>DBTFound</th>\n",
       "      <td>4462.0</td>\n",
       "      <td>4.482295e-03</td>\n",
       "      <td>6.680722e-02</td>\n",
       "      <td>0.0</td>\n",
       "      <td>0.00</td>\n",
       "      <td>0.0</td>\n",
       "      <td>0.00</td>\n",
       "      <td>1.0</td>\n",
       "    </tr>\n",
       "    <tr>\n",
       "      <th>LSSFound</th>\n",
       "      <td>4462.0</td>\n",
       "      <td>6.723442e-04</td>\n",
       "      <td>2.592379e-02</td>\n",
       "      <td>0.0</td>\n",
       "      <td>0.00</td>\n",
       "      <td>0.0</td>\n",
       "      <td>0.00</td>\n",
       "      <td>1.0</td>\n",
       "    </tr>\n",
       "    <tr>\n",
       "      <th>cntDBT</th>\n",
       "      <td>4462.0</td>\n",
       "      <td>4.728821e-02</td>\n",
       "      <td>9.305667e-01</td>\n",
       "      <td>0.0</td>\n",
       "      <td>0.00</td>\n",
       "      <td>0.0</td>\n",
       "      <td>0.00</td>\n",
       "      <td>29.0</td>\n",
       "    </tr>\n",
       "    <tr>\n",
       "      <th>cntLSS</th>\n",
       "      <td>4462.0</td>\n",
       "      <td>4.728821e-02</td>\n",
       "      <td>9.305667e-01</td>\n",
       "      <td>0.0</td>\n",
       "      <td>0.00</td>\n",
       "      <td>0.0</td>\n",
       "      <td>0.00</td>\n",
       "      <td>29.0</td>\n",
       "    </tr>\n",
       "    <tr>\n",
       "      <th>XXX1M_flag</th>\n",
       "      <td>4462.0</td>\n",
       "      <td>3.384133e-02</td>\n",
       "      <td>1.808409e-01</td>\n",
       "      <td>0.0</td>\n",
       "      <td>0.00</td>\n",
       "      <td>0.0</td>\n",
       "      <td>0.00</td>\n",
       "      <td>1.0</td>\n",
       "    </tr>\n",
       "    <tr>\n",
       "      <th>XXX3M_flag</th>\n",
       "      <td>4462.0</td>\n",
       "      <td>6.275213e-03</td>\n",
       "      <td>7.897615e-02</td>\n",
       "      <td>0.0</td>\n",
       "      <td>0.00</td>\n",
       "      <td>0.0</td>\n",
       "      <td>0.00</td>\n",
       "      <td>1.0</td>\n",
       "    </tr>\n",
       "    <tr>\n",
       "      <th>XXX6M_flag</th>\n",
       "      <td>4462.0</td>\n",
       "      <td>3.585836e-03</td>\n",
       "      <td>5.978109e-02</td>\n",
       "      <td>0.0</td>\n",
       "      <td>0.00</td>\n",
       "      <td>0.0</td>\n",
       "      <td>0.00</td>\n",
       "      <td>1.0</td>\n",
       "    </tr>\n",
       "    <tr>\n",
       "      <th>XXX1Y_flag</th>\n",
       "      <td>4462.0</td>\n",
       "      <td>2.689377e-03</td>\n",
       "      <td>5.179523e-02</td>\n",
       "      <td>0.0</td>\n",
       "      <td>0.00</td>\n",
       "      <td>0.0</td>\n",
       "      <td>0.00</td>\n",
       "      <td>1.0</td>\n",
       "    </tr>\n",
       "    <tr>\n",
       "      <th>XXX2Y_flag</th>\n",
       "      <td>4462.0</td>\n",
       "      <td>1.568803e-03</td>\n",
       "      <td>3.958148e-02</td>\n",
       "      <td>0.0</td>\n",
       "      <td>0.00</td>\n",
       "      <td>0.0</td>\n",
       "      <td>0.00</td>\n",
       "      <td>1.0</td>\n",
       "    </tr>\n",
       "    <tr>\n",
       "      <th>XXX3Y_flag</th>\n",
       "      <td>4462.0</td>\n",
       "      <td>1.120574e-03</td>\n",
       "      <td>3.345996e-02</td>\n",
       "      <td>0.0</td>\n",
       "      <td>0.00</td>\n",
       "      <td>0.0</td>\n",
       "      <td>0.00</td>\n",
       "      <td>1.0</td>\n",
       "    </tr>\n",
       "  </tbody>\n",
       "</table>\n",
       "</div>"
      ],
      "text/plain": [
       "                             count          mean           std        min  \\\n",
       "Unnamed: 0                  4462.0  2.230500e+03  1.288213e+03        0.0   \n",
       "age                         4462.0  3.698700e+01  1.026470e+01        0.0   \n",
       "addrsCategory               4460.0  2.429821e+00  1.076262e+00        1.0   \n",
       "pinCode                     4460.0  5.784908e+05  1.206375e+05   110041.0   \n",
       "addrsStateCode              4460.0  2.919529e+01  6.625789e+00        2.0   \n",
       "phoneType                   4449.0  1.269499e+00  9.864039e-01        0.0   \n",
       "accountType                 4133.0  1.097798e+01  1.336402e+01        0.0   \n",
       "bureauScoreCardName         4460.0  8.000000e+00  0.000000e+00        8.0   \n",
       "writtenOffAndSettledStatus    76.0  5.026316e+00  1.560254e+01        0.0   \n",
       "writtenOffAmountPrincipal     36.0  2.335253e+04  2.657359e+04      449.0   \n",
       "netMonthlyIncome            2592.0  1.652888e+04  1.657903e+04        0.0   \n",
       "sanctionAmount              4112.0  8.066034e+04  2.211164e+05        1.0   \n",
       "currentBalance              4133.0  3.770560e+04  1.894528e+05    -3027.0   \n",
       "creditLimit                   70.0  5.876957e+04  4.852480e+04       70.0   \n",
       "loanAmt                     4462.0  3.750927e+04  2.609770e+04       50.0   \n",
       "overdueAmount                272.0  3.816996e+04  2.019121e+05        4.0   \n",
       "loanTenure                  4462.0  5.345585e+00  8.317682e+00        0.0   \n",
       "dateReportedAndCertified    4133.0  2.857912e+07  5.980355e+06  1012019.0   \n",
       "dateOpenedOrDisbursed       4125.0  1.745759e+07  8.722560e+06  1012020.0   \n",
       "dateClosed                  2726.0  1.596640e+07  8.534016e+06  1012013.0   \n",
       "PHSD                        4133.0  1.063840e+06  2.873941e+04  1012004.0   \n",
       "PHED                        4133.0  1.068187e+06  3.415557e+04  1012004.0   \n",
       "suitFiledOrWilfulDefault       5.0  1.000000e+00  0.000000e+00        1.0   \n",
       "DBTFound                    4462.0  4.482295e-03  6.680722e-02        0.0   \n",
       "LSSFound                    4462.0  6.723442e-04  2.592379e-02        0.0   \n",
       "cntDBT                      4462.0  4.728821e-02  9.305667e-01        0.0   \n",
       "cntLSS                      4462.0  4.728821e-02  9.305667e-01        0.0   \n",
       "XXX1M_flag                  4462.0  3.384133e-02  1.808409e-01        0.0   \n",
       "XXX3M_flag                  4462.0  6.275213e-03  7.897615e-02        0.0   \n",
       "XXX6M_flag                  4462.0  3.585836e-03  5.978109e-02        0.0   \n",
       "XXX1Y_flag                  4462.0  2.689377e-03  5.179523e-02        0.0   \n",
       "XXX2Y_flag                  4462.0  1.568803e-03  3.958148e-02        0.0   \n",
       "XXX3Y_flag                  4462.0  1.120574e-03  3.345996e-02        0.0   \n",
       "\n",
       "                                    25%         50%          75%         max  \n",
       "Unnamed: 0                      1115.25      2230.5      3345.75      4461.0  \n",
       "age                               29.00        37.0        44.00        67.0  \n",
       "addrsCategory                      2.00         2.0         3.00         4.0  \n",
       "pinCode                       560071.50    612902.5    636004.00    852221.0  \n",
       "addrsStateCode                    28.00        33.0        33.00        36.0  \n",
       "phoneType                          1.00         1.0         2.00         3.0  \n",
       "accountType                        6.00         7.0         7.00        61.0  \n",
       "bureauScoreCardName                8.00         8.0         8.00         8.0  \n",
       "writtenOffAndSettledStatus         2.00         2.0         3.00        99.0  \n",
       "writtenOffAmountPrincipal       5035.50     12307.5     34184.75    115105.0  \n",
       "netMonthlyIncome                   0.00     16500.0     28000.00    200000.0  \n",
       "sanctionAmount                 13499.75     30000.0     67086.00   5000000.0  \n",
       "currentBalance                     0.00         0.0      5993.00   4430884.0  \n",
       "creditLimit                    23500.00     50000.0     76250.00    250000.0  \n",
       "loanAmt                        21000.00     30000.0     49000.00   1016000.0  \n",
       "overdueAmount                   2216.75      7178.0     24961.00   3196939.0  \n",
       "loanTenure                         0.00         0.0        10.00       365.0  \n",
       "dateReportedAndCertified    30062019.00  30112016.0  31052020.00  31122019.0  \n",
       "dateOpenedOrDisbursed       10072019.00  18042018.0  25062007.00  31122019.0  \n",
       "dateClosed                   9042020.00  16012019.5  23062015.00  31122019.0  \n",
       "PHSD                         1052018.00   1062020.0   1082014.00   1122019.0  \n",
       "PHED                         1042014.00   1072017.0   1102015.00   1122019.0  \n",
       "suitFiledOrWilfulDefault           1.00         1.0         1.00         1.0  \n",
       "DBTFound                           0.00         0.0         0.00         1.0  \n",
       "LSSFound                           0.00         0.0         0.00         1.0  \n",
       "cntDBT                             0.00         0.0         0.00        29.0  \n",
       "cntLSS                             0.00         0.0         0.00        29.0  \n",
       "XXX1M_flag                         0.00         0.0         0.00         1.0  \n",
       "XXX3M_flag                         0.00         0.0         0.00         1.0  \n",
       "XXX6M_flag                         0.00         0.0         0.00         1.0  \n",
       "XXX1Y_flag                         0.00         0.0         0.00         1.0  \n",
       "XXX2Y_flag                         0.00         0.0         0.00         1.0  \n",
       "XXX3Y_flag                         0.00         0.0         0.00         1.0  "
      ]
     },
     "execution_count": 21,
     "metadata": {},
     "output_type": "execute_result"
    }
   ],
   "source": [
    "df.describe().T"
   ]
  },
  {
   "cell_type": "markdown",
   "metadata": {},
   "source": [
    "### No. of unique values in each column"
   ]
  },
  {
   "cell_type": "code",
   "execution_count": 22,
   "metadata": {},
   "outputs": [
    {
     "data": {
      "text/html": [
       "<div>\n",
       "<style scoped>\n",
       "    .dataframe tbody tr th:only-of-type {\n",
       "        vertical-align: middle;\n",
       "    }\n",
       "\n",
       "    .dataframe tbody tr th {\n",
       "        vertical-align: top;\n",
       "    }\n",
       "\n",
       "    .dataframe thead th {\n",
       "        text-align: right;\n",
       "    }\n",
       "</style>\n",
       "<table border=\"1\" class=\"dataframe\">\n",
       "  <thead>\n",
       "    <tr style=\"text-align: right;\">\n",
       "      <th></th>\n",
       "      <th>0</th>\n",
       "    </tr>\n",
       "  </thead>\n",
       "  <tbody>\n",
       "    <tr>\n",
       "      <th>Unnamed: 0</th>\n",
       "      <td>4462</td>\n",
       "    </tr>\n",
       "    <tr>\n",
       "      <th>age</th>\n",
       "      <td>45</td>\n",
       "    </tr>\n",
       "    <tr>\n",
       "      <th>gender</th>\n",
       "      <td>2</td>\n",
       "    </tr>\n",
       "    <tr>\n",
       "      <th>empType</th>\n",
       "      <td>7</td>\n",
       "    </tr>\n",
       "    <tr>\n",
       "      <th>education</th>\n",
       "      <td>8</td>\n",
       "    </tr>\n",
       "    <tr>\n",
       "      <th>addrsCategory</th>\n",
       "      <td>4</td>\n",
       "    </tr>\n",
       "    <tr>\n",
       "      <th>pinCode</th>\n",
       "      <td>777</td>\n",
       "    </tr>\n",
       "    <tr>\n",
       "      <th>addrsStateCode</th>\n",
       "      <td>22</td>\n",
       "    </tr>\n",
       "    <tr>\n",
       "      <th>phoneType</th>\n",
       "      <td>4</td>\n",
       "    </tr>\n",
       "    <tr>\n",
       "      <th>accountType</th>\n",
       "      <td>33</td>\n",
       "    </tr>\n",
       "    <tr>\n",
       "      <th>maritalStatus</th>\n",
       "      <td>2</td>\n",
       "    </tr>\n",
       "    <tr>\n",
       "      <th>bureauName</th>\n",
       "      <td>1</td>\n",
       "    </tr>\n",
       "    <tr>\n",
       "      <th>bureauScore</th>\n",
       "      <td>183</td>\n",
       "    </tr>\n",
       "    <tr>\n",
       "      <th>bureauScoreCardName</th>\n",
       "      <td>1</td>\n",
       "    </tr>\n",
       "    <tr>\n",
       "      <th>bureauScoreName</th>\n",
       "      <td>1</td>\n",
       "    </tr>\n",
       "    <tr>\n",
       "      <th>writtenOffAndSettledStatus</th>\n",
       "      <td>6</td>\n",
       "    </tr>\n",
       "    <tr>\n",
       "      <th>writtenOffAmountPrincipal</th>\n",
       "      <td>34</td>\n",
       "    </tr>\n",
       "    <tr>\n",
       "      <th>netMonthlyIncome</th>\n",
       "      <td>76</td>\n",
       "    </tr>\n",
       "    <tr>\n",
       "      <th>sanctionAmount</th>\n",
       "      <td>1490</td>\n",
       "    </tr>\n",
       "    <tr>\n",
       "      <th>currentBalance</th>\n",
       "      <td>1139</td>\n",
       "    </tr>\n",
       "    <tr>\n",
       "      <th>creditLimit</th>\n",
       "      <td>42</td>\n",
       "    </tr>\n",
       "    <tr>\n",
       "      <th>loanAmt</th>\n",
       "      <td>126</td>\n",
       "    </tr>\n",
       "    <tr>\n",
       "      <th>overdueAmount</th>\n",
       "      <td>266</td>\n",
       "    </tr>\n",
       "    <tr>\n",
       "      <th>loanTenure</th>\n",
       "      <td>19</td>\n",
       "    </tr>\n",
       "    <tr>\n",
       "      <th>dateReportedAndCertified</th>\n",
       "      <td>337</td>\n",
       "    </tr>\n",
       "    <tr>\n",
       "      <th>dateOpenedOrDisbursed</th>\n",
       "      <td>1802</td>\n",
       "    </tr>\n",
       "    <tr>\n",
       "      <th>dateClosed</th>\n",
       "      <td>1317</td>\n",
       "    </tr>\n",
       "    <tr>\n",
       "      <th>PHSD</th>\n",
       "      <td>154</td>\n",
       "    </tr>\n",
       "    <tr>\n",
       "      <th>PHED</th>\n",
       "      <td>162</td>\n",
       "    </tr>\n",
       "    <tr>\n",
       "      <th>suitFiledOrWilfulDefault</th>\n",
       "      <td>1</td>\n",
       "    </tr>\n",
       "    <tr>\n",
       "      <th>paymentHistComp</th>\n",
       "      <td>1396</td>\n",
       "    </tr>\n",
       "    <tr>\n",
       "      <th>DBTFound</th>\n",
       "      <td>2</td>\n",
       "    </tr>\n",
       "    <tr>\n",
       "      <th>LSSFound</th>\n",
       "      <td>2</td>\n",
       "    </tr>\n",
       "    <tr>\n",
       "      <th>cntDBT</th>\n",
       "      <td>16</td>\n",
       "    </tr>\n",
       "    <tr>\n",
       "      <th>cntLSS</th>\n",
       "      <td>16</td>\n",
       "    </tr>\n",
       "    <tr>\n",
       "      <th>XXX1M_flag</th>\n",
       "      <td>2</td>\n",
       "    </tr>\n",
       "    <tr>\n",
       "      <th>XXX3M_flag</th>\n",
       "      <td>2</td>\n",
       "    </tr>\n",
       "    <tr>\n",
       "      <th>XXX6M_flag</th>\n",
       "      <td>2</td>\n",
       "    </tr>\n",
       "    <tr>\n",
       "      <th>XXX1Y_flag</th>\n",
       "      <td>2</td>\n",
       "    </tr>\n",
       "    <tr>\n",
       "      <th>XXX2Y_flag</th>\n",
       "      <td>2</td>\n",
       "    </tr>\n",
       "    <tr>\n",
       "      <th>XXX3Y_flag</th>\n",
       "      <td>2</td>\n",
       "    </tr>\n",
       "    <tr>\n",
       "      <th>Target</th>\n",
       "      <td>2</td>\n",
       "    </tr>\n",
       "  </tbody>\n",
       "</table>\n",
       "</div>"
      ],
      "text/plain": [
       "                               0\n",
       "Unnamed: 0                  4462\n",
       "age                           45\n",
       "gender                         2\n",
       "empType                        7\n",
       "education                      8\n",
       "addrsCategory                  4\n",
       "pinCode                      777\n",
       "addrsStateCode                22\n",
       "phoneType                      4\n",
       "accountType                   33\n",
       "maritalStatus                  2\n",
       "bureauName                     1\n",
       "bureauScore                  183\n",
       "bureauScoreCardName            1\n",
       "bureauScoreName                1\n",
       "writtenOffAndSettledStatus     6\n",
       "writtenOffAmountPrincipal     34\n",
       "netMonthlyIncome              76\n",
       "sanctionAmount              1490\n",
       "currentBalance              1139\n",
       "creditLimit                   42\n",
       "loanAmt                      126\n",
       "overdueAmount                266\n",
       "loanTenure                    19\n",
       "dateReportedAndCertified     337\n",
       "dateOpenedOrDisbursed       1802\n",
       "dateClosed                  1317\n",
       "PHSD                         154\n",
       "PHED                         162\n",
       "suitFiledOrWilfulDefault       1\n",
       "paymentHistComp             1396\n",
       "DBTFound                       2\n",
       "LSSFound                       2\n",
       "cntDBT                        16\n",
       "cntLSS                        16\n",
       "XXX1M_flag                     2\n",
       "XXX3M_flag                     2\n",
       "XXX6M_flag                     2\n",
       "XXX1Y_flag                     2\n",
       "XXX2Y_flag                     2\n",
       "XXX3Y_flag                     2\n",
       "Target                         2"
      ]
     },
     "execution_count": 22,
     "metadata": {},
     "output_type": "execute_result"
    }
   ],
   "source": [
    "nunq_df = df.nunique().to_frame()\n",
    "nunq_df"
   ]
  },
  {
   "cell_type": "code",
   "execution_count": 23,
   "metadata": {},
   "outputs": [
    {
     "data": {
      "text/plain": [
       "(42, 1)"
      ]
     },
     "execution_count": 23,
     "metadata": {},
     "output_type": "execute_result"
    }
   ],
   "source": [
    "nunq_df.shape"
   ]
  },
  {
   "cell_type": "markdown",
   "metadata": {},
   "source": [
    "### Removing columns having only 1 unique value"
   ]
  },
  {
   "cell_type": "code",
   "execution_count": 24,
   "metadata": {},
   "outputs": [
    {
     "data": {
      "text/plain": [
       "Index(['bureauName', 'bureauScoreCardName', 'bureauScoreName',\n",
       "       'suitFiledOrWilfulDefault'],\n",
       "      dtype='object')"
      ]
     },
     "execution_count": 24,
     "metadata": {},
     "output_type": "execute_result"
    }
   ],
   "source": [
    "nunq_df[nunq_df[0] == 1].index"
   ]
  },
  {
   "cell_type": "code",
   "execution_count": 25,
   "metadata": {},
   "outputs": [
    {
     "data": {
      "text/plain": [
       "(4462, 38)"
      ]
     },
     "execution_count": 25,
     "metadata": {},
     "output_type": "execute_result"
    }
   ],
   "source": [
    "to_drop = nunq_df[nunq_df[0] == 1].index\n",
    "\n",
    "df.drop(to_drop, inplace = True, axis = 1)\n",
    "df.shape"
   ]
  },
  {
   "cell_type": "code",
   "execution_count": 26,
   "metadata": {},
   "outputs": [
    {
     "data": {
      "text/plain": [
       "Index(['gender', 'maritalStatus', 'DBTFound', 'LSSFound', 'XXX1M_flag',\n",
       "       'XXX3M_flag', 'XXX6M_flag', 'XXX1Y_flag', 'XXX2Y_flag', 'XXX3Y_flag',\n",
       "       'Target'],\n",
       "      dtype='object')"
      ]
     },
     "execution_count": 26,
     "metadata": {},
     "output_type": "execute_result"
    }
   ],
   "source": [
    "nunq_df[nunq_df[0] == 2].index"
   ]
  },
  {
   "cell_type": "markdown",
   "metadata": {},
   "source": [
    "### Replacing irrelevant column values"
   ]
  },
  {
   "cell_type": "code",
   "execution_count": 27,
   "metadata": {},
   "outputs": [],
   "source": [
    "df['empType'].replace({'SELF-EMPLOYED': 'Self Employed'},inplace=True)\n",
    "df['empType'].replace({'SALARIED': 'Salaried'},inplace=True)\n",
    "df['empType'].replace({'Employment Type *': 'Others'},inplace=True)\n",
    "df['empType'].replace({'Categorised': 'Others'},inplace=True)\n",
    "df['bureauScore'].replace({'000-1': -1},inplace=True)"
   ]
  },
  {
   "cell_type": "markdown",
   "metadata": {},
   "source": [
    "### Value counts for specific columns"
   ]
  },
  {
   "cell_type": "code",
   "execution_count": 28,
   "metadata": {},
   "outputs": [
    {
     "data": {
      "text/plain": [
       "BAD     3418\n",
       "GOOD    1044\n",
       "Name: Target, dtype: int64"
      ]
     },
     "execution_count": 28,
     "metadata": {},
     "output_type": "execute_result"
    }
   ],
   "source": [
    "df['Target'].value_counts()"
   ]
  },
  {
   "cell_type": "raw",
   "metadata": {},
   "source": [
    "df['empType'].value_counts()"
   ]
  },
  {
   "cell_type": "code",
   "execution_count": 29,
   "metadata": {},
   "outputs": [
    {
     "data": {
      "text/plain": [
       "GRADUATE          578\n",
       "12TH              481\n",
       "UNDER GRADUATE    367\n",
       "SSC               321\n",
       "OTHERS            284\n",
       "POST-GRADUATE      86\n",
       "PROFESSIONAL       21\n",
       "DOCTORATE           1\n",
       "Name: education, dtype: int64"
      ]
     },
     "execution_count": 29,
     "metadata": {},
     "output_type": "execute_result"
    }
   ],
   "source": [
    "df['education'].value_counts()"
   ]
  },
  {
   "cell_type": "code",
   "execution_count": 30,
   "metadata": {},
   "outputs": [
    {
     "data": {
      "text/plain": [
       "Male      3951\n",
       "Female     511\n",
       "Name: gender, dtype: int64"
      ]
     },
     "execution_count": 30,
     "metadata": {},
     "output_type": "execute_result"
    }
   ],
   "source": [
    "df['gender'].value_counts()"
   ]
  },
  {
   "cell_type": "code",
   "execution_count": 31,
   "metadata": {},
   "outputs": [
    {
     "data": {
      "text/plain": [
       "Married    1702\n",
       "Single     1306\n",
       "Name: maritalStatus, dtype: int64"
      ]
     },
     "execution_count": 31,
     "metadata": {},
     "output_type": "execute_result"
    }
   ],
   "source": [
    "df['maritalStatus'].value_counts()"
   ]
  },
  {
   "cell_type": "raw",
   "metadata": {},
   "source": [
    "df['loanType'].value_counts()"
   ]
  },
  {
   "cell_type": "code",
   "execution_count": 32,
   "metadata": {},
   "outputs": [
    {
     "data": {
      "text/plain": [
       "2.0    1807\n",
       "4.0    1112\n",
       "1.0     924\n",
       "3.0     617\n",
       "Name: addrsCategory, dtype: int64"
      ]
     },
     "execution_count": 32,
     "metadata": {},
     "output_type": "execute_result"
    }
   ],
   "source": [
    "df['addrsCategory'].value_counts()"
   ]
  },
  {
   "cell_type": "code",
   "execution_count": 33,
   "metadata": {},
   "outputs": [
    {
     "data": {
      "text/plain": [
       "33.0    2242\n",
       "29.0     714\n",
       "27.0     358\n",
       "32.0     314\n",
       "19.0     259\n",
       "28.0     193\n",
       "6.0       70\n",
       "9.0       53\n",
       "36.0      52\n",
       "3.0       36\n",
       "23.0      30\n",
       "24.0      22\n",
       "4.0       22\n",
       "7.0       19\n",
       "8.0       19\n",
       "21.0      14\n",
       "20.0      13\n",
       "5.0       10\n",
       "18.0       7\n",
       "34.0       7\n",
       "10.0       4\n",
       "2.0        2\n",
       "Name: addrsStateCode, dtype: int64"
      ]
     },
     "execution_count": 33,
     "metadata": {},
     "output_type": "execute_result"
    }
   ],
   "source": [
    "df['addrsStateCode'].value_counts()"
   ]
  },
  {
   "cell_type": "code",
   "execution_count": 34,
   "metadata": {},
   "outputs": [
    {
     "data": {
      "text/plain": [
       "1.0    2462\n",
       "3.0     888\n",
       "0.0     838\n",
       "2.0     261\n",
       "Name: phoneType, dtype: int64"
      ]
     },
     "execution_count": 34,
     "metadata": {},
     "output_type": "execute_result"
    }
   ],
   "source": [
    "df['phoneType'].value_counts()"
   ]
  },
  {
   "cell_type": "raw",
   "metadata": {},
   "source": [
    "df['idType'].value_counts()"
   ]
  },
  {
   "cell_type": "markdown",
   "metadata": {},
   "source": [
    "### Dropping duplicate rows"
   ]
  },
  {
   "cell_type": "code",
   "execution_count": 35,
   "metadata": {},
   "outputs": [
    {
     "data": {
      "text/plain": [
       "Unnamed: 0                    4462\n",
       "age                           4462\n",
       "gender                        4462\n",
       "empType                       2141\n",
       "education                     2139\n",
       "addrsCategory                 4460\n",
       "pinCode                       4460\n",
       "addrsStateCode                4460\n",
       "phoneType                     4449\n",
       "accountType                   4133\n",
       "maritalStatus                 3008\n",
       "bureauScore                   4460\n",
       "writtenOffAndSettledStatus      76\n",
       "writtenOffAmountPrincipal       36\n",
       "netMonthlyIncome              2592\n",
       "sanctionAmount                4112\n",
       "currentBalance                4133\n",
       "creditLimit                     70\n",
       "loanAmt                       4462\n",
       "overdueAmount                  272\n",
       "loanTenure                    4462\n",
       "dateReportedAndCertified      4133\n",
       "dateOpenedOrDisbursed         4125\n",
       "dateClosed                    2726\n",
       "PHSD                          4133\n",
       "PHED                          4133\n",
       "paymentHistComp               4462\n",
       "DBTFound                      4462\n",
       "LSSFound                      4462\n",
       "cntDBT                        4462\n",
       "cntLSS                        4462\n",
       "XXX1M_flag                    4462\n",
       "XXX3M_flag                    4462\n",
       "XXX6M_flag                    4462\n",
       "XXX1Y_flag                    4462\n",
       "XXX2Y_flag                    4462\n",
       "XXX3Y_flag                    4462\n",
       "Target                        4462\n",
       "dtype: int64"
      ]
     },
     "execution_count": 35,
     "metadata": {},
     "output_type": "execute_result"
    }
   ],
   "source": [
    "df.count()     # Used to count the number of rows"
   ]
  },
  {
   "cell_type": "code",
   "execution_count": 36,
   "metadata": {},
   "outputs": [
    {
     "name": "stdout",
     "output_type": "stream",
     "text": [
      "number of duplicate rows:  (0, 38)\n"
     ]
    }
   ],
   "source": [
    "duplicate_rows_df = df[df.duplicated()]\n",
    "print(\"number of duplicate rows: \", duplicate_rows_df.shape)"
   ]
  },
  {
   "cell_type": "code",
   "execution_count": 37,
   "metadata": {},
   "outputs": [],
   "source": [
    "df = df.drop_duplicates()"
   ]
  },
  {
   "cell_type": "code",
   "execution_count": 38,
   "metadata": {},
   "outputs": [
    {
     "data": {
      "text/plain": [
       "Unnamed: 0                    4462\n",
       "age                           4462\n",
       "gender                        4462\n",
       "empType                       2141\n",
       "education                     2139\n",
       "addrsCategory                 4460\n",
       "pinCode                       4460\n",
       "addrsStateCode                4460\n",
       "phoneType                     4449\n",
       "accountType                   4133\n",
       "maritalStatus                 3008\n",
       "bureauScore                   4460\n",
       "writtenOffAndSettledStatus      76\n",
       "writtenOffAmountPrincipal       36\n",
       "netMonthlyIncome              2592\n",
       "sanctionAmount                4112\n",
       "currentBalance                4133\n",
       "creditLimit                     70\n",
       "loanAmt                       4462\n",
       "overdueAmount                  272\n",
       "loanTenure                    4462\n",
       "dateReportedAndCertified      4133\n",
       "dateOpenedOrDisbursed         4125\n",
       "dateClosed                    2726\n",
       "PHSD                          4133\n",
       "PHED                          4133\n",
       "paymentHistComp               4462\n",
       "DBTFound                      4462\n",
       "LSSFound                      4462\n",
       "cntDBT                        4462\n",
       "cntLSS                        4462\n",
       "XXX1M_flag                    4462\n",
       "XXX3M_flag                    4462\n",
       "XXX6M_flag                    4462\n",
       "XXX1Y_flag                    4462\n",
       "XXX2Y_flag                    4462\n",
       "XXX3Y_flag                    4462\n",
       "Target                        4462\n",
       "dtype: int64"
      ]
     },
     "execution_count": 38,
     "metadata": {},
     "output_type": "execute_result"
    }
   ],
   "source": [
    "df.count()     # Used to count the number of rows"
   ]
  },
  {
   "cell_type": "markdown",
   "metadata": {},
   "source": [
    "### Checking for any null values"
   ]
  },
  {
   "cell_type": "code",
   "execution_count": 39,
   "metadata": {},
   "outputs": [
    {
     "data": {
      "text/plain": [
       "Unnamed: 0                       0\n",
       "age                              0\n",
       "gender                           0\n",
       "empType                       2321\n",
       "education                     2323\n",
       "addrsCategory                    2\n",
       "pinCode                          2\n",
       "addrsStateCode                   2\n",
       "phoneType                       13\n",
       "accountType                    329\n",
       "maritalStatus                 1454\n",
       "bureauScore                      2\n",
       "writtenOffAndSettledStatus    4386\n",
       "writtenOffAmountPrincipal     4426\n",
       "netMonthlyIncome              1870\n",
       "sanctionAmount                 350\n",
       "currentBalance                 329\n",
       "creditLimit                   4392\n",
       "loanAmt                          0\n",
       "overdueAmount                 4190\n",
       "loanTenure                       0\n",
       "dateReportedAndCertified       329\n",
       "dateOpenedOrDisbursed          337\n",
       "dateClosed                    1736\n",
       "PHSD                           329\n",
       "PHED                           329\n",
       "paymentHistComp                  0\n",
       "DBTFound                         0\n",
       "LSSFound                         0\n",
       "cntDBT                           0\n",
       "cntLSS                           0\n",
       "XXX1M_flag                       0\n",
       "XXX3M_flag                       0\n",
       "XXX6M_flag                       0\n",
       "XXX1Y_flag                       0\n",
       "XXX2Y_flag                       0\n",
       "XXX3Y_flag                       0\n",
       "Target                           0\n",
       "dtype: int64"
      ]
     },
     "execution_count": 39,
     "metadata": {},
     "output_type": "execute_result"
    }
   ],
   "source": [
    "df.isnull().sum()"
   ]
  },
  {
   "cell_type": "markdown",
   "metadata": {},
   "source": [
    "### Handling Missing or Null values"
   ]
  },
  {
   "cell_type": "code",
   "execution_count": 40,
   "metadata": {},
   "outputs": [
    {
     "data": {
      "text/html": [
       "<div>\n",
       "<style scoped>\n",
       "    .dataframe tbody tr th:only-of-type {\n",
       "        vertical-align: middle;\n",
       "    }\n",
       "\n",
       "    .dataframe tbody tr th {\n",
       "        vertical-align: top;\n",
       "    }\n",
       "\n",
       "    .dataframe thead th {\n",
       "        text-align: right;\n",
       "    }\n",
       "</style>\n",
       "<table border=\"1\" class=\"dataframe\">\n",
       "  <thead>\n",
       "    <tr style=\"text-align: right;\">\n",
       "      <th></th>\n",
       "      <th>Unnamed: 0</th>\n",
       "      <th>age</th>\n",
       "      <th>gender</th>\n",
       "      <th>empType</th>\n",
       "      <th>education</th>\n",
       "      <th>addrsCategory</th>\n",
       "      <th>pinCode</th>\n",
       "      <th>addrsStateCode</th>\n",
       "      <th>phoneType</th>\n",
       "      <th>accountType</th>\n",
       "      <th>...</th>\n",
       "      <th>LSSFound</th>\n",
       "      <th>cntDBT</th>\n",
       "      <th>cntLSS</th>\n",
       "      <th>XXX1M_flag</th>\n",
       "      <th>XXX3M_flag</th>\n",
       "      <th>XXX6M_flag</th>\n",
       "      <th>XXX1Y_flag</th>\n",
       "      <th>XXX2Y_flag</th>\n",
       "      <th>XXX3Y_flag</th>\n",
       "      <th>Target</th>\n",
       "    </tr>\n",
       "  </thead>\n",
       "  <tbody>\n",
       "    <tr>\n",
       "      <th>4457</th>\n",
       "      <td>4457</td>\n",
       "      <td>33</td>\n",
       "      <td>Male</td>\n",
       "      <td>OTHERS</td>\n",
       "      <td>OTHERS</td>\n",
       "      <td>3.0</td>\n",
       "      <td>695603.0</td>\n",
       "      <td>32.0</td>\n",
       "      <td>1.0</td>\n",
       "      <td>7.0</td>\n",
       "      <td>...</td>\n",
       "      <td>0</td>\n",
       "      <td>0</td>\n",
       "      <td>0</td>\n",
       "      <td>0</td>\n",
       "      <td>0</td>\n",
       "      <td>0</td>\n",
       "      <td>0</td>\n",
       "      <td>0</td>\n",
       "      <td>0</td>\n",
       "      <td>BAD</td>\n",
       "    </tr>\n",
       "    <tr>\n",
       "      <th>4458</th>\n",
       "      <td>4458</td>\n",
       "      <td>33</td>\n",
       "      <td>Male</td>\n",
       "      <td>OTHERS</td>\n",
       "      <td>OTHERS</td>\n",
       "      <td>3.0</td>\n",
       "      <td>695603.0</td>\n",
       "      <td>32.0</td>\n",
       "      <td>1.0</td>\n",
       "      <td>7.0</td>\n",
       "      <td>...</td>\n",
       "      <td>0</td>\n",
       "      <td>0</td>\n",
       "      <td>0</td>\n",
       "      <td>0</td>\n",
       "      <td>0</td>\n",
       "      <td>0</td>\n",
       "      <td>0</td>\n",
       "      <td>0</td>\n",
       "      <td>0</td>\n",
       "      <td>BAD</td>\n",
       "    </tr>\n",
       "    <tr>\n",
       "      <th>4459</th>\n",
       "      <td>4459</td>\n",
       "      <td>33</td>\n",
       "      <td>Male</td>\n",
       "      <td>OTHERS</td>\n",
       "      <td>OTHERS</td>\n",
       "      <td>3.0</td>\n",
       "      <td>695603.0</td>\n",
       "      <td>32.0</td>\n",
       "      <td>1.0</td>\n",
       "      <td>7.0</td>\n",
       "      <td>...</td>\n",
       "      <td>0</td>\n",
       "      <td>0</td>\n",
       "      <td>0</td>\n",
       "      <td>0</td>\n",
       "      <td>0</td>\n",
       "      <td>0</td>\n",
       "      <td>0</td>\n",
       "      <td>0</td>\n",
       "      <td>0</td>\n",
       "      <td>BAD</td>\n",
       "    </tr>\n",
       "    <tr>\n",
       "      <th>4460</th>\n",
       "      <td>4460</td>\n",
       "      <td>33</td>\n",
       "      <td>Male</td>\n",
       "      <td>OTHERS</td>\n",
       "      <td>OTHERS</td>\n",
       "      <td>3.0</td>\n",
       "      <td>695603.0</td>\n",
       "      <td>32.0</td>\n",
       "      <td>1.0</td>\n",
       "      <td>13.0</td>\n",
       "      <td>...</td>\n",
       "      <td>0</td>\n",
       "      <td>0</td>\n",
       "      <td>0</td>\n",
       "      <td>0</td>\n",
       "      <td>0</td>\n",
       "      <td>0</td>\n",
       "      <td>0</td>\n",
       "      <td>0</td>\n",
       "      <td>0</td>\n",
       "      <td>GOOD</td>\n",
       "    </tr>\n",
       "    <tr>\n",
       "      <th>4461</th>\n",
       "      <td>4461</td>\n",
       "      <td>44</td>\n",
       "      <td>Male</td>\n",
       "      <td>OTHERS</td>\n",
       "      <td>OTHERS</td>\n",
       "      <td>2.0</td>\n",
       "      <td>573128.0</td>\n",
       "      <td>29.0</td>\n",
       "      <td>1.0</td>\n",
       "      <td>NaN</td>\n",
       "      <td>...</td>\n",
       "      <td>0</td>\n",
       "      <td>0</td>\n",
       "      <td>0</td>\n",
       "      <td>0</td>\n",
       "      <td>0</td>\n",
       "      <td>0</td>\n",
       "      <td>0</td>\n",
       "      <td>0</td>\n",
       "      <td>0</td>\n",
       "      <td>BAD</td>\n",
       "    </tr>\n",
       "  </tbody>\n",
       "</table>\n",
       "<p>5 rows × 38 columns</p>\n",
       "</div>"
      ],
      "text/plain": [
       "      Unnamed: 0  age gender empType education  addrsCategory   pinCode  \\\n",
       "4457        4457   33   Male  OTHERS    OTHERS            3.0  695603.0   \n",
       "4458        4458   33   Male  OTHERS    OTHERS            3.0  695603.0   \n",
       "4459        4459   33   Male  OTHERS    OTHERS            3.0  695603.0   \n",
       "4460        4460   33   Male  OTHERS    OTHERS            3.0  695603.0   \n",
       "4461        4461   44   Male  OTHERS    OTHERS            2.0  573128.0   \n",
       "\n",
       "      addrsStateCode  phoneType  accountType  ... LSSFound cntDBT  cntLSS  \\\n",
       "4457            32.0        1.0          7.0  ...        0      0       0   \n",
       "4458            32.0        1.0          7.0  ...        0      0       0   \n",
       "4459            32.0        1.0          7.0  ...        0      0       0   \n",
       "4460            32.0        1.0         13.0  ...        0      0       0   \n",
       "4461            29.0        1.0          NaN  ...        0      0       0   \n",
       "\n",
       "      XXX1M_flag  XXX3M_flag  XXX6M_flag  XXX1Y_flag  XXX2Y_flag  XXX3Y_flag  \\\n",
       "4457           0           0           0           0           0           0   \n",
       "4458           0           0           0           0           0           0   \n",
       "4459           0           0           0           0           0           0   \n",
       "4460           0           0           0           0           0           0   \n",
       "4461           0           0           0           0           0           0   \n",
       "\n",
       "      Target  \n",
       "4457     BAD  \n",
       "4458     BAD  \n",
       "4459     BAD  \n",
       "4460    GOOD  \n",
       "4461     BAD  \n",
       "\n",
       "[5 rows x 38 columns]"
      ]
     },
     "execution_count": 40,
     "metadata": {},
     "output_type": "execute_result"
    }
   ],
   "source": [
    "df['empType'].fillna('OTHERS', inplace=True)\n",
    "df['education'].fillna('OTHERS', inplace=True)\n",
    "df['maritalStatus'].fillna('missing', inplace=True)\n",
    "#df['idType'].fillna('missing', inplace=True)\n",
    "\n",
    "df['addrsCategory'].fillna(value=2.0, inplace=True)\n",
    "df['phoneType'].fillna(value=0.0, inplace=True)\n",
    "\n",
    "# Because their state and pincode should match\n",
    "df['pinCode'].fillna(value=600041.0, inplace=True)\n",
    "df['addrsStateCode'].fillna(value=33.0, inplace=True)\n",
    "\n",
    "df['bureauScore'].fillna(value=-1, inplace=True)\n",
    "df['netMonthlyIncome'].fillna(df['netMonthlyIncome'].median(), inplace=True) # use imputer in future\n",
    "\n",
    "df.tail()"
   ]
  },
  {
   "cell_type": "code",
   "execution_count": 41,
   "metadata": {},
   "outputs": [
    {
     "data": {
      "text/plain": [
       "Unnamed: 0                       0\n",
       "age                              0\n",
       "gender                           0\n",
       "empType                          0\n",
       "education                        0\n",
       "addrsCategory                    0\n",
       "pinCode                          0\n",
       "addrsStateCode                   0\n",
       "phoneType                        0\n",
       "accountType                    329\n",
       "maritalStatus                    0\n",
       "bureauScore                      0\n",
       "writtenOffAndSettledStatus    4386\n",
       "writtenOffAmountPrincipal     4426\n",
       "netMonthlyIncome                 0\n",
       "sanctionAmount                 350\n",
       "currentBalance                 329\n",
       "creditLimit                   4392\n",
       "loanAmt                          0\n",
       "overdueAmount                 4190\n",
       "loanTenure                       0\n",
       "dateReportedAndCertified       329\n",
       "dateOpenedOrDisbursed          337\n",
       "dateClosed                    1736\n",
       "PHSD                           329\n",
       "PHED                           329\n",
       "paymentHistComp                  0\n",
       "DBTFound                         0\n",
       "LSSFound                         0\n",
       "cntDBT                           0\n",
       "cntLSS                           0\n",
       "XXX1M_flag                       0\n",
       "XXX3M_flag                       0\n",
       "XXX6M_flag                       0\n",
       "XXX1Y_flag                       0\n",
       "XXX2Y_flag                       0\n",
       "XXX3Y_flag                       0\n",
       "Target                           0\n",
       "dtype: int64"
      ]
     },
     "execution_count": 41,
     "metadata": {},
     "output_type": "execute_result"
    }
   ],
   "source": [
    "df.isnull().sum()"
   ]
  },
  {
   "cell_type": "markdown",
   "metadata": {},
   "source": [
    "### Detecting and handling outliers"
   ]
  },
  {
   "cell_type": "code",
   "execution_count": 42,
   "metadata": {},
   "outputs": [
    {
     "data": {
      "text/plain": [
       "<AxesSubplot:xlabel='netMonthlyIncome'>"
      ]
     },
     "execution_count": 42,
     "metadata": {},
     "output_type": "execute_result"
    },
    {
     "data": {
      "image/png": "[encoded data removed]",
      "text/plain": [
       "<Figure size 432x288 with 1 Axes>"
      ]
     },
     "metadata": {
      "needs_background": "light"
     },
     "output_type": "display_data"
    }
   ],
   "source": [
    "sns.boxplot(x=df['netMonthlyIncome'])"
   ]
  },
  {
   "cell_type": "code",
   "execution_count": 43,
   "metadata": {},
   "outputs": [
    {
     "data": {
      "text/plain": [
       "<AxesSubplot:xlabel='loanAmt'>"
      ]
     },
     "execution_count": 43,
     "metadata": {},
     "output_type": "execute_result"
    },
    {
     "data": {
      "image/png": "[encoded data removed]",
      "text/plain": [
       "<Figure size 432x288 with 1 Axes>"
      ]
     },
     "metadata": {
      "needs_background": "light"
     },
     "output_type": "display_data"
    }
   ],
   "source": [
    "sns.boxplot(x=df['loanAmt'])"
   ]
  },
  {
   "cell_type": "code",
   "execution_count": 44,
   "metadata": {},
   "outputs": [
    {
     "data": {
      "text/plain": [
       "<AxesSubplot:xlabel='loanTenure'>"
      ]
     },
     "execution_count": 44,
     "metadata": {},
     "output_type": "execute_result"
    },
    {
     "data": {
      "image/png": "[encoded data removed]",
      "text/plain": [
       "<Figure size 432x288 with 1 Axes>"
      ]
     },
     "metadata": {
      "needs_background": "light"
     },
     "output_type": "display_data"
    }
   ],
   "source": [
    "sns.boxplot(x=df['loanTenure'])"
   ]
  },
  {
   "cell_type": "code",
   "execution_count": 45,
   "metadata": {},
   "outputs": [
    {
     "data": {
      "text/plain": [
       "(4462, 38)"
      ]
     },
     "execution_count": 45,
     "metadata": {},
     "output_type": "execute_result"
    }
   ],
   "source": [
    "df.shape"
   ]
  },
  {
   "cell_type": "code",
   "execution_count": 46,
   "metadata": {},
   "outputs": [
    {
     "data": {
      "text/html": [
       "<div>\n",
       "<style scoped>\n",
       "    .dataframe tbody tr th:only-of-type {\n",
       "        vertical-align: middle;\n",
       "    }\n",
       "\n",
       "    .dataframe tbody tr th {\n",
       "        vertical-align: top;\n",
       "    }\n",
       "\n",
       "    .dataframe thead th {\n",
       "        text-align: right;\n",
       "    }\n",
       "</style>\n",
       "<table border=\"1\" class=\"dataframe\">\n",
       "  <thead>\n",
       "    <tr style=\"text-align: right;\">\n",
       "      <th></th>\n",
       "      <th>netMonthlyIncome</th>\n",
       "      <th>loanAmt</th>\n",
       "    </tr>\n",
       "  </thead>\n",
       "  <tbody>\n",
       "    <tr>\n",
       "      <th>0</th>\n",
       "      <td>16500.0</td>\n",
       "      <td>30000</td>\n",
       "    </tr>\n",
       "    <tr>\n",
       "      <th>1</th>\n",
       "      <td>16500.0</td>\n",
       "      <td>30000</td>\n",
       "    </tr>\n",
       "    <tr>\n",
       "      <th>2</th>\n",
       "      <td>16500.0</td>\n",
       "      <td>30000</td>\n",
       "    </tr>\n",
       "    <tr>\n",
       "      <th>3</th>\n",
       "      <td>16500.0</td>\n",
       "      <td>30000</td>\n",
       "    </tr>\n",
       "    <tr>\n",
       "      <th>4</th>\n",
       "      <td>16500.0</td>\n",
       "      <td>50000</td>\n",
       "    </tr>\n",
       "  </tbody>\n",
       "</table>\n",
       "</div>"
      ],
      "text/plain": [
       "   netMonthlyIncome  loanAmt\n",
       "0           16500.0    30000\n",
       "1           16500.0    30000\n",
       "2           16500.0    30000\n",
       "3           16500.0    30000\n",
       "4           16500.0    50000"
      ]
     },
     "execution_count": 46,
     "metadata": {},
     "output_type": "execute_result"
    }
   ],
   "source": [
    "out_df = df[['netMonthlyIncome', 'loanAmt']]\n",
    "out_df.head()"
   ]
  },
  {
   "cell_type": "raw",
   "metadata": {},
   "source": [
    "Q1 = out_df.quantile(0.25)\n",
    "Q3 = out_df.quantile(0.75)\n",
    "IQR = Q3 - Q1\n",
    "print(IQR)"
   ]
  },
  {
   "cell_type": "raw",
   "metadata": {},
   "source": [
    "out_df = out_df[~((out_df < (Q1 - 1.5 * IQR)) |(out_df > (Q3 + 1.5 * IQR))).any(axis=1)]\n",
    "out_df.shape"
   ]
  },
  {
   "cell_type": "markdown",
   "metadata": {},
   "source": [
    "<a id=\"feat_engg_cibil\"></a> <br>\n",
    "## 3.) Feature Engineering"
   ]
  },
  {
   "cell_type": "markdown",
   "metadata": {},
   "source": [
    "### Separating variables"
   ]
  },
  {
   "cell_type": "code",
   "execution_count": 47,
   "metadata": {},
   "outputs": [
    {
     "data": {
      "text/plain": [
       "(4462, 38)"
      ]
     },
     "execution_count": 47,
     "metadata": {},
     "output_type": "execute_result"
    }
   ],
   "source": [
    "df.shape"
   ]
  },
  {
   "cell_type": "code",
   "execution_count": 48,
   "metadata": {},
   "outputs": [
    {
     "name": "stdout",
     "output_type": "stream",
     "text": [
      "NOMINAL COLUMNS: ['empType', 'maritalStatus', 'gender']\n"
     ]
    }
   ],
   "source": [
    "nominal_cols = ['empType', 'maritalStatus','gender']\n",
    "print('NOMINAL COLUMNS:', nominal_cols)\n",
    "\n",
    "#num_cols = ['age', 'netMonthlyIncome', 'loanAmt', 'loanTenure', 'bureauScore']\n",
    "#print('NUMERICAL COLUMNS:', num_cols)\n",
    "\n",
    "# one-hot encoding > gender, maritalStatus, idType, loanType, empType\n",
    "# ordinal > education"
   ]
  },
  {
   "cell_type": "markdown",
   "metadata": {},
   "source": [
    "### Label encoding target variable"
   ]
  },
  {
   "cell_type": "code",
   "execution_count": 49,
   "metadata": {},
   "outputs": [],
   "source": [
    "replace_map = {'Target': {'GOOD': 1, 'BAD': 0}}\n",
    "df.replace(replace_map, inplace=True)"
   ]
  },
  {
   "cell_type": "markdown",
   "metadata": {},
   "source": [
    "### Label encoding ordinal variable"
   ]
  },
  {
   "cell_type": "code",
   "execution_count": 50,
   "metadata": {},
   "outputs": [],
   "source": [
    "replace_map = {'education': {'OTHERS':1, 'SSC':2, '12TH':3, 'UNDER GRADUATE':4, 'GRADUATE':5, 'POST-GRADUATE':6, 'DOCTORATE':7, 'PROFESSIONAL':8}}\n",
    "df.replace(replace_map, inplace=True)"
   ]
  },
  {
   "cell_type": "markdown",
   "metadata": {},
   "source": [
    "### One-hot encoding nominal variables"
   ]
  },
  {
   "cell_type": "code",
   "execution_count": 51,
   "metadata": {},
   "outputs": [],
   "source": [
    "final_df = pd.get_dummies(df, columns=nominal_cols, drop_first=False)"
   ]
  },
  {
   "cell_type": "code",
   "execution_count": 52,
   "metadata": {},
   "outputs": [
    {
     "data": {
      "text/html": [
       "<div>\n",
       "<style scoped>\n",
       "    .dataframe tbody tr th:only-of-type {\n",
       "        vertical-align: middle;\n",
       "    }\n",
       "\n",
       "    .dataframe tbody tr th {\n",
       "        vertical-align: top;\n",
       "    }\n",
       "\n",
       "    .dataframe thead th {\n",
       "        text-align: right;\n",
       "    }\n",
       "</style>\n",
       "<table border=\"1\" class=\"dataframe\">\n",
       "  <thead>\n",
       "    <tr style=\"text-align: right;\">\n",
       "      <th></th>\n",
       "      <th>Unnamed: 0</th>\n",
       "      <th>age</th>\n",
       "      <th>education</th>\n",
       "      <th>addrsCategory</th>\n",
       "      <th>pinCode</th>\n",
       "      <th>addrsStateCode</th>\n",
       "      <th>phoneType</th>\n",
       "      <th>accountType</th>\n",
       "      <th>bureauScore</th>\n",
       "      <th>writtenOffAndSettledStatus</th>\n",
       "      <th>...</th>\n",
       "      <th>empType_Non-Government</th>\n",
       "      <th>empType_OTHERS</th>\n",
       "      <th>empType_Others</th>\n",
       "      <th>empType_Salaried</th>\n",
       "      <th>empType_Self Employed</th>\n",
       "      <th>maritalStatus_Married</th>\n",
       "      <th>maritalStatus_Single</th>\n",
       "      <th>maritalStatus_missing</th>\n",
       "      <th>gender_Female</th>\n",
       "      <th>gender_Male</th>\n",
       "    </tr>\n",
       "  </thead>\n",
       "  <tbody>\n",
       "    <tr>\n",
       "      <th>0</th>\n",
       "      <td>0</td>\n",
       "      <td>23</td>\n",
       "      <td>1</td>\n",
       "      <td>2.0</td>\n",
       "      <td>686004.0</td>\n",
       "      <td>32.0</td>\n",
       "      <td>1.0</td>\n",
       "      <td>13.0</td>\n",
       "      <td>00752</td>\n",
       "      <td>NaN</td>\n",
       "      <td>...</td>\n",
       "      <td>0</td>\n",
       "      <td>1</td>\n",
       "      <td>0</td>\n",
       "      <td>0</td>\n",
       "      <td>0</td>\n",
       "      <td>0</td>\n",
       "      <td>0</td>\n",
       "      <td>1</td>\n",
       "      <td>0</td>\n",
       "      <td>1</td>\n",
       "    </tr>\n",
       "    <tr>\n",
       "      <th>1</th>\n",
       "      <td>1</td>\n",
       "      <td>44</td>\n",
       "      <td>1</td>\n",
       "      <td>1.0</td>\n",
       "      <td>686561.0</td>\n",
       "      <td>32.0</td>\n",
       "      <td>1.0</td>\n",
       "      <td>7.0</td>\n",
       "      <td>00687</td>\n",
       "      <td>NaN</td>\n",
       "      <td>...</td>\n",
       "      <td>0</td>\n",
       "      <td>1</td>\n",
       "      <td>0</td>\n",
       "      <td>0</td>\n",
       "      <td>0</td>\n",
       "      <td>0</td>\n",
       "      <td>0</td>\n",
       "      <td>1</td>\n",
       "      <td>1</td>\n",
       "      <td>0</td>\n",
       "    </tr>\n",
       "    <tr>\n",
       "      <th>2</th>\n",
       "      <td>2</td>\n",
       "      <td>44</td>\n",
       "      <td>1</td>\n",
       "      <td>1.0</td>\n",
       "      <td>686561.0</td>\n",
       "      <td>32.0</td>\n",
       "      <td>1.0</td>\n",
       "      <td>7.0</td>\n",
       "      <td>00687</td>\n",
       "      <td>NaN</td>\n",
       "      <td>...</td>\n",
       "      <td>0</td>\n",
       "      <td>1</td>\n",
       "      <td>0</td>\n",
       "      <td>0</td>\n",
       "      <td>0</td>\n",
       "      <td>0</td>\n",
       "      <td>0</td>\n",
       "      <td>1</td>\n",
       "      <td>1</td>\n",
       "      <td>0</td>\n",
       "    </tr>\n",
       "    <tr>\n",
       "      <th>3</th>\n",
       "      <td>3</td>\n",
       "      <td>44</td>\n",
       "      <td>1</td>\n",
       "      <td>1.0</td>\n",
       "      <td>686561.0</td>\n",
       "      <td>32.0</td>\n",
       "      <td>1.0</td>\n",
       "      <td>7.0</td>\n",
       "      <td>00687</td>\n",
       "      <td>NaN</td>\n",
       "      <td>...</td>\n",
       "      <td>0</td>\n",
       "      <td>1</td>\n",
       "      <td>0</td>\n",
       "      <td>0</td>\n",
       "      <td>0</td>\n",
       "      <td>0</td>\n",
       "      <td>0</td>\n",
       "      <td>1</td>\n",
       "      <td>1</td>\n",
       "      <td>0</td>\n",
       "    </tr>\n",
       "    <tr>\n",
       "      <th>4</th>\n",
       "      <td>4</td>\n",
       "      <td>50</td>\n",
       "      <td>1</td>\n",
       "      <td>3.0</td>\n",
       "      <td>641026.0</td>\n",
       "      <td>33.0</td>\n",
       "      <td>0.0</td>\n",
       "      <td>NaN</td>\n",
       "      <td>-1</td>\n",
       "      <td>NaN</td>\n",
       "      <td>...</td>\n",
       "      <td>0</td>\n",
       "      <td>1</td>\n",
       "      <td>0</td>\n",
       "      <td>0</td>\n",
       "      <td>0</td>\n",
       "      <td>0</td>\n",
       "      <td>0</td>\n",
       "      <td>1</td>\n",
       "      <td>0</td>\n",
       "      <td>1</td>\n",
       "    </tr>\n",
       "  </tbody>\n",
       "</table>\n",
       "<p>5 rows × 45 columns</p>\n",
       "</div>"
      ],
      "text/plain": [
       "   Unnamed: 0  age  education  addrsCategory   pinCode  addrsStateCode  \\\n",
       "0           0   23          1            2.0  686004.0            32.0   \n",
       "1           1   44          1            1.0  686561.0            32.0   \n",
       "2           2   44          1            1.0  686561.0            32.0   \n",
       "3           3   44          1            1.0  686561.0            32.0   \n",
       "4           4   50          1            3.0  641026.0            33.0   \n",
       "\n",
       "   phoneType  accountType bureauScore  writtenOffAndSettledStatus  ...  \\\n",
       "0        1.0         13.0       00752                         NaN  ...   \n",
       "1        1.0          7.0       00687                         NaN  ...   \n",
       "2        1.0          7.0       00687                         NaN  ...   \n",
       "3        1.0          7.0       00687                         NaN  ...   \n",
       "4        0.0          NaN          -1                         NaN  ...   \n",
       "\n",
       "   empType_Non-Government  empType_OTHERS  empType_Others  empType_Salaried  \\\n",
       "0                       0               1               0                 0   \n",
       "1                       0               1               0                 0   \n",
       "2                       0               1               0                 0   \n",
       "3                       0               1               0                 0   \n",
       "4                       0               1               0                 0   \n",
       "\n",
       "   empType_Self Employed  maritalStatus_Married  maritalStatus_Single  \\\n",
       "0                      0                      0                     0   \n",
       "1                      0                      0                     0   \n",
       "2                      0                      0                     0   \n",
       "3                      0                      0                     0   \n",
       "4                      0                      0                     0   \n",
       "\n",
       "   maritalStatus_missing  gender_Female  gender_Male  \n",
       "0                      1              0            1  \n",
       "1                      1              1            0  \n",
       "2                      1              1            0  \n",
       "3                      1              1            0  \n",
       "4                      1              0            1  \n",
       "\n",
       "[5 rows x 45 columns]"
      ]
     },
     "execution_count": 52,
     "metadata": {},
     "output_type": "execute_result"
    }
   ],
   "source": [
    "final_df.head()"
   ]
  },
  {
   "cell_type": "code",
   "execution_count": 53,
   "metadata": {},
   "outputs": [
    {
     "data": {
      "text/plain": [
       "(4462, 45)"
      ]
     },
     "execution_count": 53,
     "metadata": {},
     "output_type": "execute_result"
    }
   ],
   "source": [
    "final_df.shape"
   ]
  },
  {
   "cell_type": "markdown",
   "metadata": {},
   "source": [
    "### Log transforming skew variables"
   ]
  },
  {
   "cell_type": "code",
   "execution_count": 54,
   "metadata": {},
   "outputs": [
    {
     "name": "stdout",
     "output_type": "stream",
     "text": [
      "['Unnamed: 0' 'age' 'education' 'addrsCategory' 'pinCode' 'addrsStateCode'\n",
      " 'phoneType' 'accountType' 'writtenOffAndSettledStatus'\n",
      " 'writtenOffAmountPrincipal' 'netMonthlyIncome' 'sanctionAmount'\n",
      " 'currentBalance' 'creditLimit' 'loanAmt' 'overdueAmount' 'loanTenure'\n",
      " 'dateReportedAndCertified' 'dateOpenedOrDisbursed' 'dateClosed' 'PHSD'\n",
      " 'PHED' 'DBTFound' 'LSSFound' 'cntDBT' 'cntLSS' 'XXX1M_flag' 'XXX3M_flag'\n",
      " 'XXX6M_flag' 'XXX1Y_flag' 'XXX2Y_flag' 'XXX3Y_flag' 'Target'\n",
      " 'empType_Non-Government' 'empType_OTHERS' 'empType_Others'\n",
      " 'empType_Salaried' 'empType_Self Employed' 'maritalStatus_Married'\n",
      " 'maritalStatus_Single' 'maritalStatus_missing' 'gender_Female'\n",
      " 'gender_Male']\n"
     ]
    }
   ],
   "source": [
    "num_cols = final_df.select_dtypes('number').columns.values\n",
    "print(num_cols)"
   ]
  },
  {
   "cell_type": "code",
   "execution_count": 55,
   "metadata": {},
   "outputs": [
    {
     "data": {
      "text/html": [
       "<div>\n",
       "<style scoped>\n",
       "    .dataframe tbody tr th:only-of-type {\n",
       "        vertical-align: middle;\n",
       "    }\n",
       "\n",
       "    .dataframe tbody tr th {\n",
       "        vertical-align: top;\n",
       "    }\n",
       "\n",
       "    .dataframe thead th {\n",
       "        text-align: right;\n",
       "    }\n",
       "</style>\n",
       "<table border=\"1\" class=\"dataframe\">\n",
       "  <thead>\n",
       "    <tr style=\"text-align: right;\">\n",
       "      <th></th>\n",
       "      <th>Skew</th>\n",
       "    </tr>\n",
       "  </thead>\n",
       "  <tbody>\n",
       "    <tr>\n",
       "      <th>LSSFound</th>\n",
       "      <td>38.540013</td>\n",
       "    </tr>\n",
       "    <tr>\n",
       "      <th>XXX3Y_flag</th>\n",
       "      <td>29.832859</td>\n",
       "    </tr>\n",
       "    <tr>\n",
       "      <th>XXX2Y_flag</th>\n",
       "      <td>25.196368</td>\n",
       "    </tr>\n",
       "    <tr>\n",
       "      <th>cntDBT</th>\n",
       "      <td>23.540793</td>\n",
       "    </tr>\n",
       "    <tr>\n",
       "      <th>cntLSS</th>\n",
       "      <td>23.540793</td>\n",
       "    </tr>\n",
       "    <tr>\n",
       "      <th>empType_Others</th>\n",
       "      <td>19.211563</td>\n",
       "    </tr>\n",
       "    <tr>\n",
       "      <th>XXX1Y_flag</th>\n",
       "      <td>19.211563</td>\n",
       "    </tr>\n",
       "    <tr>\n",
       "      <th>loanTenure</th>\n",
       "      <td>18.477539</td>\n",
       "    </tr>\n",
       "    <tr>\n",
       "      <th>XXX6M_flag</th>\n",
       "      <td>16.615180</td>\n",
       "    </tr>\n",
       "    <tr>\n",
       "      <th>DBTFound</th>\n",
       "      <td>14.840909</td>\n",
       "    </tr>\n",
       "    <tr>\n",
       "      <th>overdueAmount</th>\n",
       "      <td>14.374352</td>\n",
       "    </tr>\n",
       "    <tr>\n",
       "      <th>empType_Non-Government</th>\n",
       "      <td>14.140635</td>\n",
       "    </tr>\n",
       "    <tr>\n",
       "      <th>loanAmt</th>\n",
       "      <td>12.531255</td>\n",
       "    </tr>\n",
       "    <tr>\n",
       "      <th>XXX3M_flag</th>\n",
       "      <td>12.508743</td>\n",
       "    </tr>\n",
       "    <tr>\n",
       "      <th>currentBalance</th>\n",
       "      <td>11.961471</td>\n",
       "    </tr>\n",
       "    <tr>\n",
       "      <th>sanctionAmount</th>\n",
       "      <td>9.873978</td>\n",
       "    </tr>\n",
       "    <tr>\n",
       "      <th>writtenOffAndSettledStatus</th>\n",
       "      <td>5.978548</td>\n",
       "    </tr>\n",
       "    <tr>\n",
       "      <th>XXX1M_flag</th>\n",
       "      <td>5.157769</td>\n",
       "    </tr>\n",
       "    <tr>\n",
       "      <th>accountType</th>\n",
       "      <td>2.576097</td>\n",
       "    </tr>\n",
       "    <tr>\n",
       "      <th>gender_Female</th>\n",
       "      <td>2.421812</td>\n",
       "    </tr>\n",
       "    <tr>\n",
       "      <th>netMonthlyIncome</th>\n",
       "      <td>2.299210</td>\n",
       "    </tr>\n",
       "    <tr>\n",
       "      <th>writtenOffAmountPrincipal</th>\n",
       "      <td>1.903907</td>\n",
       "    </tr>\n",
       "    <tr>\n",
       "      <th>empType_Salaried</th>\n",
       "      <td>1.862136</td>\n",
       "    </tr>\n",
       "    <tr>\n",
       "      <th>creditLimit</th>\n",
       "      <td>1.802855</td>\n",
       "    </tr>\n",
       "    <tr>\n",
       "      <th>Target</th>\n",
       "      <td>1.257160</td>\n",
       "    </tr>\n",
       "    <tr>\n",
       "      <th>education</th>\n",
       "      <td>1.051957</td>\n",
       "    </tr>\n",
       "    <tr>\n",
       "      <th>maritalStatus_Single</th>\n",
       "      <td>0.911544</td>\n",
       "    </tr>\n",
       "    <tr>\n",
       "      <th>empType_Self Employed</th>\n",
       "      <td>0.807484</td>\n",
       "    </tr>\n",
       "    <tr>\n",
       "      <th>pinCode</th>\n",
       "      <td>-2.003736</td>\n",
       "    </tr>\n",
       "    <tr>\n",
       "      <th>addrsStateCode</th>\n",
       "      <td>-2.373931</td>\n",
       "    </tr>\n",
       "    <tr>\n",
       "      <th>gender_Male</th>\n",
       "      <td>-2.421812</td>\n",
       "    </tr>\n",
       "    <tr>\n",
       "      <th>dateReportedAndCertified</th>\n",
       "      <td>-3.181608</td>\n",
       "    </tr>\n",
       "  </tbody>\n",
       "</table>\n",
       "</div>"
      ],
      "text/plain": [
       "                                 Skew\n",
       "LSSFound                    38.540013\n",
       "XXX3Y_flag                  29.832859\n",
       "XXX2Y_flag                  25.196368\n",
       "cntDBT                      23.540793\n",
       "cntLSS                      23.540793\n",
       "empType_Others              19.211563\n",
       "XXX1Y_flag                  19.211563\n",
       "loanTenure                  18.477539\n",
       "XXX6M_flag                  16.615180\n",
       "DBTFound                    14.840909\n",
       "overdueAmount               14.374352\n",
       "empType_Non-Government      14.140635\n",
       "loanAmt                     12.531255\n",
       "XXX3M_flag                  12.508743\n",
       "currentBalance              11.961471\n",
       "sanctionAmount               9.873978\n",
       "writtenOffAndSettledStatus   5.978548\n",
       "XXX1M_flag                   5.157769\n",
       "accountType                  2.576097\n",
       "gender_Female                2.421812\n",
       "netMonthlyIncome             2.299210\n",
       "writtenOffAmountPrincipal    1.903907\n",
       "empType_Salaried             1.862136\n",
       "creditLimit                  1.802855\n",
       "Target                       1.257160\n",
       "education                    1.051957\n",
       "maritalStatus_Single         0.911544\n",
       "empType_Self Employed        0.807484\n",
       "pinCode                     -2.003736\n",
       "addrsStateCode              -2.373931\n",
       "gender_Male                 -2.421812\n",
       "dateReportedAndCertified    -3.181608"
      ]
     },
     "execution_count": 55,
     "metadata": {},
     "output_type": "execute_result"
    }
   ],
   "source": [
    "skew_vals = final_df[num_cols].skew()\n",
    "\n",
    "skew_limit = 0.75\n",
    "skew_cols = (skew_vals.\n",
    "            sort_values(ascending=False)\n",
    "            .to_frame()\n",
    "            .rename(columns={0:'Skew'})\n",
    "            .query('abs(Skew) > {}'.format(skew_limit)))\n",
    "skew_cols"
   ]
  },
  {
   "cell_type": "code",
   "execution_count": 56,
   "metadata": {},
   "outputs": [
    {
     "data": {
      "image/png": "[encoded data removed]",
      "text/plain": [
       "<Figure size 720x360 with 2 Axes>"
      ]
     },
     "metadata": {
      "needs_background": "light"
     },
     "output_type": "display_data"
    }
   ],
   "source": [
    "# Choose a field\n",
    "field = \"loanAmt\"\n",
    "\n",
    "# Create two \"subplots\" and a \"figure\" using matplotlib\n",
    "fig, (ax_before, ax_after) = plt.subplots(1, 2, figsize=(10, 5))\n",
    "\n",
    "# Create a histogram on the \"ax_before\" subplot\n",
    "df[field].hist(ax=ax_before)\n",
    "\n",
    "# Apply a log transformation (numpy syntax) to this column\n",
    "df[field].apply(np.log1p).hist(ax=ax_after)\n",
    "\n",
    "# Formatting of titles etc. for each subplot\n",
    "ax_before.set(title='before np.log1p', ylabel='frequency', xlabel='value')\n",
    "ax_after.set(title='after np.log1p', ylabel='frequency', xlabel='value')\n",
    "fig.suptitle('Field \"{}\"'.format(field));"
   ]
  },
  {
   "cell_type": "code",
   "execution_count": 57,
   "metadata": {},
   "outputs": [],
   "source": [
    "# Perform the skew transformation:\n",
    "\n",
    "for col in skew_cols.index.values:\n",
    "    final_df[col] = final_df[col].apply(np.log1p)"
   ]
  },
  {
   "cell_type": "raw",
   "metadata": {},
   "source": [
    "for col in skew_cols.index.values:\n",
    "    final_df[col] = boxcox(final_df[col])"
   ]
  },
  {
   "cell_type": "code",
   "execution_count": 58,
   "metadata": {},
   "outputs": [
    {
     "data": {
      "text/html": [
       "<div>\n",
       "<style scoped>\n",
       "    .dataframe tbody tr th:only-of-type {\n",
       "        vertical-align: middle;\n",
       "    }\n",
       "\n",
       "    .dataframe tbody tr th {\n",
       "        vertical-align: top;\n",
       "    }\n",
       "\n",
       "    .dataframe thead th {\n",
       "        text-align: right;\n",
       "    }\n",
       "</style>\n",
       "<table border=\"1\" class=\"dataframe\">\n",
       "  <thead>\n",
       "    <tr style=\"text-align: right;\">\n",
       "      <th></th>\n",
       "      <th>Unnamed: 0</th>\n",
       "      <th>age</th>\n",
       "      <th>education</th>\n",
       "      <th>addrsCategory</th>\n",
       "      <th>pinCode</th>\n",
       "      <th>addrsStateCode</th>\n",
       "      <th>phoneType</th>\n",
       "      <th>accountType</th>\n",
       "      <th>bureauScore</th>\n",
       "      <th>writtenOffAndSettledStatus</th>\n",
       "      <th>...</th>\n",
       "      <th>empType_Non-Government</th>\n",
       "      <th>empType_OTHERS</th>\n",
       "      <th>empType_Others</th>\n",
       "      <th>empType_Salaried</th>\n",
       "      <th>empType_Self Employed</th>\n",
       "      <th>maritalStatus_Married</th>\n",
       "      <th>maritalStatus_Single</th>\n",
       "      <th>maritalStatus_missing</th>\n",
       "      <th>gender_Female</th>\n",
       "      <th>gender_Male</th>\n",
       "    </tr>\n",
       "  </thead>\n",
       "  <tbody>\n",
       "    <tr>\n",
       "      <th>0</th>\n",
       "      <td>0</td>\n",
       "      <td>23</td>\n",
       "      <td>0.693147</td>\n",
       "      <td>2.0</td>\n",
       "      <td>13.438640</td>\n",
       "      <td>3.496508</td>\n",
       "      <td>1.0</td>\n",
       "      <td>2.639057</td>\n",
       "      <td>00752</td>\n",
       "      <td>NaN</td>\n",
       "      <td>...</td>\n",
       "      <td>0.0</td>\n",
       "      <td>1</td>\n",
       "      <td>0.0</td>\n",
       "      <td>0.0</td>\n",
       "      <td>0.0</td>\n",
       "      <td>0</td>\n",
       "      <td>0.0</td>\n",
       "      <td>1</td>\n",
       "      <td>0.000000</td>\n",
       "      <td>0.693359</td>\n",
       "    </tr>\n",
       "    <tr>\n",
       "      <th>1</th>\n",
       "      <td>1</td>\n",
       "      <td>44</td>\n",
       "      <td>0.693147</td>\n",
       "      <td>1.0</td>\n",
       "      <td>13.439452</td>\n",
       "      <td>3.496508</td>\n",
       "      <td>1.0</td>\n",
       "      <td>2.079442</td>\n",
       "      <td>00687</td>\n",
       "      <td>NaN</td>\n",
       "      <td>...</td>\n",
       "      <td>0.0</td>\n",
       "      <td>1</td>\n",
       "      <td>0.0</td>\n",
       "      <td>0.0</td>\n",
       "      <td>0.0</td>\n",
       "      <td>0</td>\n",
       "      <td>0.0</td>\n",
       "      <td>1</td>\n",
       "      <td>0.693359</td>\n",
       "      <td>0.000000</td>\n",
       "    </tr>\n",
       "    <tr>\n",
       "      <th>2</th>\n",
       "      <td>2</td>\n",
       "      <td>44</td>\n",
       "      <td>0.693147</td>\n",
       "      <td>1.0</td>\n",
       "      <td>13.439452</td>\n",
       "      <td>3.496508</td>\n",
       "      <td>1.0</td>\n",
       "      <td>2.079442</td>\n",
       "      <td>00687</td>\n",
       "      <td>NaN</td>\n",
       "      <td>...</td>\n",
       "      <td>0.0</td>\n",
       "      <td>1</td>\n",
       "      <td>0.0</td>\n",
       "      <td>0.0</td>\n",
       "      <td>0.0</td>\n",
       "      <td>0</td>\n",
       "      <td>0.0</td>\n",
       "      <td>1</td>\n",
       "      <td>0.693359</td>\n",
       "      <td>0.000000</td>\n",
       "    </tr>\n",
       "    <tr>\n",
       "      <th>3</th>\n",
       "      <td>3</td>\n",
       "      <td>44</td>\n",
       "      <td>0.693147</td>\n",
       "      <td>1.0</td>\n",
       "      <td>13.439452</td>\n",
       "      <td>3.496508</td>\n",
       "      <td>1.0</td>\n",
       "      <td>2.079442</td>\n",
       "      <td>00687</td>\n",
       "      <td>NaN</td>\n",
       "      <td>...</td>\n",
       "      <td>0.0</td>\n",
       "      <td>1</td>\n",
       "      <td>0.0</td>\n",
       "      <td>0.0</td>\n",
       "      <td>0.0</td>\n",
       "      <td>0</td>\n",
       "      <td>0.0</td>\n",
       "      <td>1</td>\n",
       "      <td>0.693359</td>\n",
       "      <td>0.000000</td>\n",
       "    </tr>\n",
       "    <tr>\n",
       "      <th>4</th>\n",
       "      <td>4</td>\n",
       "      <td>50</td>\n",
       "      <td>0.693147</td>\n",
       "      <td>3.0</td>\n",
       "      <td>13.370827</td>\n",
       "      <td>3.526361</td>\n",
       "      <td>0.0</td>\n",
       "      <td>NaN</td>\n",
       "      <td>-1</td>\n",
       "      <td>NaN</td>\n",
       "      <td>...</td>\n",
       "      <td>0.0</td>\n",
       "      <td>1</td>\n",
       "      <td>0.0</td>\n",
       "      <td>0.0</td>\n",
       "      <td>0.0</td>\n",
       "      <td>0</td>\n",
       "      <td>0.0</td>\n",
       "      <td>1</td>\n",
       "      <td>0.000000</td>\n",
       "      <td>0.693359</td>\n",
       "    </tr>\n",
       "  </tbody>\n",
       "</table>\n",
       "<p>5 rows × 45 columns</p>\n",
       "</div>"
      ],
      "text/plain": [
       "   Unnamed: 0  age  education  addrsCategory    pinCode  addrsStateCode  \\\n",
       "0           0   23   0.693147            2.0  13.438640        3.496508   \n",
       "1           1   44   0.693147            1.0  13.439452        3.496508   \n",
       "2           2   44   0.693147            1.0  13.439452        3.496508   \n",
       "3           3   44   0.693147            1.0  13.439452        3.496508   \n",
       "4           4   50   0.693147            3.0  13.370827        3.526361   \n",
       "\n",
       "   phoneType  accountType bureauScore  writtenOffAndSettledStatus  ...  \\\n",
       "0        1.0     2.639057       00752                         NaN  ...   \n",
       "1        1.0     2.079442       00687                         NaN  ...   \n",
       "2        1.0     2.079442       00687                         NaN  ...   \n",
       "3        1.0     2.079442       00687                         NaN  ...   \n",
       "4        0.0          NaN          -1                         NaN  ...   \n",
       "\n",
       "   empType_Non-Government  empType_OTHERS  empType_Others  empType_Salaried  \\\n",
       "0                     0.0               1             0.0               0.0   \n",
       "1                     0.0               1             0.0               0.0   \n",
       "2                     0.0               1             0.0               0.0   \n",
       "3                     0.0               1             0.0               0.0   \n",
       "4                     0.0               1             0.0               0.0   \n",
       "\n",
       "   empType_Self Employed  maritalStatus_Married  maritalStatus_Single  \\\n",
       "0                    0.0                      0                   0.0   \n",
       "1                    0.0                      0                   0.0   \n",
       "2                    0.0                      0                   0.0   \n",
       "3                    0.0                      0                   0.0   \n",
       "4                    0.0                      0                   0.0   \n",
       "\n",
       "   maritalStatus_missing  gender_Female  gender_Male  \n",
       "0                      1       0.000000     0.693359  \n",
       "1                      1       0.693359     0.000000  \n",
       "2                      1       0.693359     0.000000  \n",
       "3                      1       0.693359     0.000000  \n",
       "4                      1       0.000000     0.693359  \n",
       "\n",
       "[5 rows x 45 columns]"
      ]
     },
     "execution_count": 58,
     "metadata": {},
     "output_type": "execute_result"
    }
   ],
   "source": [
    "final_df.head()"
   ]
  },
  {
   "cell_type": "markdown",
   "metadata": {},
   "source": [
    "### Separating target and features"
   ]
  },
  {
   "cell_type": "code",
   "execution_count": 59,
   "metadata": {},
   "outputs": [],
   "source": [
    "y_col = \"Target\"\n",
    "\n",
    "X = final_df.drop(y_col, axis=1)\n",
    "y = final_df[y_col]"
   ]
  },
  {
   "cell_type": "markdown",
   "metadata": {},
   "source": [
    "### Normalization of features"
   ]
  },
  {
   "cell_type": "raw",
   "metadata": {},
   "source": [
    "normalized_X = preprocessing.normalize(X)"
   ]
  },
  {
   "cell_type": "markdown",
   "metadata": {},
   "source": [
    "### Restructuring the dataframe"
   ]
  },
  {
   "cell_type": "raw",
   "metadata": {},
   "source": [
    "index_values = X.index.values\n",
    "column_values = X.columns.values \n",
    "\n",
    "X = pd.DataFrame(data = normalized_X,  \n",
    "                  index = index_values,  \n",
    "                  columns = column_values)"
   ]
  },
  {
   "cell_type": "markdown",
   "metadata": {},
   "source": [
    "### MinMaxScaler"
   ]
  },
  {
   "cell_type": "markdown",
   "metadata": {},
   "source": [
    "X_std = (X - X.min(axis=0)) / (X.max(axis=0) - X.min(axis=0))\n",
    "X_scaled = X_std * (max - min) + min"
   ]
  },
  {
   "cell_type": "raw",
   "metadata": {},
   "source": [
    "scaler = MinMaxScaler()\n",
    "minMax_X = scaler.fit_transform(X)"
   ]
  },
  {
   "cell_type": "markdown",
   "metadata": {},
   "source": [
    "### Restructuring the dataframe"
   ]
  },
  {
   "cell_type": "raw",
   "metadata": {},
   "source": [
    "index_values = X.index.values\n",
    "column_values = X.columns.values \n",
    "\n",
    "X = pd.DataFrame(data = minMax_X,  \n",
    "                  index = index_values,  \n",
    "                  columns = column_values)"
   ]
  },
  {
   "cell_type": "code",
   "execution_count": 187,
   "metadata": {},
   "outputs": [
    {
     "data": {
      "text/html": [
       "<div>\n",
       "<style scoped>\n",
       "    .dataframe tbody tr th:only-of-type {\n",
       "        vertical-align: middle;\n",
       "    }\n",
       "\n",
       "    .dataframe tbody tr th {\n",
       "        vertical-align: top;\n",
       "    }\n",
       "\n",
       "    .dataframe thead th {\n",
       "        text-align: right;\n",
       "    }\n",
       "</style>\n",
       "<table border=\"1\" class=\"dataframe\">\n",
       "  <thead>\n",
       "    <tr style=\"text-align: right;\">\n",
       "      <th></th>\n",
       "      <th>Unnamed: 0</th>\n",
       "      <th>age</th>\n",
       "      <th>education</th>\n",
       "      <th>addrsCategory</th>\n",
       "      <th>pinCode</th>\n",
       "      <th>addrsStateCode</th>\n",
       "      <th>phoneType</th>\n",
       "      <th>accountType</th>\n",
       "      <th>bureauScore</th>\n",
       "      <th>writtenOffAndSettledStatus</th>\n",
       "      <th>...</th>\n",
       "      <th>empType_Non-Government</th>\n",
       "      <th>empType_OTHERS</th>\n",
       "      <th>empType_Others</th>\n",
       "      <th>empType_Salaried</th>\n",
       "      <th>empType_Self Employed</th>\n",
       "      <th>maritalStatus_Married</th>\n",
       "      <th>maritalStatus_Single</th>\n",
       "      <th>maritalStatus_missing</th>\n",
       "      <th>gender_Female</th>\n",
       "      <th>gender_Male</th>\n",
       "    </tr>\n",
       "  </thead>\n",
       "  <tbody>\n",
       "    <tr>\n",
       "      <th>0</th>\n",
       "      <td>0</td>\n",
       "      <td>23</td>\n",
       "      <td>0.693147</td>\n",
       "      <td>2.0</td>\n",
       "      <td>13.438640</td>\n",
       "      <td>3.496508</td>\n",
       "      <td>1.0</td>\n",
       "      <td>2.639057</td>\n",
       "      <td>00752</td>\n",
       "      <td>NaN</td>\n",
       "      <td>...</td>\n",
       "      <td>0.0</td>\n",
       "      <td>1</td>\n",
       "      <td>0.0</td>\n",
       "      <td>0.0</td>\n",
       "      <td>0.0</td>\n",
       "      <td>0</td>\n",
       "      <td>0.0</td>\n",
       "      <td>1</td>\n",
       "      <td>0.000000</td>\n",
       "      <td>0.693359</td>\n",
       "    </tr>\n",
       "    <tr>\n",
       "      <th>1</th>\n",
       "      <td>1</td>\n",
       "      <td>44</td>\n",
       "      <td>0.693147</td>\n",
       "      <td>1.0</td>\n",
       "      <td>13.439452</td>\n",
       "      <td>3.496508</td>\n",
       "      <td>1.0</td>\n",
       "      <td>2.079442</td>\n",
       "      <td>00687</td>\n",
       "      <td>NaN</td>\n",
       "      <td>...</td>\n",
       "      <td>0.0</td>\n",
       "      <td>1</td>\n",
       "      <td>0.0</td>\n",
       "      <td>0.0</td>\n",
       "      <td>0.0</td>\n",
       "      <td>0</td>\n",
       "      <td>0.0</td>\n",
       "      <td>1</td>\n",
       "      <td>0.693359</td>\n",
       "      <td>0.000000</td>\n",
       "    </tr>\n",
       "    <tr>\n",
       "      <th>2</th>\n",
       "      <td>2</td>\n",
       "      <td>44</td>\n",
       "      <td>0.693147</td>\n",
       "      <td>1.0</td>\n",
       "      <td>13.439452</td>\n",
       "      <td>3.496508</td>\n",
       "      <td>1.0</td>\n",
       "      <td>2.079442</td>\n",
       "      <td>00687</td>\n",
       "      <td>NaN</td>\n",
       "      <td>...</td>\n",
       "      <td>0.0</td>\n",
       "      <td>1</td>\n",
       "      <td>0.0</td>\n",
       "      <td>0.0</td>\n",
       "      <td>0.0</td>\n",
       "      <td>0</td>\n",
       "      <td>0.0</td>\n",
       "      <td>1</td>\n",
       "      <td>0.693359</td>\n",
       "      <td>0.000000</td>\n",
       "    </tr>\n",
       "    <tr>\n",
       "      <th>3</th>\n",
       "      <td>3</td>\n",
       "      <td>44</td>\n",
       "      <td>0.693147</td>\n",
       "      <td>1.0</td>\n",
       "      <td>13.439452</td>\n",
       "      <td>3.496508</td>\n",
       "      <td>1.0</td>\n",
       "      <td>2.079442</td>\n",
       "      <td>00687</td>\n",
       "      <td>NaN</td>\n",
       "      <td>...</td>\n",
       "      <td>0.0</td>\n",
       "      <td>1</td>\n",
       "      <td>0.0</td>\n",
       "      <td>0.0</td>\n",
       "      <td>0.0</td>\n",
       "      <td>0</td>\n",
       "      <td>0.0</td>\n",
       "      <td>1</td>\n",
       "      <td>0.693359</td>\n",
       "      <td>0.000000</td>\n",
       "    </tr>\n",
       "    <tr>\n",
       "      <th>4</th>\n",
       "      <td>4</td>\n",
       "      <td>50</td>\n",
       "      <td>0.693147</td>\n",
       "      <td>3.0</td>\n",
       "      <td>13.370827</td>\n",
       "      <td>3.526361</td>\n",
       "      <td>0.0</td>\n",
       "      <td>NaN</td>\n",
       "      <td>-1</td>\n",
       "      <td>NaN</td>\n",
       "      <td>...</td>\n",
       "      <td>0.0</td>\n",
       "      <td>1</td>\n",
       "      <td>0.0</td>\n",
       "      <td>0.0</td>\n",
       "      <td>0.0</td>\n",
       "      <td>0</td>\n",
       "      <td>0.0</td>\n",
       "      <td>1</td>\n",
       "      <td>0.000000</td>\n",
       "      <td>0.693359</td>\n",
       "    </tr>\n",
       "  </tbody>\n",
       "</table>\n",
       "<p>5 rows × 45 columns</p>\n",
       "</div>"
      ],
      "text/plain": [
       "   Unnamed: 0  age  education  addrsCategory    pinCode  addrsStateCode  \\\n",
       "0           0   23   0.693147            2.0  13.438640        3.496508   \n",
       "1           1   44   0.693147            1.0  13.439452        3.496508   \n",
       "2           2   44   0.693147            1.0  13.439452        3.496508   \n",
       "3           3   44   0.693147            1.0  13.439452        3.496508   \n",
       "4           4   50   0.693147            3.0  13.370827        3.526361   \n",
       "\n",
       "   phoneType  accountType bureauScore  writtenOffAndSettledStatus  ...  \\\n",
       "0        1.0     2.639057       00752                         NaN  ...   \n",
       "1        1.0     2.079442       00687                         NaN  ...   \n",
       "2        1.0     2.079442       00687                         NaN  ...   \n",
       "3        1.0     2.079442       00687                         NaN  ...   \n",
       "4        0.0          NaN          -1                         NaN  ...   \n",
       "\n",
       "   empType_Non-Government  empType_OTHERS  empType_Others  empType_Salaried  \\\n",
       "0                     0.0               1             0.0               0.0   \n",
       "1                     0.0               1             0.0               0.0   \n",
       "2                     0.0               1             0.0               0.0   \n",
       "3                     0.0               1             0.0               0.0   \n",
       "4                     0.0               1             0.0               0.0   \n",
       "\n",
       "   empType_Self Employed  maritalStatus_Married  maritalStatus_Single  \\\n",
       "0                    0.0                      0                   0.0   \n",
       "1                    0.0                      0                   0.0   \n",
       "2                    0.0                      0                   0.0   \n",
       "3                    0.0                      0                   0.0   \n",
       "4                    0.0                      0                   0.0   \n",
       "\n",
       "   maritalStatus_missing gender_Female  gender_Male  \n",
       "0                      1      0.000000     0.693359  \n",
       "1                      1      0.693359     0.000000  \n",
       "2                      1      0.693359     0.000000  \n",
       "3                      1      0.693359     0.000000  \n",
       "4                      1      0.000000     0.693359  \n",
       "\n",
       "[5 rows x 45 columns]"
      ]
     },
     "execution_count": 187,
     "metadata": {},
     "output_type": "execute_result"
    }
   ],
   "source": [
    "X.head()"
   ]
  },
  {
   "cell_type": "code",
   "execution_count": 188,
   "metadata": {},
   "outputs": [
    {
     "data": {
      "text/plain": [
       "0       0.693147\n",
       "1       0.000000\n",
       "2       0.000000\n",
       "3       0.000000\n",
       "4       0.000000\n",
       "          ...   \n",
       "4457    0.000000\n",
       "4458    0.000000\n",
       "4459    0.000000\n",
       "4460    0.693147\n",
       "4461    0.000000\n",
       "Name: Target, Length: 4462, dtype: float64"
      ]
     },
     "execution_count": 188,
     "metadata": {},
     "output_type": "execute_result"
    }
   ],
   "source": [
    "y"
   ]
  },
  {
   "cell_type": "markdown",
   "metadata": {},
   "source": [
    "<a id=\"data_viz_cibil\"></a> <br>\n",
    "## 4.) Data Visualization"
   ]
  },
  {
   "cell_type": "raw",
   "metadata": {},
   "source": [
    "sns.pairplot(df)"
   ]
  },
  {
   "cell_type": "markdown",
   "metadata": {},
   "source": [
    "### Number of loans by account types"
   ]
  },
  {
   "cell_type": "raw",
   "metadata": {},
   "source": [
    "df.loanType.value_counts().nlargest(40).plot(kind='bar', figsize=(10,5))\n",
    "plt.title(\"Number of loans by account types\")\n",
    "plt.ylabel('Number of loans')\n",
    "plt.xlabel('Account Type');"
   ]
  },
  {
   "cell_type": "markdown",
   "metadata": {},
   "source": [
    "### Number of requests to bureau by state"
   ]
  },
  {
   "cell_type": "code",
   "execution_count": 61,
   "metadata": {},
   "outputs": [
    {
     "data": {
      "image/png": "[encoded data removed]",
      "text/plain": [
       "<Figure size 720x360 with 1 Axes>"
      ]
     },
     "metadata": {
      "needs_background": "light"
     },
     "output_type": "display_data"
    }
   ],
   "source": [
    "df.addrsStateCode.value_counts().nlargest(40).plot(kind='bar', figsize=(10,5))\n",
    "plt.title(\"Number of requests to bureau by state\")\n",
    "plt.ylabel('Number of requests')\n",
    "plt.xlabel('State');"
   ]
  },
  {
   "cell_type": "markdown",
   "metadata": {},
   "source": [
    "### State vs Target"
   ]
  },
  {
   "cell_type": "raw",
   "metadata": {},
   "source": [
    "fig, ax = plt.subplots(figsize=(10,6))\n",
    "ax.scatter(df['addrsStateCode'], df['Target'])\n",
    "ax.set_xlabel('State Code')\n",
    "ax.set_ylabel('Target')\n",
    "plt.show()"
   ]
  },
  {
   "cell_type": "markdown",
   "metadata": {},
   "source": [
    "### Number of requests to bureau by employment type"
   ]
  },
  {
   "cell_type": "code",
   "execution_count": 62,
   "metadata": {},
   "outputs": [
    {
     "data": {
      "image/png": "[encoded data removed]",
      "text/plain": [
       "<Figure size 720x360 with 1 Axes>"
      ]
     },
     "metadata": {
      "needs_background": "light"
     },
     "output_type": "display_data"
    }
   ],
   "source": [
    "df.empType.value_counts().nlargest(40).plot(kind='bar', figsize=(10,5))\n",
    "plt.title(\"Number of requests to bureau by employment type\")\n",
    "plt.ylabel('Number of requests')\n",
    "plt.xlabel('Employment Type');"
   ]
  },
  {
   "cell_type": "markdown",
   "metadata": {},
   "source": [
    "### Correlation Matrix"
   ]
  },
  {
   "cell_type": "code",
   "execution_count": 63,
   "metadata": {},
   "outputs": [
    {
     "data": {
      "text/plain": [
       "<AxesSubplot:>"
      ]
     },
     "execution_count": 63,
     "metadata": {},
     "output_type": "execute_result"
    },
    {
     "data": {
      "image/png": "[encoded data removed]",
      "text/plain": [
       "<Figure size 1008x576 with 2 Axes>"
      ]
     },
     "metadata": {
      "needs_background": "light"
     },
     "output_type": "display_data"
    }
   ],
   "source": [
    "plt.figure(figsize=(14,8))\n",
    "c= final_df.corr()\n",
    "sns.heatmap(c,cmap=\"BrBG\", square=True)"
   ]
  },
  {
   "cell_type": "markdown",
   "metadata": {},
   "source": [
    "<a id=\"feat_sel_cibil\"></a> <br>\n",
    "## 5.) Feature Selection"
   ]
  },
  {
   "cell_type": "markdown",
   "metadata": {},
   "source": [
    "### 1. Univariate Selection"
   ]
  },
  {
   "cell_type": "raw",
   "metadata": {},
   "source": [
    "#apply SelectKBest class to extract top 5 best features\n",
    "bestfeatures = SelectKBest(score_func=chi2, k=5) # 5 > neighbours\n",
    "fit = bestfeatures.fit(X,y)\n",
    "dfscores = pd.DataFrame(fit.scores_)\n",
    "dfcolumns = pd.DataFrame(X.columns)"
   ]
  },
  {
   "cell_type": "raw",
   "metadata": {},
   "source": [
    "#concat two dataframes for better visualization \n",
    "featureScores = pd.concat([dfcolumns, dfscores], axis=1)\n",
    "featureScores.columns = ['Specs', 'Score']  #naming the dataframe columns\n",
    "print(featureScores.nlargest(15, 'Score'))  #print best features"
   ]
  },
  {
   "cell_type": "code",
   "execution_count": 64,
   "metadata": {},
   "outputs": [
    {
     "ename": "NameError",
     "evalue": "name 'featureScores' is not defined",
     "output_type": "error",
     "traceback": [
      "\u001b[0;31m---------------------------------------------------------------------------\u001b[0m",
      "\u001b[0;31mNameError\u001b[0m                                 Traceback (most recent call last)",
      "\u001b[0;32m<ipython-input-64-1da41b030f91>\u001b[0m in \u001b[0;36m<module>\u001b[0;34m\u001b[0m\n\u001b[1;32m     10\u001b[0m \u001b[0mmax_score\u001b[0m \u001b[0;34m=\u001b[0m \u001b[0mlist\u001b[0m\u001b[0;34m(\u001b[0m\u001b[0;34m)\u001b[0m\u001b[0;34m\u001b[0m\u001b[0;34m\u001b[0m\u001b[0m\n\u001b[1;32m     11\u001b[0m \u001b[0;32mfor\u001b[0m \u001b[0mi\u001b[0m \u001b[0;32min\u001b[0m \u001b[0mrange\u001b[0m\u001b[0;34m(\u001b[0m\u001b[0;36m1\u001b[0m\u001b[0;34m,\u001b[0m\u001b[0mX\u001b[0m\u001b[0;34m.\u001b[0m\u001b[0mshape\u001b[0m\u001b[0;34m[\u001b[0m\u001b[0;36m1\u001b[0m\u001b[0;34m]\u001b[0m\u001b[0;34m+\u001b[0m\u001b[0;36m1\u001b[0m\u001b[0;34m)\u001b[0m\u001b[0;34m:\u001b[0m\u001b[0;34m\u001b[0m\u001b[0;34m\u001b[0m\u001b[0m\n\u001b[0;32m---> 12\u001b[0;31m     \u001b[0mscores\u001b[0m \u001b[0;34m=\u001b[0m \u001b[0mevaluate_model\u001b[0m\u001b[0;34m(\u001b[0m\u001b[0mmodel_eval\u001b[0m\u001b[0;34m,\u001b[0m \u001b[0mX\u001b[0m\u001b[0;34m[\u001b[0m\u001b[0mfeatureScores\u001b[0m\u001b[0;34m.\u001b[0m\u001b[0mnlargest\u001b[0m\u001b[0;34m(\u001b[0m\u001b[0mi\u001b[0m\u001b[0;34m,\u001b[0m \u001b[0;34m'Score'\u001b[0m\u001b[0;34m)\u001b[0m\u001b[0;34m[\u001b[0m\u001b[0;34m'Specs'\u001b[0m\u001b[0;34m]\u001b[0m\u001b[0;34m]\u001b[0m\u001b[0;34m,\u001b[0m \u001b[0my\u001b[0m\u001b[0;34m)\u001b[0m\u001b[0;34m\u001b[0m\u001b[0;34m\u001b[0m\u001b[0m\n\u001b[0m\u001b[1;32m     13\u001b[0m     \u001b[0mresults\u001b[0m\u001b[0;34m.\u001b[0m\u001b[0mappend\u001b[0m\u001b[0;34m(\u001b[0m\u001b[0mscores\u001b[0m\u001b[0;34m)\u001b[0m\u001b[0;34m\u001b[0m\u001b[0;34m\u001b[0m\u001b[0m\n\u001b[1;32m     14\u001b[0m     \u001b[0mmax_score\u001b[0m\u001b[0;34m.\u001b[0m\u001b[0mappend\u001b[0m\u001b[0;34m(\u001b[0m\u001b[0mmean\u001b[0m\u001b[0;34m(\u001b[0m\u001b[0mscores\u001b[0m\u001b[0;34m)\u001b[0m\u001b[0;34m)\u001b[0m\u001b[0;34m\u001b[0m\u001b[0;34m\u001b[0m\u001b[0m\n",
      "\u001b[0;31mNameError\u001b[0m: name 'featureScores' is not defined"
     ]
    }
   ],
   "source": [
    "# evaluate a given model using cross-validation\n",
    "def evaluate_model(model, X, y):\n",
    "    cv = RepeatedStratifiedKFold(n_splits=10, n_repeats=3, random_state=42)\n",
    "    scores = cross_val_score(model, X, y, scoring='accuracy', cv=cv, n_jobs=-1, error_score='raise')\n",
    "    return scores\n",
    "\n",
    "model_eval = LogisticRegression()\n",
    "\n",
    "results = list()\n",
    "max_score = list()\n",
    "for i in range(1,X.shape[1]+1):\n",
    "    scores = evaluate_model(model_eval, X[featureScores.nlargest(i, 'Score')['Specs']], y)\n",
    "    results.append(scores)\n",
    "    max_score.append(mean(scores))\n",
    "    print('> %s) %.3f (%.3f)' % (i, mean(scores), std(scores)))"
   ]
  },
  {
   "cell_type": "code",
   "execution_count": null,
   "metadata": {},
   "outputs": [],
   "source": [
    "chi_df = pd.DataFrame(list(zip(range(1,X.shape[1]+1), max_score)), \n",
    "               columns =['# Features', 'Score']) \n",
    "chi_df[chi_df['Score'] == chi_df['Score'].max()]"
   ]
  },
  {
   "cell_type": "markdown",
   "metadata": {},
   "source": [
    "### 2. Feature Importance"
   ]
  },
  {
   "cell_type": "code",
   "execution_count": 194,
   "metadata": {},
   "outputs": [
    {
     "ename": "ValueError",
     "evalue": "could not convert string to float: '2020-07-28T07:09:40.569Z'",
     "output_type": "error",
     "traceback": [
      "\u001b[0;31m---------------------------------------------------------------------------\u001b[0m",
      "\u001b[0;31mValueError\u001b[0m                                Traceback (most recent call last)",
      "\u001b[0;32m<ipython-input-194-30fbd8296582>\u001b[0m in \u001b[0;36m<module>\u001b[0;34m\u001b[0m\n\u001b[1;32m      2\u001b[0m \u001b[0;34m\u001b[0m\u001b[0m\n\u001b[1;32m      3\u001b[0m \u001b[0mmodel_fi\u001b[0m \u001b[0;34m=\u001b[0m \u001b[0mExtraTreesClassifier\u001b[0m\u001b[0;34m(\u001b[0m\u001b[0;34m)\u001b[0m\u001b[0;34m\u001b[0m\u001b[0;34m\u001b[0m\u001b[0m\n\u001b[0;32m----> 4\u001b[0;31m \u001b[0mmodel_fi\u001b[0m\u001b[0;34m.\u001b[0m\u001b[0mfit\u001b[0m\u001b[0;34m(\u001b[0m\u001b[0mX\u001b[0m\u001b[0;34m,\u001b[0m\u001b[0my\u001b[0m\u001b[0;34m)\u001b[0m\u001b[0;34m\u001b[0m\u001b[0;34m\u001b[0m\u001b[0m\n\u001b[0m\u001b[1;32m      5\u001b[0m \u001b[0;31m#print(model.feature_importances_) #use inbuilt class feature_importances of tree based classifiers\u001b[0m\u001b[0;34m\u001b[0m\u001b[0;34m\u001b[0m\u001b[0;34m\u001b[0m\u001b[0m\n\u001b[1;32m      6\u001b[0m \u001b[0;34m\u001b[0m\u001b[0m\n",
      "\u001b[0;32m~/anaconda3/envs/ml_env/lib/python3.7/site-packages/sklearn/ensemble/_forest.py\u001b[0m in \u001b[0;36mfit\u001b[0;34m(self, X, y, sample_weight)\u001b[0m\n\u001b[1;32m    302\u001b[0m             )\n\u001b[1;32m    303\u001b[0m         X, y = self._validate_data(X, y, multi_output=True,\n\u001b[0;32m--> 304\u001b[0;31m                                    accept_sparse=\"csc\", dtype=DTYPE)\n\u001b[0m\u001b[1;32m    305\u001b[0m         \u001b[0;32mif\u001b[0m \u001b[0msample_weight\u001b[0m \u001b[0;32mis\u001b[0m \u001b[0;32mnot\u001b[0m \u001b[0;32mNone\u001b[0m\u001b[0;34m:\u001b[0m\u001b[0;34m\u001b[0m\u001b[0;34m\u001b[0m\u001b[0m\n\u001b[1;32m    306\u001b[0m             \u001b[0msample_weight\u001b[0m \u001b[0;34m=\u001b[0m \u001b[0m_check_sample_weight\u001b[0m\u001b[0;34m(\u001b[0m\u001b[0msample_weight\u001b[0m\u001b[0;34m,\u001b[0m \u001b[0mX\u001b[0m\u001b[0;34m)\u001b[0m\u001b[0;34m\u001b[0m\u001b[0;34m\u001b[0m\u001b[0m\n",
      "\u001b[0;32m~/anaconda3/envs/ml_env/lib/python3.7/site-packages/sklearn/base.py\u001b[0m in \u001b[0;36m_validate_data\u001b[0;34m(self, X, y, reset, validate_separately, **check_params)\u001b[0m\n\u001b[1;32m    430\u001b[0m                 \u001b[0my\u001b[0m \u001b[0;34m=\u001b[0m \u001b[0mcheck_array\u001b[0m\u001b[0;34m(\u001b[0m\u001b[0my\u001b[0m\u001b[0;34m,\u001b[0m \u001b[0;34m**\u001b[0m\u001b[0mcheck_y_params\u001b[0m\u001b[0;34m)\u001b[0m\u001b[0;34m\u001b[0m\u001b[0;34m\u001b[0m\u001b[0m\n\u001b[1;32m    431\u001b[0m             \u001b[0;32melse\u001b[0m\u001b[0;34m:\u001b[0m\u001b[0;34m\u001b[0m\u001b[0;34m\u001b[0m\u001b[0m\n\u001b[0;32m--> 432\u001b[0;31m                 \u001b[0mX\u001b[0m\u001b[0;34m,\u001b[0m \u001b[0my\u001b[0m \u001b[0;34m=\u001b[0m \u001b[0mcheck_X_y\u001b[0m\u001b[0;34m(\u001b[0m\u001b[0mX\u001b[0m\u001b[0;34m,\u001b[0m \u001b[0my\u001b[0m\u001b[0;34m,\u001b[0m \u001b[0;34m**\u001b[0m\u001b[0mcheck_params\u001b[0m\u001b[0;34m)\u001b[0m\u001b[0;34m\u001b[0m\u001b[0;34m\u001b[0m\u001b[0m\n\u001b[0m\u001b[1;32m    433\u001b[0m             \u001b[0mout\u001b[0m \u001b[0;34m=\u001b[0m \u001b[0mX\u001b[0m\u001b[0;34m,\u001b[0m \u001b[0my\u001b[0m\u001b[0;34m\u001b[0m\u001b[0;34m\u001b[0m\u001b[0m\n\u001b[1;32m    434\u001b[0m \u001b[0;34m\u001b[0m\u001b[0m\n",
      "\u001b[0;32m~/anaconda3/envs/ml_env/lib/python3.7/site-packages/sklearn/utils/validation.py\u001b[0m in \u001b[0;36minner_f\u001b[0;34m(*args, **kwargs)\u001b[0m\n\u001b[1;32m     70\u001b[0m                           FutureWarning)\n\u001b[1;32m     71\u001b[0m         \u001b[0mkwargs\u001b[0m\u001b[0;34m.\u001b[0m\u001b[0mupdate\u001b[0m\u001b[0;34m(\u001b[0m\u001b[0;34m{\u001b[0m\u001b[0mk\u001b[0m\u001b[0;34m:\u001b[0m \u001b[0marg\u001b[0m \u001b[0;32mfor\u001b[0m \u001b[0mk\u001b[0m\u001b[0;34m,\u001b[0m \u001b[0marg\u001b[0m \u001b[0;32min\u001b[0m \u001b[0mzip\u001b[0m\u001b[0;34m(\u001b[0m\u001b[0msig\u001b[0m\u001b[0;34m.\u001b[0m\u001b[0mparameters\u001b[0m\u001b[0;34m,\u001b[0m \u001b[0margs\u001b[0m\u001b[0;34m)\u001b[0m\u001b[0;34m}\u001b[0m\u001b[0;34m)\u001b[0m\u001b[0;34m\u001b[0m\u001b[0;34m\u001b[0m\u001b[0m\n\u001b[0;32m---> 72\u001b[0;31m         \u001b[0;32mreturn\u001b[0m \u001b[0mf\u001b[0m\u001b[0;34m(\u001b[0m\u001b[0;34m**\u001b[0m\u001b[0mkwargs\u001b[0m\u001b[0;34m)\u001b[0m\u001b[0;34m\u001b[0m\u001b[0;34m\u001b[0m\u001b[0m\n\u001b[0m\u001b[1;32m     73\u001b[0m     \u001b[0;32mreturn\u001b[0m \u001b[0minner_f\u001b[0m\u001b[0;34m\u001b[0m\u001b[0;34m\u001b[0m\u001b[0m\n\u001b[1;32m     74\u001b[0m \u001b[0;34m\u001b[0m\u001b[0m\n",
      "\u001b[0;32m~/anaconda3/envs/ml_env/lib/python3.7/site-packages/sklearn/utils/validation.py\u001b[0m in \u001b[0;36mcheck_X_y\u001b[0;34m(X, y, accept_sparse, accept_large_sparse, dtype, order, copy, force_all_finite, ensure_2d, allow_nd, multi_output, ensure_min_samples, ensure_min_features, y_numeric, estimator)\u001b[0m\n\u001b[1;32m    800\u001b[0m                     \u001b[0mensure_min_samples\u001b[0m\u001b[0;34m=\u001b[0m\u001b[0mensure_min_samples\u001b[0m\u001b[0;34m,\u001b[0m\u001b[0;34m\u001b[0m\u001b[0;34m\u001b[0m\u001b[0m\n\u001b[1;32m    801\u001b[0m                     \u001b[0mensure_min_features\u001b[0m\u001b[0;34m=\u001b[0m\u001b[0mensure_min_features\u001b[0m\u001b[0;34m,\u001b[0m\u001b[0;34m\u001b[0m\u001b[0;34m\u001b[0m\u001b[0m\n\u001b[0;32m--> 802\u001b[0;31m                     estimator=estimator)\n\u001b[0m\u001b[1;32m    803\u001b[0m     \u001b[0;32mif\u001b[0m \u001b[0mmulti_output\u001b[0m\u001b[0;34m:\u001b[0m\u001b[0;34m\u001b[0m\u001b[0;34m\u001b[0m\u001b[0m\n\u001b[1;32m    804\u001b[0m         y = check_array(y, accept_sparse='csr', force_all_finite=True,\n",
      "\u001b[0;32m~/anaconda3/envs/ml_env/lib/python3.7/site-packages/sklearn/utils/validation.py\u001b[0m in \u001b[0;36minner_f\u001b[0;34m(*args, **kwargs)\u001b[0m\n\u001b[1;32m     70\u001b[0m                           FutureWarning)\n\u001b[1;32m     71\u001b[0m         \u001b[0mkwargs\u001b[0m\u001b[0;34m.\u001b[0m\u001b[0mupdate\u001b[0m\u001b[0;34m(\u001b[0m\u001b[0;34m{\u001b[0m\u001b[0mk\u001b[0m\u001b[0;34m:\u001b[0m \u001b[0marg\u001b[0m \u001b[0;32mfor\u001b[0m \u001b[0mk\u001b[0m\u001b[0;34m,\u001b[0m \u001b[0marg\u001b[0m \u001b[0;32min\u001b[0m \u001b[0mzip\u001b[0m\u001b[0;34m(\u001b[0m\u001b[0msig\u001b[0m\u001b[0;34m.\u001b[0m\u001b[0mparameters\u001b[0m\u001b[0;34m,\u001b[0m \u001b[0margs\u001b[0m\u001b[0;34m)\u001b[0m\u001b[0;34m}\u001b[0m\u001b[0;34m)\u001b[0m\u001b[0;34m\u001b[0m\u001b[0;34m\u001b[0m\u001b[0m\n\u001b[0;32m---> 72\u001b[0;31m         \u001b[0;32mreturn\u001b[0m \u001b[0mf\u001b[0m\u001b[0;34m(\u001b[0m\u001b[0;34m**\u001b[0m\u001b[0mkwargs\u001b[0m\u001b[0;34m)\u001b[0m\u001b[0;34m\u001b[0m\u001b[0;34m\u001b[0m\u001b[0m\n\u001b[0m\u001b[1;32m     73\u001b[0m     \u001b[0;32mreturn\u001b[0m \u001b[0minner_f\u001b[0m\u001b[0;34m\u001b[0m\u001b[0;34m\u001b[0m\u001b[0m\n\u001b[1;32m     74\u001b[0m \u001b[0;34m\u001b[0m\u001b[0m\n",
      "\u001b[0;32m~/anaconda3/envs/ml_env/lib/python3.7/site-packages/sklearn/utils/validation.py\u001b[0m in \u001b[0;36mcheck_array\u001b[0;34m(array, accept_sparse, accept_large_sparse, dtype, order, copy, force_all_finite, ensure_2d, allow_nd, ensure_min_samples, ensure_min_features, estimator)\u001b[0m\n\u001b[1;32m    596\u001b[0m                     \u001b[0marray\u001b[0m \u001b[0;34m=\u001b[0m \u001b[0marray\u001b[0m\u001b[0;34m.\u001b[0m\u001b[0mastype\u001b[0m\u001b[0;34m(\u001b[0m\u001b[0mdtype\u001b[0m\u001b[0;34m,\u001b[0m \u001b[0mcasting\u001b[0m\u001b[0;34m=\u001b[0m\u001b[0;34m\"unsafe\"\u001b[0m\u001b[0;34m,\u001b[0m \u001b[0mcopy\u001b[0m\u001b[0;34m=\u001b[0m\u001b[0;32mFalse\u001b[0m\u001b[0;34m)\u001b[0m\u001b[0;34m\u001b[0m\u001b[0;34m\u001b[0m\u001b[0m\n\u001b[1;32m    597\u001b[0m                 \u001b[0;32melse\u001b[0m\u001b[0;34m:\u001b[0m\u001b[0;34m\u001b[0m\u001b[0;34m\u001b[0m\u001b[0m\n\u001b[0;32m--> 598\u001b[0;31m                     \u001b[0marray\u001b[0m \u001b[0;34m=\u001b[0m \u001b[0mnp\u001b[0m\u001b[0;34m.\u001b[0m\u001b[0masarray\u001b[0m\u001b[0;34m(\u001b[0m\u001b[0marray\u001b[0m\u001b[0;34m,\u001b[0m \u001b[0morder\u001b[0m\u001b[0;34m=\u001b[0m\u001b[0morder\u001b[0m\u001b[0;34m,\u001b[0m \u001b[0mdtype\u001b[0m\u001b[0;34m=\u001b[0m\u001b[0mdtype\u001b[0m\u001b[0;34m)\u001b[0m\u001b[0;34m\u001b[0m\u001b[0;34m\u001b[0m\u001b[0m\n\u001b[0m\u001b[1;32m    599\u001b[0m             \u001b[0;32mexcept\u001b[0m \u001b[0mComplexWarning\u001b[0m\u001b[0;34m:\u001b[0m\u001b[0;34m\u001b[0m\u001b[0;34m\u001b[0m\u001b[0m\n\u001b[1;32m    600\u001b[0m                 raise ValueError(\"Complex data not supported\\n\"\n",
      "\u001b[0;32m~/anaconda3/envs/ml_env/lib/python3.7/site-packages/numpy/core/_asarray.py\u001b[0m in \u001b[0;36masarray\u001b[0;34m(a, dtype, order)\u001b[0m\n\u001b[1;32m     81\u001b[0m \u001b[0;34m\u001b[0m\u001b[0m\n\u001b[1;32m     82\u001b[0m     \"\"\"\n\u001b[0;32m---> 83\u001b[0;31m     \u001b[0;32mreturn\u001b[0m \u001b[0marray\u001b[0m\u001b[0;34m(\u001b[0m\u001b[0ma\u001b[0m\u001b[0;34m,\u001b[0m \u001b[0mdtype\u001b[0m\u001b[0;34m,\u001b[0m \u001b[0mcopy\u001b[0m\u001b[0;34m=\u001b[0m\u001b[0;32mFalse\u001b[0m\u001b[0;34m,\u001b[0m \u001b[0morder\u001b[0m\u001b[0;34m=\u001b[0m\u001b[0morder\u001b[0m\u001b[0;34m)\u001b[0m\u001b[0;34m\u001b[0m\u001b[0;34m\u001b[0m\u001b[0m\n\u001b[0m\u001b[1;32m     84\u001b[0m \u001b[0;34m\u001b[0m\u001b[0m\n\u001b[1;32m     85\u001b[0m \u001b[0;34m\u001b[0m\u001b[0m\n",
      "\u001b[0;32m~/anaconda3/envs/ml_env/lib/python3.7/site-packages/pandas/core/generic.py\u001b[0m in \u001b[0;36m__array__\u001b[0;34m(self, dtype)\u001b[0m\n\u001b[1;32m   1779\u001b[0m \u001b[0;34m\u001b[0m\u001b[0m\n\u001b[1;32m   1780\u001b[0m     \u001b[0;32mdef\u001b[0m \u001b[0m__array__\u001b[0m\u001b[0;34m(\u001b[0m\u001b[0mself\u001b[0m\u001b[0;34m,\u001b[0m \u001b[0mdtype\u001b[0m\u001b[0;34m=\u001b[0m\u001b[0;32mNone\u001b[0m\u001b[0;34m)\u001b[0m \u001b[0;34m->\u001b[0m \u001b[0mnp\u001b[0m\u001b[0;34m.\u001b[0m\u001b[0mndarray\u001b[0m\u001b[0;34m:\u001b[0m\u001b[0;34m\u001b[0m\u001b[0;34m\u001b[0m\u001b[0m\n\u001b[0;32m-> 1781\u001b[0;31m         \u001b[0;32mreturn\u001b[0m \u001b[0mnp\u001b[0m\u001b[0;34m.\u001b[0m\u001b[0masarray\u001b[0m\u001b[0;34m(\u001b[0m\u001b[0mself\u001b[0m\u001b[0;34m.\u001b[0m\u001b[0m_values\u001b[0m\u001b[0;34m,\u001b[0m \u001b[0mdtype\u001b[0m\u001b[0;34m=\u001b[0m\u001b[0mdtype\u001b[0m\u001b[0;34m)\u001b[0m\u001b[0;34m\u001b[0m\u001b[0;34m\u001b[0m\u001b[0m\n\u001b[0m\u001b[1;32m   1782\u001b[0m \u001b[0;34m\u001b[0m\u001b[0m\n\u001b[1;32m   1783\u001b[0m     \u001b[0;32mdef\u001b[0m \u001b[0m__array_wrap__\u001b[0m\u001b[0;34m(\u001b[0m\u001b[0mself\u001b[0m\u001b[0;34m,\u001b[0m \u001b[0mresult\u001b[0m\u001b[0;34m,\u001b[0m \u001b[0mcontext\u001b[0m\u001b[0;34m=\u001b[0m\u001b[0;32mNone\u001b[0m\u001b[0;34m)\u001b[0m\u001b[0;34m:\u001b[0m\u001b[0;34m\u001b[0m\u001b[0;34m\u001b[0m\u001b[0m\n",
      "\u001b[0;32m~/anaconda3/envs/ml_env/lib/python3.7/site-packages/numpy/core/_asarray.py\u001b[0m in \u001b[0;36masarray\u001b[0;34m(a, dtype, order)\u001b[0m\n\u001b[1;32m     81\u001b[0m \u001b[0;34m\u001b[0m\u001b[0m\n\u001b[1;32m     82\u001b[0m     \"\"\"\n\u001b[0;32m---> 83\u001b[0;31m     \u001b[0;32mreturn\u001b[0m \u001b[0marray\u001b[0m\u001b[0;34m(\u001b[0m\u001b[0ma\u001b[0m\u001b[0;34m,\u001b[0m \u001b[0mdtype\u001b[0m\u001b[0;34m,\u001b[0m \u001b[0mcopy\u001b[0m\u001b[0;34m=\u001b[0m\u001b[0;32mFalse\u001b[0m\u001b[0;34m,\u001b[0m \u001b[0morder\u001b[0m\u001b[0;34m=\u001b[0m\u001b[0morder\u001b[0m\u001b[0;34m)\u001b[0m\u001b[0;34m\u001b[0m\u001b[0;34m\u001b[0m\u001b[0m\n\u001b[0m\u001b[1;32m     84\u001b[0m \u001b[0;34m\u001b[0m\u001b[0m\n\u001b[1;32m     85\u001b[0m \u001b[0;34m\u001b[0m\u001b[0m\n",
      "\u001b[0;31mValueError\u001b[0m: could not convert string to float: '2020-07-28T07:09:40.569Z'"
     ]
    }
   ],
   "source": [
    "from sklearn.ensemble import ExtraTreesClassifier\n",
    "\n",
    "model_fi = ExtraTreesClassifier()\n",
    "model_fi.fit(X,y)\n",
    "#print(model.feature_importances_) #use inbuilt class feature_importances of tree based classifiers\n",
    "\n",
    "#plot graph of feature importances for better visualization\n",
    "feat_importances = pd.Series(model_fi.feature_importances_, index=X.columns)\n",
    "feat_importances.sort_values(ascending=True).nlargest(14).plot(kind='barh')\n",
    "plt.show()"
   ]
  },
  {
   "cell_type": "code",
   "execution_count": 193,
   "metadata": {},
   "outputs": [
    {
     "ename": "NameError",
     "evalue": "name 'feat_importances' is not defined",
     "output_type": "error",
     "traceback": [
      "\u001b[0;31m---------------------------------------------------------------------------\u001b[0m",
      "\u001b[0;31mNameError\u001b[0m                                 Traceback (most recent call last)",
      "\u001b[0;32m<ipython-input-193-e0d66aa80338>\u001b[0m in \u001b[0;36m<module>\u001b[0;34m\u001b[0m\n\u001b[1;32m     10\u001b[0m \u001b[0mmax_score_fi\u001b[0m \u001b[0;34m=\u001b[0m \u001b[0mlist\u001b[0m\u001b[0;34m(\u001b[0m\u001b[0;34m)\u001b[0m\u001b[0;34m\u001b[0m\u001b[0;34m\u001b[0m\u001b[0m\n\u001b[1;32m     11\u001b[0m \u001b[0;32mfor\u001b[0m \u001b[0mi\u001b[0m \u001b[0;32min\u001b[0m \u001b[0mrange\u001b[0m\u001b[0;34m(\u001b[0m\u001b[0;36m1\u001b[0m\u001b[0;34m,\u001b[0m\u001b[0mX\u001b[0m\u001b[0;34m.\u001b[0m\u001b[0mshape\u001b[0m\u001b[0;34m[\u001b[0m\u001b[0;36m1\u001b[0m\u001b[0;34m]\u001b[0m\u001b[0;34m+\u001b[0m\u001b[0;36m1\u001b[0m\u001b[0;34m)\u001b[0m\u001b[0;34m:\u001b[0m\u001b[0;34m\u001b[0m\u001b[0;34m\u001b[0m\u001b[0m\n\u001b[0;32m---> 12\u001b[0;31m         \u001b[0mscores\u001b[0m \u001b[0;34m=\u001b[0m \u001b[0mevaluate_model\u001b[0m\u001b[0;34m(\u001b[0m\u001b[0mmodel_eval\u001b[0m\u001b[0;34m,\u001b[0m \u001b[0mX\u001b[0m\u001b[0;34m[\u001b[0m\u001b[0mfeat_importances\u001b[0m\u001b[0;34m.\u001b[0m\u001b[0mnlargest\u001b[0m\u001b[0;34m(\u001b[0m\u001b[0mi\u001b[0m\u001b[0;34m)\u001b[0m\u001b[0;34m.\u001b[0m\u001b[0mindex\u001b[0m\u001b[0;34m]\u001b[0m\u001b[0;34m,\u001b[0m \u001b[0my\u001b[0m\u001b[0;34m)\u001b[0m\u001b[0;34m\u001b[0m\u001b[0;34m\u001b[0m\u001b[0m\n\u001b[0m\u001b[1;32m     13\u001b[0m         \u001b[0mresults_fi\u001b[0m\u001b[0;34m.\u001b[0m\u001b[0mappend\u001b[0m\u001b[0;34m(\u001b[0m\u001b[0mscores\u001b[0m\u001b[0;34m)\u001b[0m\u001b[0;34m\u001b[0m\u001b[0;34m\u001b[0m\u001b[0m\n\u001b[1;32m     14\u001b[0m         \u001b[0mmax_score_fi\u001b[0m\u001b[0;34m.\u001b[0m\u001b[0mappend\u001b[0m\u001b[0;34m(\u001b[0m\u001b[0mmean\u001b[0m\u001b[0;34m(\u001b[0m\u001b[0mscores\u001b[0m\u001b[0;34m)\u001b[0m\u001b[0;34m)\u001b[0m\u001b[0;34m\u001b[0m\u001b[0;34m\u001b[0m\u001b[0m\n",
      "\u001b[0;31mNameError\u001b[0m: name 'feat_importances' is not defined"
     ]
    }
   ],
   "source": [
    "# evaluate a given model using cross-validation\n",
    "def evaluate_model(model, X, y):\n",
    "    cv = RepeatedStratifiedKFold(n_splits=10, n_repeats=3, random_state=42)\n",
    "    scores = cross_val_score(model, X, y, scoring='accuracy', cv=cv, n_jobs=-1, error_score='raise')\n",
    "    return scores\n",
    "\n",
    "model_eval = LogisticRegression()\n",
    "\n",
    "results_fi = list()\n",
    "max_score_fi = list()\n",
    "for i in range(1,X.shape[1]+1):\n",
    "        scores = evaluate_model(model_eval, X[feat_importances.nlargest(i).index], y)\n",
    "        results_fi.append(scores)\n",
    "        max_score_fi.append(mean(scores))\n",
    "        #print('> %s) %.3f (%.3f)' % (i, mean(scores), std(scores)))"
   ]
  },
  {
   "cell_type": "code",
   "execution_count": null,
   "metadata": {},
   "outputs": [],
   "source": [
    "feat_df = pd.DataFrame(list(zip(range(1,X.shape[1]+1), max_score_fi)), \n",
    "               columns =['# Features', 'Score']) \n",
    "feat_df[feat_df['Score'] == feat_df['Score'].max()]"
   ]
  },
  {
   "cell_type": "code",
   "execution_count": null,
   "metadata": {},
   "outputs": [],
   "source": [
    "no_of_features = [str(i) for i in range(1,X.shape[1]+1)]\n",
    "# plot model performance for comparison\n",
    "plt.figure(figsize=(8,6))\n",
    "plt.boxplot(results_fi, labels=no_of_features, showmeans=True)\n",
    "plt.xticks(rotation=75)\n",
    "plt.title('No. of features vs. Average Accuracy')\n",
    "plt.show()"
   ]
  },
  {
   "cell_type": "markdown",
   "metadata": {},
   "source": [
    "### 3. Correlation Matrix with Heatmap"
   ]
  },
  {
   "cell_type": "raw",
   "metadata": {},
   "source": [
    "#get correlations of each features in dataset\n",
    "corrmat = gcr_data.corr()\n",
    "top_corr_features = corrmat.index\n",
    "plt.figure(figsize=(20,20))\n",
    "\n",
    "#plot heat map\n",
    "g=sns.heatmap(gcr_data[top_corr_features].corr(), annot=False, cmap=\"RdYlGn\")"
   ]
  },
  {
   "cell_type": "markdown",
   "metadata": {},
   "source": [
    "### 4. Recursive Feature Elimination (RFE)"
   ]
  },
  {
   "cell_type": "code",
   "execution_count": null,
   "metadata": {},
   "outputs": [],
   "source": [
    "# get a list of models to evaluate\n",
    "def get_models():\n",
    "    models = dict()\n",
    "    # lr\n",
    "    rfe = RFE(estimator=LogisticRegression(), n_features_to_select=5)\n",
    "    model = LogisticRegression()\n",
    "    models['lr'] = Pipeline(steps=[('s',rfe),('m',model)])\n",
    "    # perceptron\n",
    "    rfe = RFE(estimator=Perceptron(), n_features_to_select=5)\n",
    "    model = LogisticRegression()\n",
    "    models['per'] = Pipeline(steps=[('s',rfe),('m',model)])\n",
    "    # cart\n",
    "    rfe = RFE(estimator=DecisionTreeClassifier(), n_features_to_select=5)\n",
    "    model = LogisticRegression()\n",
    "    models['cart'] = Pipeline(steps=[('s',rfe),('m',model)])\n",
    "    # rf\n",
    "    rfe = RFE(estimator=RandomForestClassifier(), n_features_to_select=5)\n",
    "    model = LogisticRegression()\n",
    "    models['rf'] = Pipeline(steps=[('s',rfe),('m',model)])\n",
    "    # gbm\n",
    "    rfe = RFE(estimator=GradientBoostingClassifier(), n_features_to_select=5)\n",
    "    model = LogisticRegression()\n",
    "    models['gbm'] = Pipeline(steps=[('s',rfe),('m',model)])\n",
    "    return models\n",
    " \n",
    "# evaluate a give model using cross-validation\n",
    "def evaluate_model(model, X, y):\n",
    "    cv = RepeatedStratifiedKFold(n_splits=10, n_repeats=3, random_state=1)\n",
    "    scores = cross_val_score(model, X, y, scoring='accuracy', cv=cv, n_jobs=-1)\n",
    "    return scores"
   ]
  },
  {
   "cell_type": "code",
   "execution_count": null,
   "metadata": {},
   "outputs": [],
   "source": [
    "# get the models to evaluate\n",
    "models = get_models()\n",
    "# evaluate the models and store results\n",
    "results, names = list(), list()\n",
    "for name, model in models.items():\n",
    "    scores = evaluate_model(model, X, y)\n",
    "    results.append(scores)\n",
    "    names.append(name)\n",
    "    print('>%s %.3f (%.3f)' % (name, mean(scores), std(scores)))"
   ]
  },
  {
   "cell_type": "code",
   "execution_count": null,
   "metadata": {},
   "outputs": [],
   "source": [
    "# plot model performance for comparison\n",
    "plt.boxplot(results, labels=names, showmeans=True)\n",
    "plt.title('RFE Estimator vs. Average Accuracy')\n",
    "plt.show()"
   ]
  },
  {
   "cell_type": "code",
   "execution_count": null,
   "metadata": {},
   "outputs": [],
   "source": [
    "# get a list of models to evaluate\n",
    "def get_models():\n",
    "    models = dict()\n",
    "    for i in range(2, X.shape[1]+1):\n",
    "        rfe = RFE(estimator=Perceptron(), n_features_to_select=i)\n",
    "        model = LogisticRegression()\n",
    "        models[str(i)] = Pipeline(steps=[('s',rfe),('m',model)])\n",
    "    return models\n",
    "\n",
    "# evaluate a give model using cross-validation\n",
    "def evaluate_model(model, X, y):\n",
    "    cv = RepeatedStratifiedKFold(n_splits=10, n_repeats=3, random_state=42)\n",
    "    scores = cross_val_score(model, X, y, scoring='accuracy', cv=cv, n_jobs=-1, error_score='raise')\n",
    "    return scores\n",
    "\n",
    "# get the models to evaluate\n",
    "models = get_models()\n",
    "# evaluate the models and store results\n",
    "results_rfe, names, max_score_rfe = list(), list(), list()\n",
    "for name, model in models.items():\n",
    "    scores = evaluate_model(model, X, y)\n",
    "    results_rfe.append(scores)\n",
    "    max_score_rfe.append(mean(scores))\n",
    "    names.append(name)\n",
    "    #print('> %s) %.3f (%.3f)' % (name, mean(scores), std(scores)))"
   ]
  },
  {
   "cell_type": "code",
   "execution_count": null,
   "metadata": {},
   "outputs": [],
   "source": [
    "rfe_df = pd.DataFrame(list(zip(range(1,X.shape[1]+1), max_score_rfe)), \n",
    "               columns =['# Features', 'Score']) \n",
    "rfe_df[rfe_df['Score'] == rfe_df['Score'].max()]"
   ]
  },
  {
   "cell_type": "code",
   "execution_count": null,
   "metadata": {},
   "outputs": [],
   "source": [
    "# plot model performance for comparison\n",
    "plt.figure(figsize=(8,6))\n",
    "plt.boxplot(results_rfe, labels=names, showmeans=True)\n",
    "plt.xticks(rotation=75)\n",
    "plt.title('No. of features vs. Average Accuracy')\n",
    "plt.show()"
   ]
  },
  {
   "cell_type": "markdown",
   "metadata": {},
   "source": [
    "#### Suppressing any warnings"
   ]
  },
  {
   "cell_type": "code",
   "execution_count": null,
   "metadata": {},
   "outputs": [],
   "source": [
    "# Suppress warnings about too few trees from the early models\n",
    "import warnings\n",
    "warnings.filterwarnings(\"ignore\", category=UserWarning)\n",
    "warnings.filterwarnings(\"ignore\", category=RuntimeWarning)"
   ]
  },
  {
   "cell_type": "code",
   "execution_count": null,
   "metadata": {},
   "outputs": [],
   "source": [
    "# define RFE\n",
    "rfe = RFE(estimator=LogisticRegression(), n_features_to_select=15)\n",
    "# fit RFE\n",
    "rfe.fit(X, y)\n",
    "# summarize all features\n",
    "for i in range(X.shape[1]):\n",
    "    print('Column: %d, Selected %s, Rank: %.3f' % (i, rfe.support_[i], rfe.ranking_[i]))"
   ]
  },
  {
   "cell_type": "code",
   "execution_count": null,
   "metadata": {},
   "outputs": [],
   "source": []
  }
 ],
 "metadata": {
  "kernelspec": {
   "display_name": "Python 3",
   "language": "python",
   "name": "python3"
  },
  "language_info": {
   "codemirror_mode": {
    "name": "ipython",
    "version": 3
   },
   "file_extension": ".py",
   "mimetype": "text/x-python",
   "name": "python",
   "nbconvert_exporter": "python",
   "pygments_lexer": "ipython3",
   "version": "3.7.8"
  }
 },
 "nbformat": 4,
 "nbformat_minor": 4
}
